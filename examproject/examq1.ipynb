{
 "cells": [
  {
   "cell_type": "markdown",
   "metadata": {},
   "source": [
    "Problem 1: Production economy and CO2 taxation"
   ]
  },
  {
   "cell_type": "code",
   "execution_count": 5,
   "metadata": {},
   "outputs": [],
   "source": [
    "from types import SimpleNamespace\n",
    "import numpy as np\n",
    "from scipy.optimize import minimize, root\n",
    "import pandas as pd\n",
    "import matplotlib.pyplot as plt\n"
   ]
  },
  {
   "cell_type": "code",
   "execution_count": 6,
   "metadata": {},
   "outputs": [],
   "source": [
    "par = SimpleNamespace()\n",
    "# firms\n",
    "par.A = 1.0\n",
    "par.gamma = 0.5\n",
    "# households\n",
    "par.alpha = 0.3\n",
    "par.nu = 1.0\n",
    "par.epsilon = 2.0\n",
    "# government\n",
    "par.tau = 0.0\n",
    "par.T = 0.0\n",
    "# Question 3\n",
    "par.kappa = 0.1\n",
    "\n",
    "#Set w = 1 as numearie\n",
    "par.w = 1"
   ]
  },
  {
   "cell_type": "markdown",
   "metadata": {},
   "source": [
    "Define model"
   ]
  },
  {
   "cell_type": "code",
   "execution_count": 7,
   "metadata": {},
   "outputs": [],
   "source": [
    "\n",
    "def l1_star(par, p1):\n",
    "    return (p1 * par.A * par.gamma/par.w)**(1 / (1 - par.gamma)) \n",
    "\n",
    "def l2_star(par, p2):\n",
    "    return (p2 * par.A * par.gamma/par.w)**(1 / (1 - par.gamma))\n",
    "\n",
    "def y1_star(par, l1):\n",
    "    return par.A * (l1_star(par,p1))**par.gamma\n",
    "\n",
    "def y2_star(par, l2):\n",
    "    return par.A * (l2_star(par,p2))**par.gamma\n",
    "\n",
    "def pi1_star(par, p1):\n",
    "    return ((1 - par.gamma) / par.gamma) * par.w * (p1 * par.A * par.gamma / par.w)**(1 / (1 - par.gamma))\n",
    "\n",
    "def pi2_star(par, p2):\n",
    "    return ((1 - par.gamma) / par.gamma) * par.w * (p2 * par.A * par.gamma / par.w)**(1 / (1 - par.gamma))\n",
    "\n",
    "def c1(l, par, p1, p2):\n",
    "    return par.alpha * ((par.w * l + par.T + pi1_star(par, p1) + pi2_star(par, p2)) / p1)\n",
    "\n",
    "def c2(l, par, p1, p2):\n",
    "    return (1 - par.alpha) * ((par.w * l + par.T + pi1_star(par, p1) + pi2_star(par, p2)) / (p2 + par.tau))\n",
    "\n",
    "def l_star(par, p1, p2, initial_guess=0.1):\n",
    "    def negative_objective(l):\n",
    "        c1_val = c1(l, par, p1, p2)\n",
    "        c2_val = c2(l, par, p1, p2)\n",
    "        if c1_val <= 0 or c2_val <= 0:\n",
    "            return np.inf  # Penalize invalid solutions\n",
    "        return -(np.log((c1_val)**par.alpha * (c2_val)**(1 - par.alpha)) - par.nu * l**(1 + par.epsilon) / (1 + par.epsilon))\n",
    "\n",
    "    result = minimize(negative_objective, initial_guess, method='BFGS')\n",
    "\n",
    "    # Extract the optimal value of l\n",
    "    l_star_value = result.x[0]\n",
    "\n",
    "    return l_star_value\n",
    "\n",
    "\n",
    "def c1_star(l_star_value, par, p1, p2):\n",
    "    return c1(l_star_value, par, p1, p2)\n",
    "\n",
    "def c2_star(l_star_value, par, p1, p2):\n",
    "    return c2(l_star_value, par, p1, p2)\n",
    "\n"
   ]
  },
  {
   "cell_type": "markdown",
   "metadata": {},
   "source": [
    "Define excess demand"
   ]
  },
  {
   "cell_type": "code",
   "execution_count": 8,
   "metadata": {},
   "outputs": [],
   "source": [
    "def excessdemand_labor(par, p1, p2):\n",
    "    l1 = l1_star(par, p1)\n",
    "    l2 = l2_star(par, p2)\n",
    "    l_opt = l_star(par, p1, p2)\n",
    "    return l1 + l2 - l_opt\n",
    "\n",
    "\n",
    "def excessdemand_goodmarket1(par, p1, p2):\n",
    "    l1 = l1_star(par, p1)\n",
    "    y1 = y1_star(par, l1)\n",
    "    l_opt = l_star(par, p1, p2)\n",
    "    c1_opt = c1_star(l_opt, par, p1, p2)\n",
    "    return y1 - c1_opt\n",
    "\n",
    "def excessdemand_goodmarket2(par, p1, p2):\n",
    "    l2 = l2_star(par, p2)\n",
    "    y2 = y2_star(par, l2)\n",
    "    l_opt = l_star(par, p1, p2)\n",
    "    c2_opt = c2_star(l_opt, par, p1, p2)\n",
    "    return y2 - c2_opt"
   ]
  },
  {
   "cell_type": "markdown",
   "metadata": {},
   "source": [
    "Find the excess demand for different p1 and p2 values"
   ]
  },
  {
   "cell_type": "code",
   "execution_count": 9,
   "metadata": {},
   "outputs": [
    {
     "name": "stdout",
     "output_type": "stream",
     "text": [
      "       p1     p2  Excess Labor  Excess Goods Market 1  Excess Goods Market 2\n",
      "0  0.1000 0.1000       -0.9933                -2.9600                -6.9734\n",
      "1  0.1000 0.3111       -0.9645                -3.0036                -2.1347\n",
      "2  0.1000 0.5222       -0.9063                -3.0930                -1.1432\n",
      "3  0.1000 0.7333       -0.8194                -3.2300                -0.6770\n",
      "4  0.1000 0.9444       -0.7047                -3.4171                -0.3844\n",
      "..    ...    ...           ...                    ...                    ...\n",
      "95 2.0000 1.1556        0.6328                 0.6948                -0.6549\n",
      "96 2.0000 1.3667        0.7848                 0.6776                -0.4174\n",
      "97 2.0000 1.5778        0.9607                 0.6574                -0.2244\n",
      "98 2.0000 1.7889        1.1599                 0.6340                -0.0604\n",
      "99 2.0000 2.0000        1.3820                 0.6073                 0.0837\n",
      "\n",
      "[100 rows x 5 columns]\n",
      "Indices where sign changes: Index([40, 46, 50], dtype='int64')\n",
      "Values at these indices:\n",
      "       p1     p2  Excess Labor  Excess Goods Market 1  Excess Goods Market 2\n",
      "40 0.9444 0.1000       -0.7047                 0.1051                -8.0399\n",
      "46 0.9444 1.3667       -0.1252                -0.0059                -0.0876\n",
      "50 1.1556 0.1000       -0.5632                 0.2569                -8.6010\n"
     ]
    }
   ],
   "source": [
    "\n",
    "# Define ranges for p1 and p2\n",
    "p1_values = np.linspace(0.1, 2.0, 10)\n",
    "p2_values = np.linspace(0.1, 2.0, 10)\n",
    "\n",
    "# Initialize lists to store results\n",
    "results = []\n",
    "\n",
    "# Compute excess demands for each combination of p1 and p2\n",
    "for p1 in p1_values:\n",
    "    for p2 in p2_values:\n",
    "        excess_labor = excessdemand_labor(par, p1, p2)\n",
    "        excess_goodsmarket1 = excessdemand_goodmarket1(par, p1, p2)\n",
    "        excess_goodsmarket2 = excessdemand_goodmarket2(par, p1, p2)\n",
    "        results.append((p1, p2, excess_labor, excess_goodsmarket1, excess_goodsmarket2))\n",
    "\n",
    "# Create a DataFrame for better readability\n",
    "df_results = pd.DataFrame(results, columns=['p1', 'p2', 'Excess Labor', 'Excess Goods Market 1', 'Excess Goods Market 2'])\n",
    "\n",
    "# Display the DataFrame\n",
    "pd.set_option('display.float_format', lambda x: '%.4f' % x)\n",
    "print(df_results)\n",
    "\n",
    "# Find the indices where the sign changes\n",
    "sign_changes = df_results['Excess Goods Market 1'].apply(np.sign).diff().ne(0)\n",
    "\n",
    "# Filter the indices where the sign changes (excluding the first row, as diff() makes the first value NaN)\n",
    "sign_change_indices = df_results[sign_changes].index[1:]\n",
    "\n",
    "print(\"Indices where sign changes:\", sign_change_indices)\n",
    "print(\"Values at these indices:\")\n",
    "print(df_results.loc[sign_change_indices])"
   ]
  },
  {
   "cell_type": "markdown",
   "metadata": {},
   "source": [
    "**Question 2: Find p1 and p2**"
   ]
  },
  {
   "cell_type": "code",
   "execution_count": 10,
   "metadata": {},
   "outputs": [
    {
     "name": "stdout",
     "output_type": "stream",
     "text": [
      "Equilibrium p1: 1.3924, Equilibrium p2: 1.1110\n",
      "Best initial guess: [0.5, 0.5]\n"
     ]
    }
   ],
   "source": [
    "# Define the objective function for finding equilibrium prices\n",
    "def objectiveprice(p, par):\n",
    "    p1, p2 = p\n",
    "    excess_labor = excessdemand_labor(par, p1, p2)\n",
    "    excess_goodsmarket2 = excessdemand_goodmarket2(par, p1, p2)\n",
    "    return excess_labor**2 + excess_goodsmarket2**2 #check that labor market clears and good market 2 clears\n",
    "\n",
    "# List initial guesses in the space to see which would be best\n",
    "initial_guesses = [\n",
    "    [0.5, 0.5],\n",
    "    [1, 1],\n",
    "    [1.5, 1.5],\n",
    "    [0.1, 0.1],\n",
    "    [2.0, 2.0]\n",
    "]\n",
    "\n",
    "best_result = None\n",
    "best_objective_value = np.inf\n",
    "best_initial_guess = None\n",
    "\n",
    "\n",
    "# Try initial guesses and find the best result with lowest objective value\n",
    "for initial_guess in initial_guesses:\n",
    "    result = minimize(objectiveprice, initial_guess, args=(par,), bounds=[(0.1, 2.0), (0.1, 2.0)])\n",
    "    if result.fun < best_objective_value:\n",
    "        best_result = result\n",
    "        best_objective_value = result.fun\n",
    "        best_initial_guess = initial_guess\n",
    "\n",
    "equilibrium_p1, equilibrium_p2 = best_result.x\n",
    "\n",
    "#Print results for equilibrium prices and the initial guess that gave the best result\n",
    "print(f\"Equilibrium p1: {equilibrium_p1:.4f}, Equilibrium p2: {equilibrium_p2:.4f}\")\n",
    "print(f\"Best initial guess: {best_initial_guess}\")"
   ]
  },
  {
   "cell_type": "markdown",
   "metadata": {},
   "source": [
    "We will now try to plot the optimal behaviour:"
   ]
  },
  {
   "cell_type": "markdown",
   "metadata": {},
   "source": [
    "**Question 3: What values of tau and T should the government choose to maximize SWF?**"
   ]
  },
  {
   "cell_type": "code",
   "execution_count": 50,
   "metadata": {},
   "outputs": [],
   "source": [
    "\n",
    "def utility():\n",
    "\n",
    "    def objec_3(c1, c2, l, p1, p2, par):\n",
    "        consumption = log(c1(par, l, p1, p2)**par.alpha*c2(par, l, p1,p2)**(1-par.alpha))\n",
    "        work = par.nu*l**(1-par.epsilon)/(1+par.epsilon)\n",
    "        u = -(consumption - work)\n",
    "\n",
    "    # Define the budget constraint\n",
    "    constraint = p1 * c1 + (p2 + tau) * c2 - (w * ell + T + pi1_star + pi2_star)\n",
    "\n",
    "    # Initial guess is [0.5,0.5] from before\n",
    "    x0 = [0.5, 0.5]\n",
    "    \n",
    "    \n",
    "\n",
    "    # Minimize the objective function with the constraint\n",
    "    result = minimize(objec_3, x0, constraints={'type': 'eq', 'fun': constraint, 'args': (params['p1'], params['p2'], params['w'], params['tau'], params['T'], params['alpha'], params['nu'], params['epsilon'], params['pi1_star'], params['pi2_star'])})\n",
    "\n",
    "    # Print the results\n",
    "    print(\"Optimization Result:\", result)\n",
    "    print(f\"c1: {result.x[0]}, c2: {result.x[1]}, ell: {result.x[2]}\")\n",
    "\n",
    "\n",
    "\n",
    "\n",
    "def SWF(U, par, y2_star):\n",
    "\n",
    "    return U - par.kappa * y2_star\n"
   ]
  },
  {
   "cell_type": "markdown",
   "metadata": {},
   "source": [
    "mangler"
   ]
  },
  {
   "cell_type": "code",
   "execution_count": 11,
   "metadata": {},
   "outputs": [
    {
     "ename": "SyntaxError",
     "evalue": "invalid syntax (4143921113.py, line 11)",
     "output_type": "error",
     "traceback": [
      "\u001b[0;36m  Cell \u001b[0;32mIn[11], line 11\u001b[0;36m\u001b[0m\n\u001b[0;31m    par.tau =\u001b[0m\n\u001b[0m              ^\u001b[0m\n\u001b[0;31mSyntaxError\u001b[0m\u001b[0;31m:\u001b[0m invalid syntax\n"
     ]
    }
   ],
   "source": [
    "#redefine parameters\n",
    "par = SimpleNamespace()\n",
    "# firms\n",
    "par.A = 1.0\n",
    "par.gamma = 0.5\n",
    "# households\n",
    "par.alpha = 0.3\n",
    "par.nu = 1.0\n",
    "par.epsilon = 2.0\n",
    "# government\n",
    "par.tau = \n",
    "par.T = \n",
    "# Question 3\n",
    "par.kappa = 0.1\n",
    "\n",
    "#Set w = 1 as numearie\n",
    "par.w = 1\n",
    "\n",
    "\n",
    "def utility2(l_star, par, p1, p2):\n",
    "    c1 = c1_star(l_star, par, p1, p2)\n",
    "    c2 = c2_star(l_star, par, p1, p2)\n",
    "    return np.log(c1 ** par.alpha * c2 ** (1 - par.alpha)) - par.nu * l_star ** (1 + par.epsilon) / (1 + par.epsilon)\n",
    "\n",
    "def social_welfare(vars, par, p1, p2):\n",
    "    tau, T = vars\n",
    "    l1_s=(p1 * par.A * par.gamma/par.w)**(1 / (1 - par.gamma))\n",
    "    l2_s=(p2 * par.A * par.gamma/par.w)**(1 / (1 - par.gamma))\n",
    "    l_star = l1_s + l2_s\n",
    "    y2_s = par.A * (l2_s)**par.gamma\n",
    "    U = utility2(l_star, par, p1, p2)\n",
    "    SWF = U - par.kappa * y2_s\n",
    "    return -SWF  # We minimize the negative SWF to maximize SWF\n",
    "\n",
    "# Optimization to find optimal tau and T\n",
    "initial_guess = [0.5, 0.5]\n",
    "bounds = [(0, None), (0, None)]  # tau and T must be non-negative\n",
    "\n",
    "# Set prices p1 and p2 as given\n",
    "p1 = equilibrium_p1\n",
    "p2 = equilibrium_p2\n",
    "\n",
    "result = minimize(social_welfare, initial_guess, args=(par, p1, p2), bounds=bounds, method='SLSQP')\n",
    "\n",
    "optimal_tau, optimal_T = result.x\n",
    "\n",
    "print(f\"Optimal CO2 tax (tau): {optimal_tau:.4f}\")\n",
    "def utility(l_star, par, p1, p2, tau, T):\n",
    "    c1 = c1_star(l_star, par, p1, p2, tau, T)\n",
    "    c2 = c2_star(l_star, par, p1, p2, tau, T)\n",
    "    return np.log(c1 ** par.alpha * c2 ** (1 - par.alpha)) - par.nu * l_star ** (1 + par.epsilon) / (1 + par.epsilon)\n",
    "print(f\"Optimal lump-sum transfer (T): {optimal_T:.4f}\")"
   ]
  },
  {
   "cell_type": "code",
   "execution_count": 22,
   "metadata": {},
   "outputs": [
    {
     "name": "stdout",
     "output_type": "stream",
     "text": [
      "Optimal tau: 0.0000, Optimal T: 18064837.7691\n"
     ]
    }
   ],
   "source": [
    "import numpy as np\n",
    "from scipy.optimize import minimize\n",
    "from types import SimpleNamespace\n",
    "\n",
    "# Define parameters\n",
    "par = SimpleNamespace()\n",
    "par.A = 1.0\n",
    "par.gamma = 0.5\n",
    "par.alpha = 0.3\n",
    "par.nu = 1.0\n",
    "par.epsilon = 2.0\n",
    "par.T = 0.0\n",
    "par.kappa = 0.1\n",
    "par.w = 1  # Set w = 1 as numeraire\n",
    "par.tau = 0.0  # Default value of tau\n",
    "\n",
    "# Firm behavior functions\n",
    "def l_star_firm(par, p, tau):\n",
    "    return (p * par.A * par.gamma / par.w) ** (1 / (1 - par.gamma))\n",
    "\n",
    "def y_star_firm(par, p, tau):\n",
    "    return par.A * (l_star_firm(par, p, tau)) ** par.gamma\n",
    "\n",
    "def pi_star_firm(par, p, tau):\n",
    "    return ((1 - par.gamma) / par.gamma) * par.w * (p * par.A * par.gamma / par.w) ** (1 / (1 - par.gamma))\n",
    "\n",
    "# Consumer utility and social welfare functions\n",
    "def c1_star(l_star, par, p1, p2, tau, T):\n",
    "    return par.alpha * ((par.w * l_star + T + pi_star_firm(par, p1, tau) + pi_star_firm(par, p2, tau)) / p1)\n",
    "\n",
    "def c2_star(l_star, par, p1, p2, tau, T):\n",
    "    return (1 - par.alpha) * ((par.w * l_star + T + pi_star_firm(par, p1, tau) + pi_star_firm(par, p2, tau)) / (p2 + tau))\n",
    "\n",
    "def utility(l_star, par, p1, p2, tau, T):\n",
    "    c1 = c1_star(l_star, par, p1, p2, tau, T)\n",
    "    c2 = c2_star(l_star, par, p1, p2, tau, T)\n",
    "    return np.log(c1 ** par.alpha * c2 ** (1 - par.alpha)) - par.nu * l_star ** (1 + par.epsilon) / (1 + par.epsilon)\n",
    "\n",
    "def social_welfare(vars, par, p1, p2, optimize_tau=False):\n",
    "    if optimize_tau:\n",
    "        tau, T = vars\n",
    "    else:\n",
    "        T = vars[0]\n",
    "        tau = par.tau  # Use fixed tau from par\n",
    "    \n",
    "    l_star1 = l_star_firm(par, p1, tau)\n",
    "    l_star2 = l_star_firm(par, p2, tau)\n",
    "    l_star_total = l_star1 + l_star2\n",
    "    y2_star = y_star_firm(par, p2, tau)\n",
    "    U = utility(l_star_total, par, p1, p2, tau, T)\n",
    "    SWF = U - par.kappa * y2_star\n",
    "    return -SWF  # We minimize the negative SWF to maximize SWF\n",
    "\n",
    "\n",
    "# Function to optimize both tau and T\n",
    "def optimize_tau_and_T(par, p1, p2):\n",
    "    initial_guess = [0.1, 0.1]\n",
    "    bounds = [(0, None), (0, None)]\n",
    "    result = minimize(social_welfare, initial_guess, args=(par, p1, p2, True), bounds=bounds, method='SLSQP')\n",
    "    if result.success:\n",
    "        return result.x\n",
    "    else:\n",
    "        print(\"Optimization failed:\", result.message)\n",
    "        return None\n",
    "\n",
    "# Example usage\n",
    "p1 = 1.0\n",
    "p2 = 1.0\n",
    "\n",
    "# Optimize both tau and T\n",
    "optimal_tau_T = optimize_tau_and_T(par, p1, p2)\n",
    "if optimal_tau_T is not None:\n",
    "    print(f\"Optimal tau: {optimal_tau_T[0]:.4f}, Optimal T: {optimal_tau_T[1]:.4f}\")\n"
   ]
  }
 ],
 "metadata": {
  "kernelspec": {
   "display_name": "base",
   "language": "python",
   "name": "python3"
  },
  "language_info": {
   "codemirror_mode": {
    "name": "ipython",
    "version": 3
   },
   "file_extension": ".py",
   "mimetype": "text/x-python",
   "name": "python",
   "nbconvert_exporter": "python",
   "pygments_lexer": "ipython3",
   "version": "3.11.7"
  }
 },
 "nbformat": 4,
 "nbformat_minor": 2
}
