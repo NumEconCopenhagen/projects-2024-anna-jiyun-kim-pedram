{
 "cells": [
  {
   "cell_type": "markdown",
   "metadata": {},
   "source": [
    "Problem 1: Production economy and CO2 taxation"
   ]
  },
  {
   "cell_type": "code",
   "execution_count": 1,
   "metadata": {},
   "outputs": [],
   "source": [
    "from types import SimpleNamespace\n",
    "import numpy as np\n",
    "from scipy.optimize import minimize, root"
   ]
  },
  {
   "cell_type": "code",
   "execution_count": 2,
   "metadata": {},
   "outputs": [],
   "source": [
    "par = SimpleNamespace()\n",
    "# firms\n",
    "par.A = 1.0\n",
    "par.gamma = 0.5\n",
    "# households\n",
    "par.alpha = 0.3\n",
    "par.nu = 1.0\n",
    "par.epsilon = 2.0\n",
    "# government\n",
    "par.tau = 0.0\n",
    "par.T = 0.0\n",
    "# Question 3\n",
    "par.kappa = 0.1\n",
    "\n",
    "#Set w = 1 as numearie\n",
    "par.w = 1"
   ]
  },
  {
   "cell_type": "markdown",
   "metadata": {},
   "source": [
    "Define model"
   ]
  },
  {
   "cell_type": "code",
   "execution_count": 3,
   "metadata": {},
   "outputs": [],
   "source": [
    "\n",
    "def l1_star(par, p1):\n",
    "    return (p1 * par.A * par.gamma/par.w)**(1 / (1 - par.gamma)) \n",
    "\n",
    "def l2_star(par, p2):\n",
    "    return (p2 * par.A * par.gamma/par.w)**(1 / (1 - par.gamma))\n",
    "\n",
    "def y1_star(par, l1):\n",
    "    return par.A * (l1_star(par,p1))**par.gamma\n",
    "\n",
    "def y2_star(par, l2):\n",
    "    return par.A * (l2_star(par,p2))**par.gamma\n",
    "\n",
    "def pi1_star(par, p1):\n",
    "    return ((1 - par.gamma) / par.gamma) * par.w * (p1 * par.A * par.gamma / par.w)**(1 / (1 - par.gamma))\n",
    "\n",
    "def pi2_star(par, p2):\n",
    "    return ((1 - par.gamma) / par.gamma) * par.w * (p2 * par.A * par.gamma / par.w)**(1 / (1 - par.gamma))\n",
    "\n",
    "def c1(l, par, p1, p2):\n",
    "    return par.alpha * ((par.w * l + par.T + pi1_star(par, p1) + pi2_star(par, p2)) / p1)\n",
    "\n",
    "def c2(l, par, p1, p2):\n",
    "    return (1 - par.alpha) * ((par.w * l + par.T + pi1_star(par, p1) + pi2_star(par, p2)) / (p2 + par.tau))\n",
    "\n",
    "def l_star(par, p1, p2, initial_guess=0.1):\n",
    "    def negative_objective(l):\n",
    "        c1_val = c1(l, par, p1, p2)\n",
    "        c2_val = c2(l, par, p1, p2)\n",
    "        if c1_val <= 0 or c2_val <= 0:\n",
    "            return np.inf  # Penalize invalid solutions\n",
    "        return -((np.log(max(c1_val, 1e-8))**par.alpha * max(c2_val, 1e-8)**(1 - par.alpha)) - par.nu * l**(1 + par.epsilon) / (1 + par.epsilon))\n",
    "\n",
    "    result = minimize(negative_objective, initial_guess, method='BFGS')\n",
    "\n",
    "    # Extract the optimal value of l\n",
    "    l_star_value = result.x[0]\n",
    "\n",
    "    return l_star_value\n",
    "\n",
    "\n",
    "def c1_star(l_star_value, par, p1, p2):\n",
    "    return c1(l_star_value, par, p1, p2)\n",
    "\n",
    "def c2_star(l_star_value, par, p1, p2):\n",
    "    return c2(l_star_value, par, p1, p2)\n",
    "\n"
   ]
  },
  {
   "cell_type": "markdown",
   "metadata": {},
   "source": [
    "Define excess demand"
   ]
  },
  {
   "cell_type": "code",
   "execution_count": 4,
   "metadata": {},
   "outputs": [],
   "source": [
    "def excessdemand_labor(par, p1, p2):\n",
    "    l1 = l1_star(par, p1)\n",
    "    l2 = l2_star(par, p2)\n",
    "    l_opt = l_star(par, p1, p2)\n",
    "    return l1 + l2 - l_opt\n",
    "\n",
    "\n",
    "def excessdemand_goodmarket1(par, p1, p2):\n",
    "    l1 = l1_star(par, p1)\n",
    "    y1 = y1_star(par, l1)\n",
    "    l_opt = l_star(par, p1, p2)\n",
    "    c1_opt = c1_star(l_opt, par, p1, p2)\n",
    "    return y1 - c1_opt\n",
    "\n",
    "def excessdemand_goodmarket2(par, p1, p2):\n",
    "    l2 = l2_star(par, p2)\n",
    "    y2 = y2_star(par, l2)\n",
    "    l_opt = l_star(par, p1, p2)\n",
    "    c2_opt = c2_star(l_opt, par, p1, p2)\n",
    "    return y2 - c2_opt"
   ]
  },
  {
   "cell_type": "markdown",
   "metadata": {},
   "source": [
    "Find the excess demand for different p1 and p2 values"
   ]
  },
  {
   "cell_type": "code",
   "execution_count": 5,
   "metadata": {},
   "outputs": [
    {
     "name": "stderr",
     "output_type": "stream",
     "text": [
      "C:\\Users\\asv\\AppData\\Local\\Temp\\ipykernel_24820\\3727888817.py:31: RuntimeWarning: invalid value encountered in power\n",
      "  return -((np.log(max(c1_val, 1e-8))**par.alpha * max(c2_val, 1e-8)**(1 - par.alpha)) - par.nu * l**(1 + par.epsilon) / (1 + par.epsilon))\n"
     ]
    }
   ],
   "source": [
    "# Example p1 and p2 values\n",
    "p1_values = np.linspace(0.5, 1.5, 10)\n",
    "p2_values = np.linspace(0.5, 1.5, 10)\n",
    "\n",
    "# Initialize arrays to store results\n",
    "excess_labor_results = np.zeros((len(p1_values), len(p2_values)))\n",
    "excess_goodmarket1_results = np.zeros((len(p1_values), len(p2_values)))\n",
    "excess_goodmarket2_results = np.zeros((len(p1_values), len(p2_values)))\n",
    "\n",
    "\n",
    "\n",
    "# Calculate excess demand for each combination of p1 and p2\n",
    "for i, p1 in enumerate(p1_values):\n",
    "    for j, p2 in enumerate(p2_values):\n",
    "        excess_labor_results[i, j] = excessdemand_labor(par, p1, p2)\n",
    "        excess_goodmarket1_results[i, j] = excessdemand_goodmarket1(par, p1, p2)\n",
    "        excess_goodmarket2_results[i, j] = excessdemand_goodmarket2(par, p1, p2)"
   ]
  },
  {
   "cell_type": "code",
   "execution_count": 6,
   "metadata": {},
   "outputs": [
    {
     "name": "stdout",
     "output_type": "stream",
     "text": [
      "Excess labor demand:\n",
      " [[0.025      0.0558642  0.09290123 0.13611111 0.18549383 0.24104938\n",
      "  0.30277778 0.37067901 0.44475309 0.525     ]\n",
      " [0.0558642  0.0867284  0.12376543 0.16697531 0.21635802 0.27191358\n",
      "  0.33364198 0.40154321 0.47561728 0.5558642 ]\n",
      " [0.09290123 0.12376543 0.16080247 0.20401235 0.25339506 0.30895062\n",
      "  0.37067901 0.43858025 0.51265432 0.59290123]\n",
      " [0.13611111 0.16697531 0.20401235 0.24722222 0.29660494 0.35216049\n",
      "  0.41388889 0.48179012 0.5558642  0.63611111]\n",
      " [0.18549383 0.21635802 0.25339506 0.29660494 0.34598765 0.40154321\n",
      "  0.4632716  0.53117284 0.60524691 0.68549383]\n",
      " [0.24104938 0.27191358 0.30895062 0.35216049 0.40154321 0.45709877\n",
      "  0.51882716 0.5867284  0.66080247 0.74104938]\n",
      " [0.30277778 0.33364198 0.37067901 0.41388889 0.4632716  0.51882716\n",
      "  0.58055556 0.64845679 0.72253086 0.80277778]\n",
      " [0.37067901 0.40154321 0.43858025 0.48179012 0.53117284 0.5867284\n",
      "  0.64845679 0.71635802 0.7904321  0.87067901]\n",
      " [0.44475309 0.47561728 0.51265432 0.5558642  0.60524691 0.66080247\n",
      "  0.72253086 0.7904321  0.86450617 0.94475309]\n",
      " [0.525      0.5558642  0.59290123 0.63611111 0.68549383 0.74104938\n",
      "  0.80277778 0.87067901 0.94475309 1.025     ]]\n",
      "Excess good market 1 demand:\n",
      " [[ 0.115       0.09648148  0.07425926  0.04833333  0.0187037  -0.01462963\n",
      "  -0.05166667 -0.09240741 -0.13685185 -0.185     ]\n",
      " [ 0.17994949  0.16479798  0.14661616  0.12540404  0.10116162  0.07388889\n",
      "   0.04358586  0.01025253 -0.02611111 -0.06550505]\n",
      " [ 0.23944444  0.22662393  0.21123932  0.1932906   0.17277778  0.14970085\n",
      "   0.12405983  0.0958547   0.06508547  0.03175214]\n",
      " [ 0.29566667  0.28455556  0.27122222  0.25566667  0.23788889  0.21788889\n",
      "   0.19566667  0.17122222  0.14455556  0.11566667]\n",
      " [ 0.34977124  0.33996732  0.32820261  0.31447712  0.29879085  0.28114379\n",
      "   0.26153595  0.23996732  0.21643791  0.19094771]\n",
      " [ 0.4024269   0.39365497  0.38312865  0.37084795  0.35681287  0.34102339\n",
      "   0.32347953  0.30418129  0.28312865  0.26032164]\n",
      " [ 0.45404762  0.44611111  0.4365873   0.42547619  0.41277778  0.39849206\n",
      "   0.38261905  0.36515873  0.34611111  0.32547619]\n",
      " [ 0.50490338  0.497657    0.48896135  0.47881643  0.46722222  0.45417874\n",
      "   0.43968599  0.42374396  0.40635266  0.38751208]\n",
      " [ 0.55517778  0.54851111  0.54051111  0.53117778  0.52051111  0.50851111\n",
      "   0.49517778  0.48051111  0.46451111  0.44717778]\n",
      " [ 0.605       0.59882716  0.59141975  0.58277778  0.57290123  0.56179012\n",
      "   0.54944444  0.5358642   0.52104938  0.505     ]]\n",
      "Excess good market 2 demand:\n",
      " [[-6.50000000e-02  1.24747475e-02  7.72222222e-02  1.34333333e-01\n",
      "   1.86503268e-01  2.35292398e-01  2.81666667e-01  3.26256039e-01\n",
      "   3.69488889e-01  4.11666667e-01]\n",
      " [-1.08209877e-01 -2.28787879e-02  4.73076923e-02  1.08407407e-01\n",
      "   1.63627451e-01  2.14824561e-01  2.63148148e-01  3.09347826e-01\n",
      "   3.53933333e-01  3.97263374e-01]\n",
      " [-1.60061728e-01 -6.53030303e-02  1.14102564e-02  7.72962963e-02\n",
      "   1.36176471e-01  1.90263158e-01  2.40925926e-01  2.89057971e-01\n",
      "   3.35266667e-01  3.79979424e-01]\n",
      " [-2.20555556e-01 -1.14797980e-01 -3.04700855e-02  4.10000000e-02\n",
      "   1.04150327e-01  1.61608187e-01  2.15000000e-01  2.65386473e-01\n",
      "   3.13488889e-01  3.59814815e-01]\n",
      " [-2.89691358e-01 -1.71363636e-01 -7.83333333e-02 -4.81481481e-04\n",
      "   6.75490196e-02  1.28859649e-01  1.85370370e-01  2.38333333e-01\n",
      "   2.88600000e-01  3.36769547e-01]\n",
      " [-3.67469136e-01 -2.35000000e-01 -1.32179487e-01 -4.71481481e-02\n",
      "   2.63725490e-02  9.20175439e-02  1.52037037e-01  2.07898551e-01\n",
      "   2.60600000e-01  3.10843621e-01]\n",
      " [-4.53888889e-01 -3.05707071e-01 -1.92008547e-01 -9.90000000e-02\n",
      "  -1.93790850e-02  5.10818713e-02  1.15000000e-01  1.74082126e-01\n",
      "   2.29488889e-01  2.82037037e-01]\n",
      " [-5.48950617e-01 -3.83484848e-01 -2.57820513e-01 -1.56037037e-01\n",
      "  -6.97058824e-02  6.05263158e-03  7.42592593e-02  1.36884058e-01\n",
      "   1.95266667e-01  2.50349794e-01]\n",
      " [-6.52654321e-01 -4.68333333e-01 -3.29615385e-01 -2.18259259e-01\n",
      "  -1.24607843e-01 -4.30701754e-02  2.98148148e-02  9.63043478e-02\n",
      "   1.57933333e-01  2.15781893e-01]\n",
      " [-7.65000000e-01 -5.60252525e-01 -4.07393162e-01 -2.85666667e-01\n",
      "  -1.84084967e-01 -9.62865497e-02 -1.83333333e-02  5.23429952e-02\n",
      "   1.17488889e-01  1.78333333e-01]]\n"
     ]
    }
   ],
   "source": [
    "print(\"Excess labor demand:\\n\", excess_labor_results)\n",
    "print(\"Excess good market 1 demand:\\n\", excess_goodmarket1_results)\n",
    "print(\"Excess good market 2 demand:\\n\", excess_goodmarket2_results)"
   ]
  },
  {
   "cell_type": "markdown",
   "metadata": {},
   "source": [
    "Question 2: Find p1 and p2"
   ]
  },
  {
   "cell_type": "code",
   "execution_count": 7,
   "metadata": {},
   "outputs": [
    {
     "name": "stdout",
     "output_type": "stream",
     "text": [
      "The values of p1 and p2 that give excessdemand_labor = 0 are: p1 = -0.020378704051218454, p2 = 0.6321271299518744\n"
     ]
    },
    {
     "name": "stderr",
     "output_type": "stream",
     "text": [
      "C:\\Users\\asv\\AppData\\Local\\Temp\\ipykernel_24820\\3727888817.py:31: RuntimeWarning: invalid value encountered in power\n",
      "  return -((np.log(max(c1_val, 1e-8))**par.alpha * max(c2_val, 1e-8)**(1 - par.alpha)) - par.nu * l**(1 + par.epsilon) / (1 + par.epsilon))\n",
      "c:\\Users\\asv\\AppData\\Local\\anaconda3\\Lib\\site-packages\\scipy\\optimize\\_numdiff.py:590: RuntimeWarning: invalid value encountered in subtract\n",
      "  df = fun(x) - f0\n"
     ]
    }
   ],
   "source": [
    "def objective(p):\n",
    "    p1, p2 = p\n",
    "    return [excessdemand_labor(par, p1, p2), 0]  # Adding a second element to match the expected output shape\n",
    "\n",
    "# Initial guess for p1 and p2\n",
    "initial_guess = [1.0, 1.5]\n",
    "\n",
    "# Find the values of p1 and p2 that make excessdemand_labor equal to zero\n",
    "result = root(objective, initial_guess)\n",
    "\n",
    "if result.success:\n",
    "    p1_opt, p2_opt = result.x\n",
    "    print(f\"The values of p1 and p2 that give excessdemand_labor = 0 are: p1 = {p1_opt}, p2 = {p2_opt}\")\n",
    "else:\n",
    "    print(\"The root-finding algorithm did not converge\")"
   ]
  },
  {
   "cell_type": "markdown",
   "metadata": {},
   "source": [
    "Question 3: What values of tau and T should the government choose to maximize SWF?"
   ]
  },
  {
   "cell_type": "code",
   "execution_count": 8,
   "metadata": {},
   "outputs": [],
   "source": [
    "\n",
    "def U():\n",
    "\n",
    "    def negative_utility(c1, c2, l, p1, p2, par):\n",
    "        consumption = log(c1(par, l, p1, p2)**par.alpha*c2(par, l, p1,p2)**(1-par.alpha))\n",
    "        work = par.nu*l**(1-par.epsilon)/(1+par.epsilon)\n",
    "        u = -(consumption - work)\n",
    "\n",
    "    # Define the budget constraint\n",
    "    constraint = p1 * c1 + (p2 + tau) * c2 - (w * ell + T + pi1_star + pi2_star)\n",
    "\n",
    "    # Initial guess\n",
    "    x0 = 1S\n",
    "\n",
    "    # Minimize the objective function with the constraint\n",
    "    result = minimize(objective, x0, constraints={'type': 'eq', 'fun': constraint, 'args': (params['p1'], params['p2'], params['w'], params['tau'], params['T'], params['alpha'], params['nu'], params['epsilon'], params['pi1_star'], params['pi2_star'])})\n",
    "\n",
    "    # Print the results\n",
    "    print(\"Optimization Result:\", result)\n",
    "    print(f\"c1: {result.x[0]}, c2: {result.x[1]}, ell: {result.x[2]}\")\n",
    "\n",
    "\n",
    "\n",
    "\n",
    "def SWF(U, par, y2_star):\n",
    "\n",
    "    return U - par.kappa * y2_star\n"
   ]
  }
 ],
 "metadata": {
  "kernelspec": {
   "display_name": "base",
   "language": "python",
   "name": "python3"
  },
  "language_info": {
   "codemirror_mode": {
    "name": "ipython",
    "version": 3
   },
   "file_extension": ".py",
   "mimetype": "text/x-python",
   "name": "python",
   "nbconvert_exporter": "python",
   "pygments_lexer": "ipython3",
   "version": "3.11.7"
  }
 },
 "nbformat": 4,
 "nbformat_minor": 2
}
