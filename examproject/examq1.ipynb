{
 "cells": [
  {
   "cell_type": "markdown",
   "metadata": {},
   "source": [
    "Problem 1: Production economy and CO2 taxation"
   ]
  },
  {
   "cell_type": "code",
   "execution_count": 40,
   "metadata": {},
   "outputs": [],
   "source": [
    "from types import SimpleNamespace\n",
    "import numpy as np\n",
    "from scipy.optimize import minimize, root\n",
    "import pandas as pd\n",
    "from scipy.optimize import differential_evolution"
   ]
  },
  {
   "cell_type": "code",
   "execution_count": 2,
   "metadata": {},
   "outputs": [],
   "source": [
    "par = SimpleNamespace()\n",
    "# firms\n",
    "par.A = 1.0\n",
    "par.gamma = 0.5\n",
    "# households\n",
    "par.alpha = 0.3\n",
    "par.nu = 1.0\n",
    "par.epsilon = 2.0\n",
    "# government\n",
    "par.tau = 0.0\n",
    "par.T = 0.0\n",
    "# Question 3\n",
    "par.kappa = 0.1\n",
    "\n",
    "#Set w = 1 as numearie\n",
    "par.w = 1"
   ]
  },
  {
   "cell_type": "markdown",
   "metadata": {},
   "source": [
    "Define model"
   ]
  },
  {
   "cell_type": "code",
   "execution_count": 3,
   "metadata": {},
   "outputs": [],
   "source": [
    "\n",
    "def l1_star(par, p1):\n",
    "    return (p1 * par.A * par.gamma/par.w)**(1 / (1 - par.gamma)) \n",
    "\n",
    "def l2_star(par, p2):\n",
    "    return (p2 * par.A * par.gamma/par.w)**(1 / (1 - par.gamma))\n",
    "\n",
    "def y1_star(par, l1):\n",
    "    return par.A * (l1_star(par,p1))**par.gamma\n",
    "\n",
    "def y2_star(par, l2):\n",
    "    return par.A * (l2_star(par,p2))**par.gamma\n",
    "\n",
    "def pi1_star(par, p1):\n",
    "    return ((1 - par.gamma) / par.gamma) * par.w * (p1 * par.A * par.gamma / par.w)**(1 / (1 - par.gamma))\n",
    "\n",
    "def pi2_star(par, p2):\n",
    "    return ((1 - par.gamma) / par.gamma) * par.w * (p2 * par.A * par.gamma / par.w)**(1 / (1 - par.gamma))\n",
    "\n",
    "def c1(l, par, p1, p2):\n",
    "    return par.alpha * ((par.w * l + par.T + pi1_star(par, p1) + pi2_star(par, p2)) / p1)\n",
    "\n",
    "def c2(l, par, p1, p2):\n",
    "    return (1 - par.alpha) * ((par.w * l + par.T + pi1_star(par, p1) + pi2_star(par, p2)) / (p2 + par.tau))\n",
    "\n",
    "def l_star(par, p1, p2, initial_guess=0.1):\n",
    "    def negative_objective(l):\n",
    "        c1_val = c1(l, par, p1, p2)\n",
    "        c2_val = c2(l, par, p1, p2)\n",
    "        if c1_val <= 0 or c2_val <= 0:\n",
    "            return np.inf  # Penalize invalid solutions\n",
    "        return -(np.log((c1_val)**par.alpha * (c2_val)**(1 - par.alpha)) - par.nu * l**(1 + par.epsilon) / (1 + par.epsilon))\n",
    "\n",
    "    result = minimize(negative_objective, initial_guess, method='BFGS')\n",
    "\n",
    "    # Extract the optimal value of l\n",
    "    l_star_value = result.x[0]\n",
    "\n",
    "    return l_star_value\n",
    "\n",
    "\n",
    "def c1_star(l_star_value, par, p1, p2):\n",
    "    return c1(l_star_value, par, p1, p2)\n",
    "\n",
    "def c2_star(l_star_value, par, p1, p2):\n",
    "    return c2(l_star_value, par, p1, p2)\n",
    "\n"
   ]
  },
  {
   "cell_type": "markdown",
   "metadata": {},
   "source": [
    "Define excess demand"
   ]
  },
  {
   "cell_type": "code",
   "execution_count": 4,
   "metadata": {},
   "outputs": [],
   "source": [
    "def excessdemand_labor(par, p1, p2):\n",
    "    l1 = l1_star(par, p1)\n",
    "    l2 = l2_star(par, p2)\n",
    "    l_opt = l_star(par, p1, p2)\n",
    "    return l1 + l2 - l_opt\n",
    "\n",
    "\n",
    "def excessdemand_goodmarket1(par, p1, p2):\n",
    "    l1 = l1_star(par, p1)\n",
    "    y1 = y1_star(par, l1)\n",
    "    l_opt = l_star(par, p1, p2)\n",
    "    c1_opt = c1_star(l_opt, par, p1, p2)\n",
    "    return y1 - c1_opt\n",
    "\n",
    "def excessdemand_goodmarket2(par, p1, p2):\n",
    "    l2 = l2_star(par, p2)\n",
    "    y2 = y2_star(par, l2)\n",
    "    l_opt = l_star(par, p1, p2)\n",
    "    c2_opt = c2_star(l_opt, par, p1, p2)\n",
    "    return y2 - c2_opt"
   ]
  },
  {
   "cell_type": "markdown",
   "metadata": {},
   "source": [
    "Find the excess demand for different p1 and p2 values"
   ]
  },
  {
   "cell_type": "code",
   "execution_count": null,
   "metadata": {},
   "outputs": [],
   "source": [
    "# Define ranges for p1 and p2\n",
    "p1_values = np.linspace(0.1, 2.0, 10)\n",
    "p2_values = np.linspace(0.1, 2.0, 10)\n",
    "\n",
    "# Initialize lists to store results\n",
    "results = []\n",
    "\n",
    "# Compute excess demands for each combination of p1 and p2\n",
    "for p1 in p1_values:\n",
    "    for p2 in p2_values:\n",
    "        excess_labor = excessdemand_labor(par, p1, p2)\n",
    "        excess_goodsmarket1 = excessdemand_goodmarket1(par, p1, p2)\n",
    "        excess_goodsmarket2 = excessdemand_goodmarket2(par, p1, p2)\n",
    "        results.append((p1, p2, excess_labor, excess_goodsmarket1, excess_goodsmarket2))\n",
    "\n",
    "# Create a DataFrame for better readability\n",
    "df_results = pd.DataFrame(results, columns=['p1', 'p2', 'Excess Labor', 'Excess Goods Market 1', 'Excess Goods Market 2'])\n",
    "\n",
    "# Display the DataFrame\n",
    "pd.set_option('display.float_format', lambda x: '%.4f' % x)\n",
    "print(df_results)"
   ]
  },
  {
   "cell_type": "markdown",
   "metadata": {},
   "source": [
    "**Question 2: Find p1 and p2**"
   ]
  },
  {
   "cell_type": "code",
   "execution_count": null,
   "metadata": {},
   "outputs": [],
   "source": [
    "# Define the objective function for finding equilibrium prices\n",
    "def objectivenew(vars, par):\n",
    "    p1, p2 = vars\n",
    "    excess_labor = excessdemand_labor(par, p1, p2)\n",
    "    excess_goodsmarket2 = excessdemand_goodmarket2(par, p1, p2)\n",
    "    return excess_labor**2 + excess_goodsmarket2**2\n",
    "\n",
    "# List initial guesses in the space to see which would be best\n",
    "initial_guesses = [\n",
    "    [0.5, 0.5],\n",
    "    [1, 1],\n",
    "    [1.5, 1.5],\n",
    "    [0.1, 0.1],\n",
    "    [2.0, 2.0]\n",
    "]\n",
    "\n",
    "best_result = None\n",
    "best_objective_value = np.inf\n",
    "best_initial_guess = None\n",
    "\n",
    "\n",
    "# Try initial guesses and find the best result with lowest objective value\n",
    "for initial_guess in initial_guesses:\n",
    "    result = minimize(objectivenew, initial_guess, args=(par,), bounds=[(0.1, 2.0), (0.1, 2.0)])\n",
    "    if result.fun < best_objective_value:\n",
    "        best_result = result\n",
    "        best_objective_value = result.fun\n",
    "        best_initial_guess = initial_guess\n",
    "\n",
    "equilibrium_p1, equilibrium_p2 = best_result.x\n",
    "\n",
    "#Print results for equilibrium prices and the initial guess that gave the best result\n",
    "print(f\"Equilibrium p1: {equilibrium_p1:.4f}, Equilibrium p2: {equilibrium_p2:.4f}\")\n",
    "print(f\"Best initial guess: {best_initial_guess}\")"
   ]
  },
  {
   "cell_type": "markdown",
   "metadata": {},
   "source": [
    "**Question 3: What values of tau and T should the government choose to maximize SWF?**"
   ]
  },
  {
   "cell_type": "code",
   "execution_count": 24,
   "metadata": {},
   "outputs": [
    {
     "ename": "SyntaxError",
     "evalue": "invalid decimal literal (4110019734.py, line 12)",
     "output_type": "error",
     "traceback": [
      "\u001b[0;36m  Cell \u001b[0;32mIn[24], line 12\u001b[0;36m\u001b[0m\n\u001b[0;31m    x0 = 1S\u001b[0m\n\u001b[0m         ^\u001b[0m\n\u001b[0;31mSyntaxError\u001b[0m\u001b[0;31m:\u001b[0m invalid decimal literal\n"
     ]
    }
   ],
   "source": [
    "\n",
    "def U():\n",
    "\n",
    "    def negative_utility(c1, c2, l, p1, p2, par):\n",
    "        consumption = log(c1(par, l, p1, p2)**par.alpha*c2(par, l, p1,p2)**(1-par.alpha))\n",
    "        work = par.nu*l**(1-par.epsilon)/(1+par.epsilon)\n",
    "        u = -(consumption - work)\n",
    "\n",
    "    # Define the budget constraint\n",
    "    constraint = p1 * c1 + (p2 + tau) * c2 - (w * ell + T + pi1_star + pi2_star)\n",
    "\n",
    "    # Initial guess\n",
    "    x0 = 1S\n",
    "\n",
    "    # Minimize the objective function with the constraint\n",
    "    result = minimize(objective, x0, constraints={'type': 'eq', 'fun': constraint, 'args': (params['p1'], params['p2'], params['w'], params['tau'], params['T'], params['alpha'], params['nu'], params['epsilon'], params['pi1_star'], params['pi2_star'])})\n",
    "\n",
    "    # Print the results\n",
    "    print(\"Optimization Result:\", result)\n",
    "    print(f\"c1: {result.x[0]}, c2: {result.x[1]}, ell: {result.x[2]}\")\n",
    "\n",
    "\n",
    "\n",
    "\n",
    "def SWF(U, par, y2_star):\n",
    "\n",
    "    return U - par.kappa * y2_star\n"
   ]
  },
  {
   "cell_type": "markdown",
   "metadata": {},
   "source": [
    "mangler"
   ]
  }
 ],
 "metadata": {
  "kernelspec": {
   "display_name": "base",
   "language": "python",
   "name": "python3"
  },
  "language_info": {
   "codemirror_mode": {
    "name": "ipython",
    "version": 3
   },
   "file_extension": ".py",
   "mimetype": "text/x-python",
   "name": "python",
   "nbconvert_exporter": "python",
   "pygments_lexer": "ipython3",
   "version": "3.11.7"
  }
 },
 "nbformat": 4,
 "nbformat_minor": 2
}
