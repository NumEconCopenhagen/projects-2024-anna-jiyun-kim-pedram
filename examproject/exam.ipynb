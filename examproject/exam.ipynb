{
 "cells": [
  {
   "cell_type": "markdown",
   "metadata": {},
   "source": [
    "**Table of contents**<a id='toc0_'></a>    \n",
    "- 1. [Problem 1: Production economy and CO2 taxation](#toc1_)    \n",
    "- 2. [Problem 2: Career choice model](#toc2_)    \n",
    "- 3. [Problem 3: Barycentric interpolation](#toc3_)    \n",
    "\n",
    "<!-- vscode-jupyter-toc-config\n",
    "\tnumbering=true\n",
    "\tanchor=true\n",
    "\tflat=false\n",
    "\tminLevel=2\n",
    "\tmaxLevel=6\n",
    "\t/vscode-jupyter-toc-config -->\n",
    "<!-- THIS CELL WILL BE REPLACED ON TOC UPDATE. DO NOT WRITE YOUR TEXT IN THIS CELL -->"
   ]
  },
  {
   "cell_type": "code",
   "execution_count": 1,
   "metadata": {},
   "outputs": [],
   "source": [
    "from types import SimpleNamespace\n",
    "import numpy as np\n",
    "from scipy.optimize import minimize\n",
    "import pandas as pd"
   ]
  },
  {
   "cell_type": "markdown",
   "metadata": {},
   "source": [
    "## 1. <a id='toc1_'></a>[Problem 1: Production economy and CO2 taxation](#toc0_)"
   ]
  },
  {
   "cell_type": "markdown",
   "metadata": {},
   "source": [
    "**Question 1:** Check market clearing conditions for $p_1$ in `linspace(0.1,2.0,10)` and $p_2$ in `linspace(0.1,2.0,10)`. We choose $w=1$ as numeraire."
   ]
  },
  {
   "cell_type": "code",
   "execution_count": 2,
   "metadata": {},
   "outputs": [],
   "source": [
    "from examp1 import ProductionEconomyClass\n",
    "\n",
    "# Initiate the model\n",
    "model = ProductionEconomyClass()\n"
   ]
  },
  {
   "cell_type": "code",
   "execution_count": 3,
   "metadata": {},
   "outputs": [
    {
     "name": "stdout",
     "output_type": "stream",
     "text": [
      "       p1     p2  Excess Labor  Excess Goods Market 1  Excess Goods Market 2\n",
      "0  0.1000 0.1000       -0.9934                 2.9601                 6.9735\n",
      "1  0.1000 0.3111       -0.9645                 3.0037                 2.1347\n",
      "2  0.1000 0.5222       -0.9063                 3.0930                 1.1432\n",
      "3  0.1000 0.7333       -0.8195                 3.2302                 0.6770\n",
      "4  0.1000 0.9444       -0.7047                 3.4171                 0.3844\n",
      "..    ...    ...           ...                    ...                    ...\n",
      "95 2.0000 1.1556        0.6328                -0.6948                 0.6549\n",
      "96 2.0000 1.3667        0.7853                -0.6777                 0.4171\n",
      "97 2.0000 1.5778        0.9607                -0.6574                 0.2244\n",
      "98 2.0000 1.7889        1.1601                -0.6340                 0.0603\n",
      "99 2.0000 2.0000        1.3820                -0.6073                -0.0837\n",
      "\n",
      "[100 rows x 5 columns]\n",
      "Indices where sign changes: Index([40, 46, 50], dtype='int64')\n",
      "Values at these indices:\n",
      "       p1     p2  Excess Labor  Excess Goods Market 1  Excess Goods Market 2\n",
      "40 0.9444 0.1000       -0.7047                -0.1051                 8.0399\n",
      "46 0.9444 1.3667       -0.1251                 0.0058                 0.0875\n",
      "50 1.1556 0.1000       -0.5633                -0.2569                 8.6014\n"
     ]
    }
   ],
   "source": [
    "# Define ranges for p1 and p2\n",
    "p1_values = np.linspace(0.1, 2.0, 10)\n",
    "p2_values = np.linspace(0.1, 2.0, 10)\n",
    "\n",
    "# Initialize lists to store results\n",
    "results = []\n",
    "\n",
    "# Compute excess demands for each combination of p1 and p2\n",
    "for p1 in p1_values:\n",
    "    for p2 in p2_values:\n",
    "        excess_labor = model.excessdemand_labor(p1, p2)\n",
    "        excess_goodsmarket1 = model.excessdemand_goodmarket1(p1, p2)\n",
    "        excess_goodsmarket2 = model.excessdemand_goodmarket2(p1, p2)\n",
    "        results.append((p1, p2, excess_labor, excess_goodsmarket1, excess_goodsmarket2))\n",
    "\n",
    "# Create a DataFrame for better readability\n",
    "df_results = pd.DataFrame(results, columns=['p1', 'p2', 'Excess Labor', 'Excess Goods Market 1', 'Excess Goods Market 2'])\n",
    "\n",
    "# Display the DataFrame\n",
    "pd.set_option('display.float_format', lambda x: '%.4f' % x)\n",
    "print(df_results)\n",
    "\n",
    "# Find the indices where the sign changes\n",
    "sign_changes = df_results['Excess Goods Market 1'].apply(np.sign).diff().ne(0)\n",
    "\n",
    "# Filter the indices where the sign changes (excluding the first row, as diff() makes the first value NaN)\n",
    "sign_change_indices = df_results[sign_changes].index[1:]\n",
    "\n",
    "print(\"Indices where sign changes:\", sign_change_indices)\n",
    "print(\"Values at these indices:\")\n",
    "print(df_results.loc[sign_change_indices])\n"
   ]
  },
  {
   "cell_type": "markdown",
   "metadata": {},
   "source": [
    "**Question 2:** Find the equilibrium prices $p_1$ and $p_2$.<br>\n",
    "*Hint: you can use Walras' law to only check 2 of the market clearings*"
   ]
  },
  {
   "cell_type": "code",
   "execution_count": 4,
   "metadata": {},
   "outputs": [
    {
     "name": "stdout",
     "output_type": "stream",
     "text": [
      "Equilibrium p1: 0.9762, Equilibrium p2: 1.4912\n",
      "Best initial guess: [2.0, 2.0]\n"
     ]
    }
   ],
   "source": [
    "# List initial guesses in the space to see which would be best\n",
    "initial_guesses = [\n",
    "    [0.5, 0.5],\n",
    "    [1, 1],\n",
    "    [1.5, 1.5],\n",
    "    [0.1, 0.1],\n",
    "    [2.0, 2.0]\n",
    "]\n",
    "\n",
    "best_result = None\n",
    "best_objective_value = np.inf\n",
    "best_initial_guess = None\n",
    "\n",
    "# Try initial guesses and find the best result with lowest objective value\n",
    "for initial_guess in initial_guesses:\n",
    "    result = minimize(model.objectiveprice, initial_guess, bounds=[(0.1, 2.0), (0.1, 2.0)])\n",
    "    if result.fun < best_objective_value:\n",
    "        best_result = result\n",
    "        best_objective_value = result.fun\n",
    "        best_initial_guess = initial_guess\n",
    "\n",
    "equilibrium_p1, equilibrium_p2 = best_result.x\n",
    "\n",
    "# Print results for equilibrium prices and the initial guess that gave the best result\n",
    "print(f\"Equilibrium p1: {equilibrium_p1:.4f}, Equilibrium p2: {equilibrium_p2:.4f}\")\n",
    "print(f\"Best initial guess: {best_initial_guess}\")"
   ]
  },
  {
   "cell_type": "markdown",
   "metadata": {},
   "source": [
    "**Question 3:** What values of $\\tau$ and (implied) $T$ should the government choose to maximize $SWF$?"
   ]
  },
  {
   "cell_type": "code",
   "execution_count": 5,
   "metadata": {},
   "outputs": [
    {
     "name": "stdout",
     "output_type": "stream",
     "text": [
      "Optimal tau: 0.1\n",
      "Implied T: 0.06987439862863795\n"
     ]
    }
   ],
   "source": [
    "p1 = equilibrium_p1\n",
    "p2 = equilibrium_p2\n",
    "\n",
    "tau_optimal = model.optimize_tau(p1, p2)\n",
    "T_optimal = tau_optimal * model.c23(p1, p2, tau_optimal, 0, model.l_star_consumer(p1, p2))\n",
    "\n",
    "print(\"Optimal tau:\", tau_optimal)\n",
    "print(\"Implied T:\", T_optimal)"
   ]
  },
  {
   "cell_type": "markdown",
   "metadata": {},
   "source": [
    "## 2. <a id='toc2_'></a>[Problem 2: Career choice model](#toc0_)"
   ]
  },
  {
   "cell_type": "markdown",
   "metadata": {},
   "source": [
    "**Question 1:** Simulate and calculate expected utility and the average realised utility for $K=10000$ draws, for each career choice $j$.\n"
   ]
  },
  {
   "cell_type": "code",
   "execution_count": 6,
   "metadata": {},
   "outputs": [],
   "source": [
    "#Set parameters\n",
    "par = SimpleNamespace()\n",
    "par.J = 3\n",
    "par.N = 10\n",
    "par.K = 10000\n",
    "par.F = np.arange(1,par.N+1)\n",
    "par.sigma = 2\n",
    "par.v = np.array([1,2,3])\n",
    "par.c = 1"
   ]
  },
  {
   "cell_type": "code",
   "execution_count": 7,
   "metadata": {},
   "outputs": [],
   "source": [
    "# Set a seed\n",
    "np.random.seed(80)"
   ]
  },
  {
   "cell_type": "code",
   "execution_count": 8,
   "metadata": {},
   "outputs": [],
   "source": [
    "# Initialize arrays to store expected- and average realized utilities\n",
    "expected_utilities = np.zeros(par.J)\n",
    "avg_realized_utilities = np.zeros((par.N, par.J))\n",
    "\n",
    "# For each career choice j\n",
    "for j in range(par.J):\n",
    "    # Epsilon is drawn from a normal distribution\n",
    "    epsilon = np.random.normal(0, par.sigma, (par.N, par.K))\n",
    "    #Calculate ex post utility\n",
    "    utilities = par.v[j] + epsilon\n",
    "    #Calculate expected utility\n",
    "    expected_utilities[j] = par.v[j] + np.mean(epsilon)\n",
    "    #Calculate average realized utilities across all simulations for each graduate \n",
    "    avg_realized_utilities[:, j] = np.mean(utilities, axis=1)"
   ]
  },
  {
   "cell_type": "code",
   "execution_count": 9,
   "metadata": {},
   "outputs": [
    {
     "name": "stdout",
     "output_type": "stream",
     "text": [
      "Expected Utilities:\n",
      "          Expected Utility\n",
      "Career 1            0.9888\n",
      "Career 2            2.0090\n",
      "Career 3            2.9951\n",
      "\n",
      "Realized Utilities:\n",
      "             Realized Utility Career 1  Realized Utility Career 2  \\\n",
      "Graduate 1                      0.9979                     2.0131   \n",
      "Graduate 2                      0.9680                     2.0041   \n",
      "Graduate 3                      0.9968                     2.0439   \n",
      "Graduate 4                      1.0021                     2.0201   \n",
      "Graduate 5                      0.9833                     2.0099   \n",
      "Graduate 6                      0.9735                     1.9993   \n",
      "Graduate 7                      1.0141                     1.9943   \n",
      "Graduate 8                      0.9790                     1.9971   \n",
      "Graduate 9                      0.9738                     2.0197   \n",
      "Graduate 10                     0.9997                     1.9885   \n",
      "\n",
      "             Realized Utility Career 3  \n",
      "Graduate 1                      2.9892  \n",
      "Graduate 2                      2.9743  \n",
      "Graduate 3                      2.9867  \n",
      "Graduate 4                      2.9828  \n",
      "Graduate 5                      3.0257  \n",
      "Graduate 6                      3.0233  \n",
      "Graduate 7                      3.0233  \n",
      "Graduate 8                      2.9727  \n",
      "Graduate 9                      2.9902  \n",
      "Graduate 10                     2.9832  \n"
     ]
    }
   ],
   "source": [
    "# Convert to DataFrame for better visualization\n",
    "expected_utilities_df = pd.DataFrame(expected_utilities, columns=['Expected Utility'], index=[f'Career {j+1}' for j in range(par.J)])\n",
    "avg_realized_utilities_df = pd.DataFrame(avg_realized_utilities, columns=[f'Realized Utility Career {j+1}' for j in range(par.J)], index=[f'Graduate {i+1}' for i in range(par.N)])\n",
    "\n",
    "# Print the expected and realized utilities\n",
    "print(\"Expected Utilities:\")\n",
    "print(expected_utilities_df)\n",
    "\n",
    "print(\"\\nRealized Utilities:\")\n",
    "print(avg_realized_utilities_df)"
   ]
  },
  {
   "cell_type": "markdown",
   "metadata": {},
   "source": [
    "**Question 2:** Simulate and visualize: For each type of graduate, $i$, the share of graduates choosing each career, the average subjective expected utility of the graduates, and the average ex post realized utility given their choice."
   ]
  },
  {
   "cell_type": "markdown",
   "metadata": {},
   "source": [
    "Step 1: For each individual draw J*Fi, and calculate the prior expected utility of each career track"
   ]
  },
  {
   "cell_type": "code",
   "execution_count": 10,
   "metadata": {},
   "outputs": [
    {
     "name": "stdout",
     "output_type": "stream",
     "text": [
      "Average Prior Expected Utilities:\n",
      "             Career 1  Career 2  Career 3\n",
      "Graduate 1     1.0376    1.9834    2.9897\n",
      "Graduate 2     1.0093    1.9841    3.0060\n",
      "Graduate 3     0.9902    2.0049    3.0096\n",
      "Graduate 4     1.0135    1.9811    3.0117\n",
      "Graduate 5     0.9981    2.0113    2.9934\n",
      "Graduate 6     0.9998    1.9861    2.9930\n",
      "Graduate 7     1.0088    2.0020    2.9988\n",
      "Graduate 8     0.9818    1.9974    3.0068\n",
      "Graduate 9     1.0040    2.0003    2.9978\n",
      "Graduate 10    0.9973    1.9987    3.0081\n"
     ]
    }
   ],
   "source": [
    "# Initialize array to store the drawn values\n",
    "drawn_values = {}\n",
    "\n",
    "\n",
    "# Simulate drawing J * F_i values for each person i\n",
    "for i in range(par.N):\n",
    "    #Determine the number of sample for the graduate\n",
    "    Fi = par.F[i]\n",
    "    #Generate epsilon \n",
    "    epsilon_fj = np.random.normal(0, par.sigma, (par.J, Fi, par.K))\n",
    "    #Store the drawn values in the dictionary\n",
    "    drawn_values[f'Graduate {i+1}'] = epsilon_fj\n",
    "\n",
    "\n",
    "\n",
    "# Initialize array to store the prior expected utilities\n",
    "prior_expected_utilities = np.zeros((par.N, par.J, par.K))\n",
    "\n",
    "\n",
    "# For each graduate, i \n",
    "for i in range(par.N):\n",
    "    Fi = par.F[i]\n",
    "    epsilon_fj = drawn_values[f'Graduate {i+1}']\n",
    "    \n",
    "    # For each career track, j\n",
    "    for j in range(par.J):\n",
    "        #For each simulation, k\n",
    "        for k in range(par.K):\n",
    "            #Calculate the prior expected utilities\n",
    "            prior_expected_utilities[i, j, k] = np.mean(par.v[j] + epsilon_fj[j, :, k])\n",
    "\n",
    "\n",
    "\n",
    "# We can visualize the average prior expected utility over all simulations for simplicity\n",
    "average_prior_expected_utilities = np.mean(prior_expected_utilities, axis=2)\n",
    "prior_expected_utilities_df = pd.DataFrame(average_prior_expected_utilities, columns=[f'Career {j+1}' for j in range(par.J)], index=[f'Graduate {i+1}' for i in range(par.N)])\n",
    "\n",
    "\n",
    "\n",
    "# Print the average prior expected utilities\n",
    "print(\"Average Prior Expected Utilities:\")\n",
    "print(prior_expected_utilities_df)\n"
   ]
  },
  {
   "cell_type": "markdown",
   "metadata": {},
   "source": [
    "Step 2: For each individual find the career with the highest expected utility"
   ]
  },
  {
   "cell_type": "code",
   "execution_count": 11,
   "metadata": {},
   "outputs": [
    {
     "name": "stdout",
     "output_type": "stream",
     "text": [
      "\n",
      "Sample Chosen Careers:\n",
      "            Simulation 1  Simulation 2  Simulation 3  Simulation 4  \\\n",
      "Graduate 1             3             3             3             3   \n",
      "Graduate 2             3             3             3             2   \n",
      "Graduate 3             3             2             3             3   \n",
      "Graduate 4             2             2             3             2   \n",
      "Graduate 5             2             3             3             3   \n",
      "\n",
      "            Simulation 5  Simulation 6  Simulation 7  Simulation 8  \\\n",
      "Graduate 1             1             3             3             2   \n",
      "Graduate 2             1             3             2             2   \n",
      "Graduate 3             3             3             2             3   \n",
      "Graduate 4             3             2             2             3   \n",
      "Graduate 5             3             3             3             3   \n",
      "\n",
      "            Simulation 9  Simulation 10  ...  Simulation 9991  \\\n",
      "Graduate 1             2              3  ...                2   \n",
      "Graduate 2             3              3  ...                3   \n",
      "Graduate 3             2              3  ...                2   \n",
      "Graduate 4             3              3  ...                3   \n",
      "Graduate 5             3              3  ...                3   \n",
      "\n",
      "            Simulation 9992  Simulation 9993  Simulation 9994  \\\n",
      "Graduate 1                3                2                3   \n",
      "Graduate 2                3                3                3   \n",
      "Graduate 3                3                3                3   \n",
      "Graduate 4                3                1                3   \n",
      "Graduate 5                2                3                3   \n",
      "\n",
      "            Simulation 9995  Simulation 9996  Simulation 9997  \\\n",
      "Graduate 1                3                2                1   \n",
      "Graduate 2                2                2                3   \n",
      "Graduate 3                3                3                3   \n",
      "Graduate 4                3                2                3   \n",
      "Graduate 5                2                3                3   \n",
      "\n",
      "            Simulation 9998  Simulation 9999  Simulation 10000  \n",
      "Graduate 1                2                3                 2  \n",
      "Graduate 2                3                3                 3  \n",
      "Graduate 3                3                3                 3  \n",
      "Graduate 4                3                3                 3  \n",
      "Graduate 5                3                3                 2  \n",
      "\n",
      "[5 rows x 10000 columns]\n"
     ]
    }
   ],
   "source": [
    "# Initialize array to store the chosen careers, ensuring it's 2-dimensional\n",
    "chosen_careers = np.zeros((par.N, par.K), dtype=int)\n",
    "\n",
    "# Iterates over each individual\n",
    "for i in range(par.N):\n",
    "    #Iterates over each career track for the given individual\n",
    "    for k in range(par.K):\n",
    "        # Finding the highest expected utilities\n",
    "        chosen_career = np.argmax(prior_expected_utilities[i, :, k]) + 1  # Adding 1 to shift the index\n",
    "        chosen_careers[i, k] = chosen_career\n",
    "\n",
    "# Convert the chosen careers to DataFrame for visualization\n",
    "chosen_careers_df = pd.DataFrame(chosen_careers, columns=[f'Simulation {k+1}' for k in range(par.K)], index=[f'Graduate {i+1}' for i in range(par.N)])\n",
    "\n",
    "# Print a sample of chosen careers\n",
    "print(\"\\nSample Chosen Careers:\")\n",
    "print(chosen_careers_df.head())"
   ]
  },
  {
   "cell_type": "markdown",
   "metadata": {},
   "source": [
    "Step 3: Prior expectation of the value of their chosen career"
   ]
  },
  {
   "cell_type": "code",
   "execution_count": 12,
   "metadata": {},
   "outputs": [
    {
     "name": "stdout",
     "output_type": "stream",
     "text": [
      "\n",
      "Optimal Prior Expected Utilities:\n",
      "            Simulation 1  Simulation 2  Simulation 3  Simulation 4  \\\n",
      "Graduate 1        5.5926        4.8455        5.7438        4.6932   \n",
      "Graduate 2        1.6926        2.1020        3.6147        3.1754   \n",
      "Graduate 3        4.5757        2.7960        3.6606        2.7585   \n",
      "Graduate 4        4.9084        2.5718        4.4509        2.2680   \n",
      "Graduate 5        2.5413        3.0399        3.6940        3.5236   \n",
      "\n",
      "            Simulation 5  Simulation 6  Simulation 7  Simulation 8  \\\n",
      "Graduate 1        1.7770        3.2503        5.8784        5.6439   \n",
      "Graduate 2        2.9965        3.3574        1.9170        3.7654   \n",
      "Graduate 3        1.8210        3.6058        2.9994        3.5257   \n",
      "Graduate 4        3.4359        2.0058        3.8855        3.9037   \n",
      "Graduate 5        3.6430        2.5437        3.2379        1.8582   \n",
      "\n",
      "            Simulation 9  Simulation 10  ...  Simulation 9991  \\\n",
      "Graduate 1        2.8394         2.3016  ...           2.7138   \n",
      "Graduate 2        4.1473         3.9340  ...           2.5174   \n",
      "Graduate 3        2.5105         3.8966  ...           4.6199   \n",
      "Graduate 4        2.8299         2.7028  ...           2.2943   \n",
      "Graduate 5        3.8095         3.8779  ...           4.3827   \n",
      "\n",
      "            Simulation 9992  Simulation 9993  Simulation 9994  \\\n",
      "Graduate 1           1.6561           2.3133           5.3991   \n",
      "Graduate 2           2.2905           2.2847           5.0252   \n",
      "Graduate 3           2.6575           3.3430           4.5756   \n",
      "Graduate 4           3.3739           2.3037           2.0039   \n",
      "Graduate 5           4.0677           3.3954           1.6695   \n",
      "\n",
      "            Simulation 9995  Simulation 9996  Simulation 9997  \\\n",
      "Graduate 1           5.5555           0.3690           4.9429   \n",
      "Graduate 2           2.3154           1.9030           3.3967   \n",
      "Graduate 3           3.0829           2.9682           3.5145   \n",
      "Graduate 4           5.1643           3.3274           1.8979   \n",
      "Graduate 5           3.8382           3.7123           2.7472   \n",
      "\n",
      "            Simulation 9998  Simulation 9999  Simulation 10000  \n",
      "Graduate 1           2.4982           1.9913            3.7970  \n",
      "Graduate 2           3.7112           2.8496            4.3781  \n",
      "Graduate 3           2.6696           3.4282            3.9026  \n",
      "Graduate 4           3.3617           4.0712            3.2349  \n",
      "Graduate 5           4.0837           4.3275            2.1935  \n",
      "\n",
      "[5 rows x 10000 columns]\n"
     ]
    }
   ],
   "source": [
    "#Store the prior expectation of the value of their chosen career\n",
    "optimal_prior_expected_utilities = np.zeros((par.N, par.K))\n",
    "\n",
    "#Iterates over each individual\n",
    "for i in range(par.N):\n",
    "    #Iterates over each career track\n",
    "    for k in range(par.K):\n",
    "        #Assume the individual choose the optimal career track\n",
    "        optimal_career = chosen_careers[i, k] - 1  # Convert to 0-index\n",
    "        optimal_prior_expected_utilities[i, k] = prior_expected_utilities[i, optimal_career, k]\n",
    "\n",
    "# Convert to DataFrame for better visualization\n",
    "optimal_prior_expected_utilities_df = pd.DataFrame(optimal_prior_expected_utilities, columns=[f'Simulation {k+1}' for k in range(par.K)], index=[f'Graduate {i+1}' for i in range(par.N)])\n",
    "print(\"\\nOptimal Prior Expected Utilities:\")\n",
    "print(optimal_prior_expected_utilities_df.head())"
   ]
  },
  {
   "cell_type": "markdown",
   "metadata": {},
   "source": [
    "Step 3: Realized value of their chosen career track"
   ]
  },
  {
   "cell_type": "code",
   "execution_count": 13,
   "metadata": {},
   "outputs": [
    {
     "name": "stdout",
     "output_type": "stream",
     "text": [
      "\n",
      "Realized Values for Chosen Careers:\n",
      "            Simulation 1  Simulation 2  Simulation 3  Simulation 4  \\\n",
      "Graduate 1       -0.8772        1.7852        7.0655        2.3568   \n",
      "Graduate 2        5.4827        1.2725        2.2129       -1.9577   \n",
      "Graduate 3        1.3738        6.2870        2.6493        3.3454   \n",
      "Graduate 4        0.6545        3.2567        5.0492        0.8838   \n",
      "Graduate 5        2.4080        4.7363        4.2453        3.5754   \n",
      "\n",
      "            Simulation 5  Simulation 6  Simulation 7  Simulation 8  \\\n",
      "Graduate 1        1.0735        2.4333        1.5182       -1.3051   \n",
      "Graduate 2       -1.1056        2.6029        3.0872        4.2522   \n",
      "Graduate 3        0.9916        0.6509        1.8752        4.9184   \n",
      "Graduate 4        1.5425        4.1238        1.3017        5.4126   \n",
      "Graduate 5        6.9095        3.2572        0.5810        3.0201   \n",
      "\n",
      "            Simulation 9  Simulation 10  ...  Simulation 9991  \\\n",
      "Graduate 1        0.9402         3.7059  ...           2.6696   \n",
      "Graduate 2        2.8967         2.3184  ...           0.9094   \n",
      "Graduate 3        1.6873         1.9651  ...           3.8162   \n",
      "Graduate 4        4.0603         1.2555  ...           3.6909   \n",
      "Graduate 5        4.3772         5.6934  ...           6.0827   \n",
      "\n",
      "            Simulation 9992  Simulation 9993  Simulation 9994  \\\n",
      "Graduate 1           2.8355           1.5634           5.7870   \n",
      "Graduate 2           1.6896           3.9810           3.2842   \n",
      "Graduate 3           3.7774           2.2329           3.0138   \n",
      "Graduate 4           3.3371           0.1581           0.6841   \n",
      "Graduate 5           3.7050           4.1201           0.4217   \n",
      "\n",
      "            Simulation 9995  Simulation 9996  Simulation 9997  \\\n",
      "Graduate 1           1.5025           2.3305          -1.3075   \n",
      "Graduate 2           3.0543           1.2840           2.8568   \n",
      "Graduate 3           4.8295          -0.3990           4.4425   \n",
      "Graduate 4           1.8580           4.0383           4.2063   \n",
      "Graduate 5           6.0137           3.3017           6.9624   \n",
      "\n",
      "            Simulation 9998  Simulation 9999  Simulation 10000  \n",
      "Graduate 1           2.0724           6.2910            3.4258  \n",
      "Graduate 2           2.9240           2.0875            3.8689  \n",
      "Graduate 3           1.7219           5.0876            7.8723  \n",
      "Graduate 4           3.1497           0.6065            3.1337  \n",
      "Graduate 5           4.7825          -0.2139            0.0333  \n",
      "\n",
      "[5 rows x 10000 columns]\n"
     ]
    }
   ],
   "source": [
    "# Initialize the array to store the realized values\n",
    "optimal_realized_values = np.zeros((par.N, par.K))\n",
    "\n",
    "# Iterates over each individual\n",
    "for i in range(par.N):\n",
    "    #Iterates over each career track\n",
    "    for k in range(par.K):\n",
    "        # Retrieve the 1-indexed chosen career and convert to 0-index for array access\n",
    "        career_index = chosen_careers[i, k] - 1\n",
    "        # Compute the realized value\n",
    "        noise = np.random.normal(0, par.sigma)\n",
    "        optimal_realized_values[i, k] = par.v[career_index] + noise\n",
    "\n",
    "\n",
    "# Convert chosen careers and realized values to DataFrame for visualization\n",
    "optimal_realized_values_df = pd.DataFrame(optimal_realized_values, columns=[f'Simulation {k+1}' for k in range(par.K)], index=[f'Graduate {i+1}' for i in range(par.N)])\n",
    "\n",
    "# Print the results\n",
    "print(\"\\nRealized Values for Chosen Careers:\")\n",
    "print(optimal_realized_values_df.head())"
   ]
  },
  {
   "cell_type": "markdown",
   "metadata": {},
   "source": [
    "Share of graduates choosing each career"
   ]
  },
  {
   "cell_type": "code",
   "execution_count": 14,
   "metadata": {},
   "outputs": [
    {
     "name": "stdout",
     "output_type": "stream",
     "text": [
      "\n",
      "Proportions of Chosen Careers for Each Graduate:\n",
      "             Career 1  Career 2  Career 3\n",
      "Graduate 1     0.1580    0.2991    0.5429\n",
      "Graduate 2     0.0952    0.2668    0.6380\n",
      "Graduate 3     0.0603    0.2527    0.6870\n",
      "Graduate 4     0.0511    0.2163    0.7326\n",
      "Graduate 5     0.0330    0.2101    0.7569\n",
      "Graduate 6     0.0271    0.1825    0.7904\n",
      "Graduate 7     0.0182    0.1711    0.8107\n",
      "Graduate 8     0.0088    0.1540    0.8372\n",
      "Graduate 9     0.0106    0.1449    0.8445\n",
      "Graduate 10    0.0070    0.1278    0.8652\n"
     ]
    }
   ],
   "source": [
    "# Initialize the DataFrame to hold the proportions of chosen careers for each graduate\n",
    "# Specify the data type as float directly at initialization, to avoid future warning.\n",
    "career_proportions_df = pd.DataFrame(0.0, index=[f'Graduate {i+1}' for i in range(par.N)],\n",
    "                                     columns=[f'Career {j+1}' for j in range(par.J)])\n",
    "\n",
    "\n",
    "# Calculate the proportion of choices for each career for each graduate\n",
    "for i in range(par.N):\n",
    "    # Extract the careers chosen by each individual graduate across all simulations\n",
    "    graduate_careers = chosen_careers[i, :]\n",
    "\n",
    "    # Count occurrences of each career choice for this particular graduate\n",
    "    career_counts = np.bincount(graduate_careers, minlength=par.J + 1)[1:]  # Ensures correct length and skip index 0\n",
    "\n",
    "    # Calculate the share for each career for each graduate\n",
    "    career_proportions = career_counts / par.K\n",
    "\n",
    "    # Store the results in the DataFrame\n",
    "    career_proportions_df.loc[f'Graduate {i+1}'] = career_proportions\n",
    "\n",
    "# Print the DataFrame with the proportions of chosen careers for each graduate\n",
    "print(\"\\nProportions of Chosen Careers for Each Graduate:\")\n",
    "print(career_proportions_df)"
   ]
  },
  {
   "cell_type": "markdown",
   "metadata": {},
   "source": [
    "The Average Subjecive Expected Utility"
   ]
  },
  {
   "cell_type": "code",
   "execution_count": 15,
   "metadata": {},
   "outputs": [
    {
     "name": "stdout",
     "output_type": "stream",
     "text": [
      "Average Subjective Expected Utilities:\n",
      "             Average Subjective Expected Utility\n",
      "Graduate 1                                3.8753\n",
      "Graduate 2                                3.4802\n",
      "Graduate 3                                3.3233\n",
      "Graduate 4                                3.2342\n",
      "Graduate 5                                3.1649\n",
      "Graduate 6                                3.1234\n",
      "Graduate 7                                3.1078\n",
      "Graduate 8                                3.0897\n",
      "Graduate 9                                3.0713\n",
      "Graduate 10                               3.0674\n"
     ]
    }
   ],
   "source": [
    "# Calculate the average subjective expected utility for each graduate\n",
    "average_subjective_expected_utilities = np.mean(optimal_prior_expected_utilities, axis=1)  # Average over career tracks\n",
    "\n",
    "# Convert to DataFrame for visualization\n",
    "average_subjective_expected_utilities_df = pd.DataFrame(\n",
    "    average_subjective_expected_utilities, \n",
    "    columns=['Average Subjective Expected Utility'], \n",
    "    index=[f'Graduate {i+1}' for i in range(par.N)]\n",
    ")\n",
    "\n",
    "# Print\n",
    "print(\"Average Subjective Expected Utilities:\")\n",
    "print(average_subjective_expected_utilities_df)"
   ]
  },
  {
   "cell_type": "markdown",
   "metadata": {},
   "source": [
    "The Average Ex Post Realized Utility given their choice of career"
   ]
  },
  {
   "cell_type": "code",
   "execution_count": 16,
   "metadata": {},
   "outputs": [
    {
     "name": "stdout",
     "output_type": "stream",
     "text": [
      "\n",
      "Average Realized Utilities for Each Graduate:\n",
      "             Average Realized Utility\n",
      "Graduate 1                     2.3779\n",
      "Graduate 2                     2.5595\n",
      "Graduate 3                     2.6070\n",
      "Graduate 4                     2.7165\n",
      "Graduate 5                     2.7289\n",
      "Graduate 6                     2.7456\n",
      "Graduate 7                     2.8086\n",
      "Graduate 8                     2.8309\n",
      "Graduate 9                     2.8224\n",
      "Graduate 10                    2.8713\n"
     ]
    }
   ],
   "source": [
    "# Calculate the average realized utility for each graduate\n",
    "average_realized_utilities = np.mean(optimal_realized_values, axis=1)\n",
    "\n",
    "# Convert to DataFrame for better visualization\n",
    "average_realized_utilities_df = pd.DataFrame(average_realized_utilities, columns=['Average Realized Utility'], index=[f'Graduate {i+1}' for i in range(par.N)])\n",
    "\n",
    "# Print the results\n",
    "print(\"\\nAverage Realized Utilities for Each Graduate:\")\n",
    "print(average_realized_utilities_df)"
   ]
  },
  {
   "cell_type": "markdown",
   "metadata": {},
   "source": [
    "From the above it is evident, that a larger proportion chooses Career 3, as i increases.\n",
    "\n",
    "According to the problem, the first graduate has 1 friend in each career, the second has 2 friends, ... and the tenth has 10 friends. Which means, that the graduates with the highest number, has the most information about the expected value of each career track.\n",
    "\n",
    "Therefore, the graduates with the highest index will observe that career 3 gives the highest utility, and a larger proportion will therefore choose career track 3.\n",
    "\n",
    "This is also visible in the average realized utility, where the graduates with the most friends (highest index) also gets the higest average realized utility."
   ]
  },
  {
   "cell_type": "markdown",
   "metadata": {},
   "source": [
    "**Question 3:** Following the same approach as in question 2, find the new optimal career choice for each $i$, $k$. Then for each $i$, calculate the average subjective expected utility from their new optimal career choice, and the ex post realized utility of that career. Also, for each $i$, calculate the share of graduates that chooses to switch careers, conditional on which career they chose in the first year. <br>"
   ]
  },
  {
   "cell_type": "code",
   "execution_count": 17,
   "metadata": {},
   "outputs": [],
   "source": [
    "#Set c = 1\n",
    "par.c = 1"
   ]
  },
  {
   "cell_type": "markdown",
   "metadata": {},
   "source": [
    "Step 1: Calculate the prior expected utility of each each carrer track"
   ]
  },
  {
   "cell_type": "code",
   "execution_count": 18,
   "metadata": {},
   "outputs": [
    {
     "name": "stdout",
     "output_type": "stream",
     "text": [
      "Prior expected utility of each career track:\n",
      "             Career 1  Career 2  Career 3\n",
      "Graduate 1    -0.1822    0.7598    1.9358\n",
      "Graduate 2    -0.0796    0.9174    2.2409\n",
      "Graduate 3    -0.0645    0.9846    2.3682\n",
      "Graduate 4    -0.0161    0.9875    2.5172\n",
      "Graduate 5    -0.0227    1.0466    2.5428\n",
      "Graduate 6    -0.0139    1.0183    2.5967\n",
      "Graduate 7     0.0070    1.0446    2.6587\n",
      "Graduate 8    -0.0225    1.0375    2.7122\n",
      "Graduate 9    -0.0032    1.0344    2.7220\n",
      "Graduate 10   -0.0054    1.0477    2.7658\n"
     ]
    }
   ],
   "source": [
    "# Initialize arrays for the second year's expected utilities\n",
    "second_year_expected_utilities = np.zeros((par.N, par.J, par.K))\n",
    "\n",
    "\n",
    "# Iterates over each individual \n",
    "for i in range(par.N):\n",
    "    Fi = par.F[i]\n",
    "    epsilon_fj = drawn_values[f'Graduate {i+1}']  # Retrieve the stored epsilon values\n",
    "\n",
    "    #Iterates over each career option\n",
    "    for j in range(par.J):\n",
    "        for k in range(par.K):\n",
    "            #Retrieve the chosen career from period 1\n",
    "            current_career = chosen_careers[i, k] - 1\n",
    "            if j == current_career:\n",
    "                # No switching cost if staying in the same career\n",
    "                second_year_expected_utilities[i, j, k] = optimal_realized_values[i, k]\n",
    "            else:\n",
    "                # Apply switching cost if changing careers\n",
    "                second_year_expected_utilities[i, j, k] = par.v[j] + np.mean(epsilon_fj[j, :, k]) - par.c\n",
    "\n",
    "\n",
    "# Calculate average utilities over all simulations for simplicity\n",
    "average_second_year_utilities = np.mean(second_year_expected_utilities, axis=2)\n",
    "second_year_utilities_df = pd.DataFrame(average_second_year_utilities, columns=[f'Career {j+1}' for j in range(par.J)], index=[f'Graduate {i+1}' for i in range(par.N)])\n",
    "\n",
    "# Print the results\n",
    "print(\"Prior expected utility of each career track:\")\n",
    "print(second_year_utilities_df)"
   ]
  },
  {
   "cell_type": "markdown",
   "metadata": {},
   "source": [
    "Step 2: For each individual find the career track with the highest expected utility"
   ]
  },
  {
   "cell_type": "code",
   "execution_count": 19,
   "metadata": {},
   "outputs": [
    {
     "name": "stdout",
     "output_type": "stream",
     "text": [
      "\n",
      "Sample Chosen Careers in period 2:\n",
      "            Simulation 1  Simulation 2  Simulation 3  Simulation 4  \\\n",
      "Graduate 1             2             3             3             3   \n",
      "Graduate 2             3             3             3             1   \n",
      "Graduate 3             2             2             3             3   \n",
      "Graduate 4             3             2             3             2   \n",
      "Graduate 5             2             3             3             3   \n",
      "\n",
      "            Simulation 5  Simulation 6  Simulation 7  Simulation 8  \\\n",
      "Graduate 1             1             3             3             3   \n",
      "Graduate 2             2             3             2             2   \n",
      "Graduate 3             3             2             2             3   \n",
      "Graduate 4             3             2             3             3   \n",
      "Graduate 5             3             3             2             3   \n",
      "\n",
      "            Simulation 9  Simulation 10  ...  Simulation 9991  \\\n",
      "Graduate 1             3              3  ...                2   \n",
      "Graduate 2             3              3  ...                3   \n",
      "Graduate 3             2              3  ...                2   \n",
      "Graduate 4             3              3  ...                3   \n",
      "Graduate 5             3              3  ...                3   \n",
      "\n",
      "            Simulation 9992  Simulation 9993  Simulation 9994  \\\n",
      "Graduate 1                3                2                3   \n",
      "Graduate 2                3                3                3   \n",
      "Graduate 3                3                3                3   \n",
      "Graduate 4                3                3                2   \n",
      "Graduate 5                2                3                3   \n",
      "\n",
      "            Simulation 9995  Simulation 9996  Simulation 9997  \\\n",
      "Graduate 1                1                2                2   \n",
      "Graduate 2                2                2                3   \n",
      "Graduate 3                3                2                3   \n",
      "Graduate 4                3                2                3   \n",
      "Graduate 5                2                3                3   \n",
      "\n",
      "            Simulation 9998  Simulation 9999  Simulation 10000  \n",
      "Graduate 1                2                3                 2  \n",
      "Graduate 2                3                3                 3  \n",
      "Graduate 3                3                3                 3  \n",
      "Graduate 4                3                3                 3  \n",
      "Graduate 5                3                2                 3  \n",
      "\n",
      "[5 rows x 10000 columns]\n"
     ]
    }
   ],
   "source": [
    "#Initialize array to store the chosen careers, ensuring it's 2-dimensional\n",
    "chosen_careers2 = np.zeros((par.N, par.K), dtype=int)\n",
    "\n",
    "# Determine the career track with the highest expected utility for each simulation\n",
    "for i in range(par.N):\n",
    "    for k in range(par.K):\n",
    "        chosen_career2 = np.argmax(second_year_expected_utilities[i, :, k]) + 1  # Adding 1 to shift the index\n",
    "        chosen_careers2[i, k] = chosen_career2\n",
    "\n",
    "# Convert the chosen careers to DataFrame for visualization\n",
    "chosen_careers2_df = pd.DataFrame(chosen_careers2, columns=[f'Simulation {k+1}' for k in range(par.K)], index=[f'Graduate {i+1}' for i in range(par.N)])\n",
    "\n",
    "# Print a sample of chosen careers\n",
    "print(\"\\nSample Chosen Careers in period 2:\")\n",
    "print(chosen_careers2_df.head())"
   ]
  },
  {
   "cell_type": "markdown",
   "metadata": {},
   "source": [
    "Step 3: The prior expectation of the value of their chosen career"
   ]
  },
  {
   "cell_type": "code",
   "execution_count": 20,
   "metadata": {},
   "outputs": [
    {
     "name": "stdout",
     "output_type": "stream",
     "text": [
      "\n",
      "Optimal Second Year Expected Utilities:\n",
      "            Simulation 1  Simulation 2  Simulation 3  Simulation 4  \\\n",
      "Graduate 1        2.5757        1.7852        7.0655        2.3568   \n",
      "Graduate 2        5.4827        1.2725        2.2129        1.9572   \n",
      "Graduate 3        1.4287        6.2870        2.6493        3.3454   \n",
      "Graduate 4        1.9985        3.2567        5.0492        0.8838   \n",
      "Graduate 5        2.4080        4.7363        4.2453        3.5754   \n",
      "\n",
      "            Simulation 5  Simulation 6  Simulation 7  Simulation 8  \\\n",
      "Graduate 1        1.0735        2.4333        1.5182        3.2115   \n",
      "Graduate 2        0.4130        2.6029        3.0872        4.2522   \n",
      "Graduate 3        0.9916        1.4119        1.8752        4.9184   \n",
      "Graduate 4        1.5425        4.1238        1.6007        5.4126   \n",
      "Graduate 5        6.9095        3.2572        0.6609        3.0201   \n",
      "\n",
      "            Simulation 9  Simulation 10  ...  Simulation 9991  \\\n",
      "Graduate 1        1.1032         3.7059  ...           2.6696   \n",
      "Graduate 2        2.8967         2.3184  ...           0.9094   \n",
      "Graduate 3        1.6873         1.9651  ...           3.8162   \n",
      "Graduate 4        4.0603         1.2555  ...           3.6909   \n",
      "Graduate 5        4.3772         5.6934  ...           6.0827   \n",
      "\n",
      "            Simulation 9992  Simulation 9993  Simulation 9994  \\\n",
      "Graduate 1           2.8355           1.5634           5.7870   \n",
      "Graduate 2           1.6896           3.9810           3.2842   \n",
      "Graduate 3           3.7774           2.2329           3.0138   \n",
      "Graduate 4           3.3371           0.6329           0.8892   \n",
      "Graduate 5           3.7050           4.1201           0.4217   \n",
      "\n",
      "            Simulation 9995  Simulation 9996  Simulation 9997  \\\n",
      "Graduate 1           2.5163           2.3305           1.5513   \n",
      "Graduate 2           3.0543           1.2840           2.8568   \n",
      "Graduate 3           4.8295           1.9564           4.4425   \n",
      "Graduate 4           1.8580           4.0383           4.2063   \n",
      "Graduate 5           6.0137           3.3017           6.9624   \n",
      "\n",
      "            Simulation 9998  Simulation 9999  Simulation 10000  \n",
      "Graduate 1           2.0724           6.2910            3.4258  \n",
      "Graduate 2           2.9240           2.0875            3.8689  \n",
      "Graduate 3           1.7219           5.0876            7.8723  \n",
      "Graduate 4           3.1497           0.6065            3.1337  \n",
      "Graduate 5           4.7825          -0.1886            0.6078  \n",
      "\n",
      "[5 rows x 10000 columns]\n"
     ]
    }
   ],
   "source": [
    "# Initialize array for the optimal second expected utilities\n",
    "optimal_second_expected_utilities = np.zeros((par.N, par.K))\n",
    "\n",
    "# Determine the optimal expected utility for each chosen career in period 2\n",
    "for i in range(par.N):\n",
    "    for k in range(par.K):\n",
    "        optimal_career2 = chosen_careers2[i, k] - 1  # Convert to 0-index\n",
    "        optimal_second_expected_utilities[i, k] = second_year_expected_utilities[i, optimal_career2, k]\n",
    "\n",
    "# Convert to DataFrame for better visualization\n",
    "optimal_second_expected_utilities_df = pd.DataFrame(optimal_second_expected_utilities, columns=[f'Simulation {k+1}' for k in range(par.K)], index=[f'Graduate {i+1}' for i in range(par.N)])\n",
    "\n",
    "# Print the optimal second-year expected utilities\n",
    "print(\"\\nOptimal Second Year Expected Utilities:\")\n",
    "print(optimal_second_expected_utilities_df.head())"
   ]
  },
  {
   "cell_type": "markdown",
   "metadata": {},
   "source": [
    "Step 3: Realized value of their chosen career track"
   ]
  },
  {
   "cell_type": "code",
   "execution_count": 21,
   "metadata": {},
   "outputs": [
    {
     "name": "stdout",
     "output_type": "stream",
     "text": [
      "Average Second-Year Realized Utilities Considering Switching Costs:\n",
      "             Career 1  Career 2  Career 3\n",
      "Graduate 1     0.1945    1.3164    2.4294\n",
      "Graduate 2     0.1079    1.3067    2.6058\n",
      "Graduate 3     0.0567    1.2665    2.6798\n",
      "Graduate 4     0.0550    1.2238    2.7960\n",
      "Graduate 5     0.0279    1.2158    2.8182\n",
      "Graduate 6     0.0182    1.1702    2.8655\n",
      "Graduate 7     0.0143    1.1418    2.9438\n",
      "Graduate 8    -0.0031    1.1118    2.9794\n",
      "Graduate 9    -0.0015    1.0910    2.9902\n",
      "Graduate 10   -0.0051    1.0825    3.0353\n"
     ]
    }
   ],
   "source": [
    "# Initialize storage for first and second year utilities\n",
    "realized_values = np.random.rand(par.N, par.K) \n",
    "second_year_realized_utilities = np.zeros((par.N, par.J, par.K))\n",
    "\n",
    "# Iterate for each individual\n",
    "for i in range(par.N):\n",
    "    Fi = par.F[i]\n",
    "    epsilon_fj = drawn_values[f'Graduate {i+1}']  # Retrieve the stored epsilon values\n",
    "\n",
    "    # Iterate for each career track\n",
    "    for j in range(par.J):\n",
    "        for k in range(par.K):\n",
    "            current_career2 = chosen_careers2[i, k] - 1\n",
    "            if j == current_career2:\n",
    "                # No switching cost if staying in the same career\n",
    "                second_year_realized_utilities[i, j, k] = optimal_realized_values[i, k]\n",
    "            else:\n",
    "                # Apply switching cost if changing careers\n",
    "                second_year_realized_utilities[i, j, k] = expected_utilities[j] - par.c\n",
    "\n",
    "# Calculate average utilities over all simulations for simplicity\n",
    "average_second_year_utilities = np.mean(second_year_realized_utilities, axis=2)\n",
    "second_year_utilities_df = pd.DataFrame(average_second_year_utilities, columns=[f'Career {j+1}' for j in range(par.J)], index=[f'Graduate {i+1}' for i in range(par.N)])\n",
    "\n",
    "# Print the results\n",
    "print(\"Average Second-Year Realized Utilities Considering Switching Costs:\")\n",
    "print(second_year_utilities_df)"
   ]
  },
  {
   "cell_type": "markdown",
   "metadata": {},
   "source": [
    "Share of graduates choosing each career"
   ]
  },
  {
   "cell_type": "code",
   "execution_count": 22,
   "metadata": {},
   "outputs": [
    {
     "name": "stdout",
     "output_type": "stream",
     "text": [
      "\n",
      "Proportions of Chosen Careers for Each Graduate period 2:\n",
      "             Career 1  Career 2  Career 3\n",
      "Graduate 1     0.1379    0.2919    0.5702\n",
      "Graduate 2     0.0988    0.2686    0.6326\n",
      "Graduate 3     0.0694    0.2625    0.6681\n",
      "Graduate 4     0.0631    0.2372    0.6997\n",
      "Graduate 5     0.0460    0.2464    0.7076\n",
      "Graduate 6     0.0421    0.2293    0.7286\n",
      "Graduate 7     0.0339    0.2287    0.7374\n",
      "Graduate 8     0.0245    0.2132    0.7623\n",
      "Graduate 9     0.0248    0.2126    0.7626\n",
      "Graduate 10    0.0206    0.2051    0.7743\n"
     ]
    }
   ],
   "source": [
    "# Initialize the DataFrame to hold the proportions of chosen careers for each graduate\n",
    "career_proportions2_df = pd.DataFrame(0.0, index=[f'Graduate {i+1}' for i in range(par.N)],\n",
    "                                     columns=[f'Career {j+1}' for j in range(par.J)])\n",
    "\n",
    "\n",
    "# Calculate the proportion of choices for each career for each graduate\n",
    "for i in range(par.N):\n",
    "    # Extract the careers chosen by each individual graduate across all simulations\n",
    "    graduate_careers2 = chosen_careers2[i, :]\n",
    "\n",
    "    # Count occurrences of each career choice for this particular graduate\n",
    "    career_counts2 = np.bincount(graduate_careers2, minlength=par.J + 1)[1:]  # Ensure correct length and skip index 0\n",
    "\n",
    "    # Calculate the share for each career for this graduate\n",
    "    career_proportions2 = career_counts2 / par.K\n",
    "\n",
    "    # Store the results in the DataFrame\n",
    "    career_proportions2_df.loc[f'Graduate {i+1}'] = career_proportions2\n",
    "\n",
    "# Print the DataFrame with the proportions of chosen careers for each graduate\n",
    "print(\"\\nProportions of Chosen Careers for Each Graduate period 2:\")\n",
    "print(career_proportions2_df)"
   ]
  },
  {
   "cell_type": "markdown",
   "metadata": {},
   "source": [
    "The Average Subjective Expected Utility"
   ]
  },
  {
   "cell_type": "code",
   "execution_count": 23,
   "metadata": {},
   "outputs": [
    {
     "name": "stdout",
     "output_type": "stream",
     "text": [
      "Second period average subjective utility:\n",
      "             Overall Average Expected Utility\n",
      "Graduate 1                             2.8529\n",
      "Graduate 2                             2.9133\n",
      "Graduate 3                             2.9434\n",
      "Graduate 4                             3.0025\n",
      "Graduate 5                             2.9984\n",
      "Graduate 6                             3.0133\n",
      "Graduate 7                             3.0576\n",
      "Graduate 8                             3.0592\n",
      "Graduate 9                             3.0518\n",
      "Graduate 10                            3.0909\n"
     ]
    }
   ],
   "source": [
    "# Calculate the overall average expected utility for each graduate\n",
    "second_subjective = np.mean(optimal_second_expected_utilities, axis=(1))  # Average over both careers and simulations\n",
    "\n",
    "# Convert to DataFrame for visualization\n",
    "second_subjective_df = pd.DataFrame(second_subjective, columns=['Overall Average Expected Utility'], index=[f'Graduate {i+1}' for i in range(par.N)])\n",
    "\n",
    "# Print the overall average expected utilities\n",
    "print(\"Second period average subjective utility:\")\n",
    "print(second_subjective_df)"
   ]
  },
  {
   "cell_type": "markdown",
   "metadata": {},
   "source": [
    "Ex post realized utility given their choice"
   ]
  },
  {
   "cell_type": "code",
   "execution_count": 24,
   "metadata": {},
   "outputs": [
    {
     "name": "stdout",
     "output_type": "stream",
     "text": [
      "\n",
      "Average Realized Utilities for Each Graduate:\n",
      "             Average Realized Utility\n",
      "Graduate 1                     1.3134\n",
      "Graduate 2                     1.3401\n",
      "Graduate 3                     1.3343\n",
      "Graduate 4                     1.3583\n",
      "Graduate 5                     1.3540\n",
      "Graduate 6                     1.3513\n",
      "Graduate 7                     1.3666\n",
      "Graduate 8                     1.3627\n",
      "Graduate 9                     1.3599\n",
      "Graduate 10                    1.3709\n"
     ]
    }
   ],
   "source": [
    "# Calculate the average realized utility for each graduate\n",
    "average_realized_utilities2 = np.mean(second_year_realized_utilities, axis=(1, 2))\n",
    "\n",
    "# Convert to DataFrame for better visualization\n",
    "average_realized_utilities2_df = pd.DataFrame(average_realized_utilities2, columns=['Average Realized Utility'], index=[f'Graduate {i+1}' for i in range(par.N)])\n",
    "\n",
    "# Print the results\n",
    "print(\"\\nAverage Realized Utilities for Each Graduate:\")\n",
    "print(average_realized_utilities2_df)"
   ]
  },
  {
   "cell_type": "markdown",
   "metadata": {},
   "source": [
    "The share of graduates that choose to switch careers conditional on which career they chose in the first year"
   ]
  },
  {
   "cell_type": "code",
   "execution_count": 25,
   "metadata": {},
   "outputs": [
    {
     "name": "stdout",
     "output_type": "stream",
     "text": [
      "\n",
      "Percentage of Career Switches for Each Graduate:\n",
      "             Percentage of Career Switches\n",
      "Graduate 1                         28.9100\n",
      "Graduate 2                         25.5100\n",
      "Graduate 3                         24.2800\n",
      "Graduate 4                         21.9400\n",
      "Graduate 5                         21.5000\n",
      "Graduate 6                         20.9900\n",
      "Graduate 7                         20.0200\n",
      "Graduate 8                         19.4300\n",
      "Graduate 9                         19.4900\n",
      "Graduate 10                        18.5300\n"
     ]
    }
   ],
   "source": [
    "# Initialize an array to store the count of switches for each graduate\n",
    "switch_count_individual = np.zeros(par.N)\n",
    "\n",
    "# Iterate over each individual\n",
    "for i in range(par.N):\n",
    "    #Initialize to 0\n",
    "    switch_count = 0\n",
    "    #Iterates over each simulation\n",
    "    for k in range(par.K):\n",
    "        #Retrieve the careers chosen in period 1\n",
    "        initial_career = chosen_careers[i, k] - 1  # Convert to 0-index\n",
    "        #Retrieve the careers chosen in period 2\n",
    "        second_career = chosen_careers2[i, k] - 1  # Convert to 0-index\n",
    "\n",
    "        # Checks if the career in the second period is different form the first period\n",
    "        if initial_career != second_career:\n",
    "            switch_count += 1  # Increment switch count if careers are different\n",
    "\n",
    "    # Calculate the percentage of switches for graduates\n",
    "    switch_count_individual[i] = (switch_count / par.K) * 100\n",
    "\n",
    "# Convert to DataFrame for better visualization\n",
    "switch_count_individual_df = pd.DataFrame(switch_count_individual, columns=['Percentage of Career Switches'], index=[f'Graduate {i+1}' for i in range(par.N)])\n",
    "\n",
    "# Print the results\n",
    "print(\"\\nPercentage of Career Switches for Each Graduate:\")\n",
    "print(switch_count_individual_df)"
   ]
  },
  {
   "cell_type": "markdown",
   "metadata": {},
   "source": [
    "From the analysis, it is clear that there is a trend between having fewer friends and a higher percentage of career switches. Individuals with fewer friends, and consequently less information in the first period, are more likely to switch careers.\n",
    "\n",
    "This trend is logical because with less information initially, these individuals are more likely to choose a career with a lower payoff. By the second period, they have gained more information about which careers offer higher payoffs, making them more likely to switch to a better option."
   ]
  },
  {
   "cell_type": "markdown",
   "metadata": {},
   "source": [
    "## 3. <a id='toc3_'></a>[Problem 3: Barycentric interpolation](#toc0_)"
   ]
  },
  {
   "cell_type": "markdown",
   "metadata": {},
   "source": [
    "**Questions 1:** Find $A$, $B$, $C$ and $D$. Illustrate these together with $X$, $y$ and the triangles $ABC$ and $CDA$."
   ]
  },
  {
   "cell_type": "markdown",
   "metadata": {},
   "source": [
    "The algorithm can be found in the py-file examp3. Explanations for the code and calculations are provided in the py-file. A, B, C and D are found below."
   ]
  },
  {
   "cell_type": "code",
   "execution_count": 26,
   "metadata": {},
   "outputs": [
    {
     "name": "stdout",
     "output_type": "stream",
     "text": [
      "A: [0.26071605 0.43635845]\n",
      "B: [0.21315735 0.274245  ]\n",
      "C: [0.10056103 0.27951775]\n",
      "D: [0.20634391 0.44272557]\n"
     ]
    }
   ],
   "source": [
    "# Import algorithm from py file\n",
    "from examp3 import Model3\n",
    "\n",
    "# Create an instance of the class\n",
    "model4 = Model3()\n",
    "\n",
    "# Find nearest points A, B, C, D and print\n",
    "print(\"A:\", model4.A) \n",
    "print(\"B:\", model4.B)\n",
    "print(\"C:\", model4.C)\n",
    "print(\"D:\", model4.D)"
   ]
  },
  {
   "cell_type": "markdown",
   "metadata": {},
   "source": [
    "The points above are used to construct the triangles from which we determine if y lies in one of them. If it is the case that y is in one of the triangles, then we can use barycentric interpolation. Below is a plot with all the points, the points in set X and the triangles. Furthermore, point y is also displayed."
   ]
  },
  {
   "cell_type": "code",
   "execution_count": 27,
   "metadata": {},
   "outputs": [
    {
     "data": {
      "image/png": "[encoded data removed]",
      "text/plain": [
       "<Figure size 800x800 with 1 Axes>"
      ]
     },
     "metadata": {},
     "output_type": "display_data"
    }
   ],
   "source": [
    "# Plot the points and triangles\n",
    "model4.plot_point_and_tri()"
   ]
  },
  {
   "cell_type": "markdown",
   "metadata": {},
   "source": [
    "As can be seen from the plot above, the point y graphically lies in triangle ABC."
   ]
  },
  {
   "cell_type": "markdown",
   "metadata": {},
   "source": [
    "**Question 2:** Compute the barycentric coordinates of the point $y$ with respect to the triangles $ABC$ and $CDA$. Which triangle is $y$ located inside?"
   ]
  },
  {
   "cell_type": "markdown",
   "metadata": {},
   "source": [
    "The barycentric coordinates of point y wrt the triangles can be seen below. From the condition that barycentric coordinates have to be in the interval between 0 and 1, y lies in triangle ABC. The coordinates if it where to lie in CDA are also displayed."
   ]
  },
  {
   "cell_type": "code",
   "execution_count": 28,
   "metadata": {},
   "outputs": [
    {
     "name": "stdout",
     "output_type": "stream",
     "text": [
      "y in ABC with coordinates: [0.20901926 0.37774759]\n",
      "Barycentric coordinates of ABC: (0.6286263152916166, 0.06910145494351515, 0.3022722297648682)\n",
      "y not in CDA\n",
      "Barycentric coordinates of CDA: (0.3682598757102867, -0.13392661883334067, 0.765666743123054)\n"
     ]
    }
   ],
   "source": [
    "# Check if the point y is inside any triangle, and which triangle that might be and get coordinates\n",
    "result1 = model4.check_y_in_tri()"
   ]
  },
  {
   "cell_type": "markdown",
   "metadata": {},
   "source": [
    "**Question 3:** Compute the approximation of $f(y)$ using the full algorithm. Compare with the true value."
   ]
  },
  {
   "cell_type": "markdown",
   "metadata": {},
   "source": [
    "By applying the function we can compute the approximation of f(y) (barycentric interpolation). Furthermore, the true value is found for comparison."
   ]
  },
  {
   "cell_type": "code",
   "execution_count": 29,
   "metadata": {},
   "outputs": [
    {
     "name": "stdout",
     "output_type": "stream",
     "text": [
      "y in ABC with coordinates: [0.20901926 0.37774759]\n",
      "Barycentric coordinates of ABC: (0.6286263152916166, 0.06910145494351515, 0.3022722297648682)\n",
      "y not in CDA\n",
      "Barycentric coordinates of CDA: (0.3682598757102867, -0.13392661883334067, 0.765666743123054)\n",
      "Approximation f(y): 0.08405201731052576\n",
      "True value f(y): 0.0789565216259594\n",
      "Difference: 0.005095495684566367\n"
     ]
    }
   ],
   "source": [
    "# the approximation of f(y) and the true value of f(y) and the difference\n",
    "f_y, true_value, diff_true = model4.approx_f()"
   ]
  },
  {
   "cell_type": "markdown",
   "metadata": {},
   "source": [
    "The difference noted above is a measure of the absolute difference between the aproximation and the true value. This indicates a measure of the error in the approximation which increases in magnitude the larger the difference is. The closer this is to zero, the higher the accuracy is for our approximation. With the difference  being  0.0051, we conclude that our approximation for f(y) is fairly accurate for the given sample."
   ]
  },
  {
   "cell_type": "markdown",
   "metadata": {},
   "source": [
    "**Question 4:** Repeat question 3 for all points in the set $Y$."
   ]
  },
  {
   "cell_type": "markdown",
   "metadata": {},
   "source": [
    "To find the approximations for the given set Y, we loop over values of y in the set. The results can be seen below (truncated). Notice that for the point $y=(0.8,0.8)$ the interpolation cannot be done as the point y does not lie in any triangle."
   ]
  },
  {
   "cell_type": "code",
   "execution_count": 30,
   "metadata": {},
   "outputs": [
    {
     "name": "stdout",
     "output_type": "stream",
     "text": [
      "\n",
      "Evaluating for y = (0.2, 0.2):\n",
      "y in ABC with coordinates: [0.2 0.2]\n",
      "Barycentric coordinates of ABC: (0.1805466701524854, 0.5826765149253863, 0.23677681492212832)\n",
      "y not in CDA\n",
      "Barycentric coordinates of CDA: (0.7507400810688765, -0.7794749222521683, 1.028734841183292)\n",
      "Approximation f(y): 0.04032631372248057\n",
      "True value f(y): 0.04000000000000001\n",
      "Difference: 0.0003263137224805632\n",
      "\n",
      "Evaluating for y = (0.8, 0.2):\n",
      "y in ABC with coordinates: [0.8 0.2]\n",
      "Barycentric coordinates of ABC: (0.5874166293573827, 0.2678463596528006, 0.14473701098981667)\n",
      "y not in CDA\n",
      "Barycentric coordinates of CDA: (0.4187612872222544, -1.5023945927888533, 2.083633305566599)\n",
      "Approximation f(y): 0.15874233999349835\n",
      "True value f(y): 0.16000000000000003\n",
      "Difference: 0.0012576600065016819\n",
      "\n",
      "Evaluating for y = (0.8, 0.8):\n",
      "Approximation f(y): nan\n",
      "True value f(y): 0.6400000000000001\n",
      "Difference: nan\n",
      "\n",
      "Evaluating for y = (0.8, 0.2):\n",
      "y in ABC with coordinates: [0.8 0.2]\n",
      "Barycentric coordinates of ABC: (0.5874166293573827, 0.2678463596528006, 0.14473701098981667)\n",
      "y not in CDA\n",
      "Barycentric coordinates of CDA: (0.4187612872222544, -1.5023945927888533, 2.083633305566599)\n",
      "Approximation f(y): 0.15874233999349835\n",
      "True value f(y): 0.16000000000000003\n",
      "Difference: 0.0012576600065016819\n",
      "\n",
      "Evaluating for y = (0.5, 0.5):\n",
      "y in ABC with coordinates: [0.5 0.5]\n",
      "Barycentric coordinates of ABC: (0.4407329133559943, 0.3362411978710884, 0.2230258887729173)\n",
      "y not in CDA\n",
      "Barycentric coordinates of CDA: (0.7896805544065844, -1.1659086695972625, 1.3762281151906781)\n",
      "Approximation f(y): 0.2512901561119622\n",
      "True value f(y): 0.25\n",
      "Difference: 0.001290156111962204\n"
     ]
    }
   ],
   "source": [
    "#display results for all points in Y\n",
    "Y=[(0.2, 0.2), (0.8, 0.2), (0.8, 0.8), (0.8, 0.2), (0.5, 0.5)]\n",
    "result4 = model4.func_4(Y)"
   ]
  },
  {
   "cell_type": "markdown",
   "metadata": {},
   "source": [
    "Now we can look at the relative error for each point estimation by dividing the difference with the true value:"
   ]
  },
  {
   "cell_type": "code",
   "execution_count": 31,
   "metadata": {},
   "outputs": [
    {
     "name": "stdout",
     "output_type": "stream",
     "text": [
      "        Point  Relative Error\n",
      "0  (0.2, 0.2)          0.0082\n",
      "1  (0.8, 0.2)          0.0079\n",
      "2  (0.8, 0.8)             NaN\n",
      "3  (0.8, 0.2)          0.0079\n",
      "4  (0.5, 0.5)          0.0052\n"
     ]
    }
   ],
   "source": [
    "# Calculate the relative error\n",
    "relative_error = model4.relative_error(result4)\n",
    "\n",
    "# Create DataFrame for relative errors\n",
    "relative_errors_df = pd.DataFrame(relative_error, columns=['Point', 'Relative Error'])\n",
    "\n",
    "# Print relative errors\n",
    "print(relative_errors_df)"
   ]
  },
  {
   "cell_type": "markdown",
   "metadata": {},
   "source": [
    "We see that for the point $y=(0.5,0.5)$ we obtain the lowest relative error of 0.52 percent. All points, with the exception of $y=(0.8,0.8)$ have low relative errors. Therefore, our method of interpolation is reliable for this data."
   ]
  }
 ],
 "metadata": {
  "kernelspec": {
   "display_name": "base",
   "language": "python",
   "name": "python3"
  },
  "language_info": {
   "codemirror_mode": {
    "name": "ipython",
    "version": 3
   },
   "file_extension": ".py",
   "mimetype": "text/x-python",
   "name": "python",
   "nbconvert_exporter": "python",
   "pygments_lexer": "ipython3",
   "version": "3.11.7"
  }
 },
 "nbformat": 4,
 "nbformat_minor": 2
}
