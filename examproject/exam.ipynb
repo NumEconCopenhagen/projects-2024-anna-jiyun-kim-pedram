{
 "cells": [
  {
   "cell_type": "code",
   "execution_count": null,
   "metadata": {},
   "outputs": [],
   "source": [
    "from types import SimpleNamespace\n",
    "import numpy as np\n",
    "from scipy.optimize import minimize, root\n",
    "import pandas as pd\n",
    "import matplotlib.pyplot as plt\n"
   ]
  },
  {
   "cell_type": "markdown",
   "metadata": {},
   "source": [
    "## 1. <a id='toc1_'></a>[Problem 1: Production economy and CO2 taxation](#toc0_)"
   ]
  },
  {
   "cell_type": "markdown",
   "metadata": {},
   "source": [
    "**Question 1:** Check market clearing conditions for $p_1$ in `linspace(0.1,2.0,10)` and $p_2$ in `linspace(0.1,2.0,10)`. We choose $w=1$ as numeraire."
   ]
  },
  {
   "cell_type": "code",
   "execution_count": null,
   "metadata": {},
   "outputs": [],
   "source": [
    "from examp1 import ProductionEconomyClass\n",
    "\n",
    "# Instantiate the model\n",
    "model = ProductionEconomyClass()\n"
   ]
  },
  {
   "cell_type": "code",
   "execution_count": null,
   "metadata": {},
   "outputs": [],
   "source": [
    "# Define ranges for p1 and p2\n",
    "p1_values = np.linspace(0.1, 2.0, 10)\n",
    "p2_values = np.linspace(0.1, 2.0, 10)\n",
    "\n",
    "# Initialize lists to store results\n",
    "results = []\n",
    "\n",
    "# Compute excess demands for each combination of p1 and p2\n",
    "for p1 in p1_values:\n",
    "    for p2 in p2_values:\n",
    "        excess_labor = model.excessdemand_labor(p1, p2)\n",
    "        excess_goodsmarket1 = model.excessdemand_goodmarket1(p1, p2)\n",
    "        excess_goodsmarket2 = model.excessdemand_goodmarket2(p1, p2)\n",
    "        results.append((p1, p2, excess_labor, excess_goodsmarket1, excess_goodsmarket2))\n",
    "\n",
    "# Create a DataFrame for better readability\n",
    "df_results = pd.DataFrame(results, columns=['p1', 'p2', 'Excess Labor', 'Excess Goods Market 1', 'Excess Goods Market 2'])\n",
    "\n",
    "# Display the DataFrame\n",
    "pd.set_option('display.float_format', lambda x: '%.4f' % x)\n",
    "print(df_results)\n",
    "\n",
    "# Find the indices where the sign changes\n",
    "sign_changes = df_results['Excess Goods Market 1'].apply(np.sign).diff().ne(0)\n",
    "\n",
    "# Filter the indices where the sign changes (excluding the first row, as diff() makes the first value NaN)\n",
    "sign_change_indices = df_results[sign_changes].index[1:]\n",
    "\n",
    "print(\"Indices where sign changes:\", sign_change_indices)\n",
    "print(\"Values at these indices:\")\n",
    "print(df_results.loc[sign_change_indices])\n"
   ]
  },
  {
   "cell_type": "markdown",
   "metadata": {},
   "source": [
    "**Question 2:** Find the equilibrium prices $p_1$ and $p_2$.<br>\n",
    "*Hint: you can use Walras' law to only check 2 of the market clearings*"
   ]
  },
  {
   "cell_type": "code",
   "execution_count": null,
   "metadata": {},
   "outputs": [],
   "source": [
    "# List initial guesses in the space to see which would be best\n",
    "initial_guesses = [\n",
    "    [0.5, 0.5],\n",
    "    [1, 1],\n",
    "    [1.5, 1.5],\n",
    "    [0.1, 0.1],\n",
    "    [2.0, 2.0]\n",
    "]\n",
    "\n",
    "best_result = None\n",
    "best_objective_value = np.inf\n",
    "best_initial_guess = None\n",
    "\n",
    "# Try initial guesses and find the best result with lowest objective value\n",
    "for initial_guess in initial_guesses:\n",
    "    result = minimize(model.objectiveprice, initial_guess, bounds=[(0.1, 2.0), (0.1, 2.0)])\n",
    "    if result.fun < best_objective_value:\n",
    "        best_result = result\n",
    "        best_objective_value = result.fun\n",
    "        best_initial_guess = initial_guess\n",
    "\n",
    "equilibrium_p1, equilibrium_p2 = best_result.x\n",
    "\n",
    "# Print results for equilibrium prices and the initial guess that gave the best result\n",
    "print(f\"Equilibrium p1: {equilibrium_p1:.4f}, Equilibrium p2: {equilibrium_p2:.4f}\")\n",
    "print(f\"Best initial guess: {best_initial_guess}\")\n",
    "print(model.y_star_firm(model.l_star_firm(equilibrium_p2)))"
   ]
  },
  {
   "cell_type": "markdown",
   "metadata": {},
   "source": [
    "**Question 3:** What values of $\\tau$ and (implied) $T$ should the government choose to maximize $SWF$?"
   ]
  },
  {
   "cell_type": "code",
   "execution_count": null,
   "metadata": {},
   "outputs": [],
   "source": [
    "p1 = equilibrium_p1\n",
    "p2 = equilibrium_p2\n",
    "\n",
    "tau_optimal = model.optimize_tau(p1, p2)\n",
    "T_optimal = tau_optimal * model.c23(p1, p2, tau_optimal, 0, model.l_star_consumer(p1, p2))\n",
    "\n",
    "print(\"Optimal tau:\", tau_optimal)\n",
    "print(\"Implied T:\", T_optimal)"
   ]
  },
  {
   "cell_type": "markdown",
   "metadata": {},
   "source": [
    "## 2. <a id='toc2_'></a>[Problem 2: Career choice model](#toc0_)"
   ]
  },
  {
   "cell_type": "markdown",
   "metadata": {},
   "source": [
    "**Question 1:** Simulate and calculate expected utility and the average realised utility for $K=10000$ draws, for each career choice $j$.\n"
   ]
  },
  {
   "cell_type": "markdown",
   "metadata": {},
   "source": [
    "**Question 2:** Simulate and visualize: For each type of graduate, $i$, the share of graduates choosing each career, the average subjective expected utility of the graduates, and the average ex post realized utility given their choice."
   ]
  },
  {
   "cell_type": "markdown",
   "metadata": {},
   "source": [
    "**Question 3:** Following the same approach as in question 2, find the new optimal career choice for each $i$, $k$. Then for each $i$, calculate the average subjective expected utility from their new optimal career choice, and the ex post realized utility of that career. Also, for each $i$, calculate the share of graduates that chooses to switch careers, conditional on which career they chose in the first year. <br>"
   ]
  },
  {
   "cell_type": "markdown",
   "metadata": {},
   "source": [
    "## 3. <a id='toc3_'></a>[Problem 3: Barycentric interpolation](#toc0_)"
   ]
  },
  {
   "cell_type": "markdown",
   "metadata": {},
   "source": [
    "**Questions 1:** Find $A$, $B$, $C$ and $D$. Illustrate these together with $X$, $y$ and the triangles $ABC$ and $CDA$."
   ]
  },
  {
   "cell_type": "markdown",
   "metadata": {},
   "source": [
    "**Question 2:** Compute the barycentric coordinates of the point $y$ with respect to the triangles $ABC$ and $CDA$. Which triangle is $y$ located inside?"
   ]
  },
  {
   "cell_type": "markdown",
   "metadata": {},
   "source": [
    "**Question 3:** Compute the approximation of $f(y)$ using the full algorithm. Compare with the true value."
   ]
  },
  {
   "cell_type": "markdown",
   "metadata": {},
   "source": [
    "**Question 4:** Repeat question 3 for all points in the set $Y$."
   ]
  }
 ],
 "metadata": {
  "kernelspec": {
   "display_name": "base",
   "language": "python",
   "name": "python3"
  },
  "language_info": {
   "name": "python",
   "version": "3.11.7"
  }
 },
 "nbformat": 4,
 "nbformat_minor": 2
}
