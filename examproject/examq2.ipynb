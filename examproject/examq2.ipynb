{
 "cells": [
  {
   "cell_type": "code",
   "execution_count": 6,
   "metadata": {},
   "outputs": [],
   "source": [
    "import numpy as np\n",
    "import pandas as pd\n",
    "from types import SimpleNamespace"
   ]
  },
  {
   "cell_type": "code",
   "execution_count": 7,
   "metadata": {},
   "outputs": [],
   "source": [
    "par = SimpleNamespace()\n",
    "par.J = 3\n",
    "par.N = 10\n",
    "par.K = 10000\n",
    "par.F = np.arange(1,par.N+1)\n",
    "par.sigma = 2\n",
    "par.v = np.array([1,2,3])\n",
    "par.c = 1"
   ]
  },
  {
   "cell_type": "markdown",
   "metadata": {},
   "source": [
    "Question 1"
   ]
  },
  {
   "cell_type": "code",
   "execution_count": 8,
   "metadata": {},
   "outputs": [],
   "source": [
    "# Set a seed\n",
    "np.random.seed(80)"
   ]
  },
  {
   "cell_type": "code",
   "execution_count": 9,
   "metadata": {},
   "outputs": [],
   "source": [
    "# Initialize arrays to store expected- and average realized utilities\n",
    "expected_utilities = np.zeros(par.J)\n",
    "avg_realized_utilities = np.zeros((par.N, par.J))\n",
    "\n",
    "# For each career choice j\n",
    "for j in range(par.J):\n",
    "    # Epsilon is drawn from a normal distribution\n",
    "    epsilon = np.random.normal(0, par.sigma, (par.N, par.K))\n",
    "    #Calculate ex post utility\n",
    "    utilities = par.v[j] + epsilon\n",
    "    #Calculate expected utility\n",
    "    expected_utilities[j] = par.v[j] + np.mean(epsilon)\n",
    "    #Calculate average realized utilities across all simulations for each graduate \n",
    "    avg_realized_utilities[:, j] = np.mean(utilities, axis=1)\n"
   ]
  },
  {
   "cell_type": "code",
   "execution_count": 10,
   "metadata": {},
   "outputs": [
    {
     "name": "stdout",
     "output_type": "stream",
     "text": [
      "Expected Utilities:\n",
      "          Expected Utility\n",
      "Career 1          0.988813\n",
      "Career 2          2.009004\n",
      "Career 3          2.995133\n",
      "\n",
      "Realized Utilities:\n",
      "             Realized Utility Career 1  Realized Utility Career 2  \\\n",
      "Graduate 1                    0.997869                   2.013136   \n",
      "Graduate 2                    0.968002                   2.004125   \n",
      "Graduate 3                    0.996840                   2.043912   \n",
      "Graduate 4                    1.002072                   2.020080   \n",
      "Graduate 5                    0.983313                   2.009857   \n",
      "Graduate 6                    0.973542                   1.999288   \n",
      "Graduate 7                    1.014064                   1.994329   \n",
      "Graduate 8                    0.978955                   1.997091   \n",
      "Graduate 9                    0.973771                   2.019734   \n",
      "Graduate 10                   0.999703                   1.988483   \n",
      "\n",
      "             Realized Utility Career 3  \n",
      "Graduate 1                    2.989200  \n",
      "Graduate 2                    2.974289  \n",
      "Graduate 3                    2.986687  \n",
      "Graduate 4                    2.982839  \n",
      "Graduate 5                    3.025684  \n",
      "Graduate 6                    3.023298  \n",
      "Graduate 7                    3.023264  \n",
      "Graduate 8                    2.972699  \n",
      "Graduate 9                    2.990205  \n",
      "Graduate 10                   2.983167  \n"
     ]
    }
   ],
   "source": [
    "# Convert to DataFrame for better visualization\n",
    "expected_utilities_df = pd.DataFrame(expected_utilities, columns=['Expected Utility'], index=[f'Career {j+1}' for j in range(par.J)])\n",
    "avg_realized_utilities_df = pd.DataFrame(avg_realized_utilities, columns=[f'Realized Utility Career {j+1}' for j in range(par.J)], index=[f'Graduate {i+1}' for i in range(par.N)])\n",
    "\n",
    "# Print the expected and realized utilities\n",
    "print(\"Expected Utilities:\")\n",
    "print(expected_utilities_df)\n",
    "\n",
    "print(\"\\nRealized Utilities:\")\n",
    "print(avg_realized_utilities_df)"
   ]
  },
  {
   "cell_type": "markdown",
   "metadata": {},
   "source": [
    "**Question 2**"
   ]
  },
  {
   "cell_type": "markdown",
   "metadata": {},
   "source": [
    "Step 1"
   ]
  },
  {
   "cell_type": "code",
   "execution_count": 11,
   "metadata": {},
   "outputs": [
    {
     "name": "stdout",
     "output_type": "stream",
     "text": [
      "Average Prior Expected Utilities:\n",
      "             Career 1  Career 2  Career 3\n",
      "Graduate 1   1.037594  1.983420  2.989729\n",
      "Graduate 2   1.009278  1.984125  3.006044\n",
      "Graduate 3   0.990181  2.004945  3.009577\n",
      "Graduate 4   1.013475  1.981079  3.011749\n",
      "Graduate 5   0.998056  2.011311  2.993387\n",
      "Graduate 6   0.999810  1.986135  2.992950\n",
      "Graduate 7   1.008791  2.001954  2.998760\n",
      "Graduate 8   0.981806  1.997406  3.006844\n",
      "Graduate 9   1.004039  2.000279  2.997815\n",
      "Graduate 10  0.997350  1.998711  3.008142\n"
     ]
    }
   ],
   "source": [
    "# Initialize array to store the drawn values\n",
    "drawn_values = {}\n",
    "\n",
    "\n",
    "# Simulate drawing J * F_i values for each person i\n",
    "for i in range(par.N):\n",
    "    #Determine the number of sample for the graduate\n",
    "    Fi = par.F[i]\n",
    "    #Generate epsilon \n",
    "    epsilon_fj = np.random.normal(0, par.sigma, (par.J, Fi, par.K))\n",
    "    #Store the drawn values in the dictionary\n",
    "    drawn_values[f'Graduate {i+1}'] = epsilon_fj\n",
    "\n",
    "\n",
    "\n",
    "# Initialize array to store the prior expected utilities\n",
    "prior_expected_utilities = np.zeros((par.N, par.J, par.K))\n",
    "\n",
    "\n",
    "# For each graduate, i \n",
    "for i in range(par.N):\n",
    "    Fi = par.F[i]\n",
    "    epsilon_fj = drawn_values[f'Graduate {i+1}']\n",
    "    \n",
    "    # For each career track, j\n",
    "    for j in range(par.J):\n",
    "        #For each simulation, k\n",
    "        for k in range(par.K):\n",
    "            #Calculate the prior expected utilities\n",
    "            prior_expected_utilities[i, j, k] = np.mean(par.v[j] + epsilon_fj[j, :, k])\n",
    "\n",
    "\n",
    "\n",
    "# We can visualize the average prior expected utility over all simulations for simplicity\n",
    "average_prior_expected_utilities = np.mean(prior_expected_utilities, axis=2)\n",
    "prior_expected_utilities_df = pd.DataFrame(average_prior_expected_utilities, columns=[f'Career {j+1}' for j in range(par.J)], index=[f'Graduate {i+1}' for i in range(par.N)])\n",
    "\n",
    "\n",
    "\n",
    "# Print the average prior expected utilities\n",
    "print(\"Average Prior Expected Utilities:\")\n",
    "print(prior_expected_utilities_df)\n"
   ]
  }
 ],
 "metadata": {
  "kernelspec": {
   "display_name": "base",
   "language": "python",
   "name": "python3"
  },
  "language_info": {
   "codemirror_mode": {
    "name": "ipython",
    "version": 3
   },
   "file_extension": ".py",
   "mimetype": "text/x-python",
   "name": "python",
   "nbconvert_exporter": "python",
   "pygments_lexer": "ipython3",
   "version": "3.11.7"
  }
 },
 "nbformat": 4,
 "nbformat_minor": 2
}
