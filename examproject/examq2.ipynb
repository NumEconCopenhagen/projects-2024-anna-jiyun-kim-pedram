{
 "cells": [
  {
   "cell_type": "code",
   "execution_count": 6,
   "metadata": {},
   "outputs": [],
   "source": [
    "import numpy as np\n",
    "import pandas as pd\n",
    "from types import SimpleNamespace"
   ]
  },
  {
   "cell_type": "code",
   "execution_count": 7,
   "metadata": {},
   "outputs": [],
   "source": [
    "par = SimpleNamespace()\n",
    "par.J = 3\n",
    "par.N = 10\n",
    "par.K = 10000\n",
    "par.F = np.arange(1,par.N+1)\n",
    "par.sigma = 2\n",
    "par.v = np.array([1,2,3])\n",
    "par.c = 1"
   ]
  },
  {
   "cell_type": "markdown",
   "metadata": {},
   "source": [
    "Question 1"
   ]
  },
  {
   "cell_type": "code",
   "execution_count": 8,
   "metadata": {},
   "outputs": [],
   "source": [
    "# Set a seed\n",
    "np.random.seed(80)"
   ]
  },
  {
   "cell_type": "code",
   "execution_count": 9,
   "metadata": {},
   "outputs": [],
   "source": [
    "# Initialize arrays to store expected- and average realized utilities\n",
    "expected_utilities = np.zeros(par.J)\n",
    "avg_realized_utilities = np.zeros((par.N, par.J))\n",
    "\n",
    "# For each career choice j\n",
    "for j in range(par.J):\n",
    "    # Epsilon is drawn from a normal distribution\n",
    "    epsilon = np.random.normal(0, par.sigma, (par.N, par.K))\n",
    "    #Calculate ex post utility\n",
    "    utilities = par.v[j] + epsilon\n",
    "    #Calculate expected utility\n",
    "    expected_utilities[j] = par.v[j] + np.mean(epsilon)\n",
    "    #Calculate average realized utilities across all simulations for each graduate \n",
    "    avg_realized_utilities[:, j] = np.mean(utilities, axis=1)\n"
   ]
  },
  {
   "cell_type": "code",
   "execution_count": 10,
   "metadata": {},
   "outputs": [
    {
     "name": "stdout",
     "output_type": "stream",
     "text": [
      "Expected Utilities:\n",
      "          Expected Utility\n",
      "Career 1          0.988813\n",
      "Career 2          2.009004\n",
      "Career 3          2.995133\n",
      "\n",
      "Realized Utilities:\n",
      "             Realized Utility Career 1  Realized Utility Career 2  \\\n",
      "Graduate 1                    0.997869                   2.013136   \n",
      "Graduate 2                    0.968002                   2.004125   \n",
      "Graduate 3                    0.996840                   2.043912   \n",
      "Graduate 4                    1.002072                   2.020080   \n",
      "Graduate 5                    0.983313                   2.009857   \n",
      "Graduate 6                    0.973542                   1.999288   \n",
      "Graduate 7                    1.014064                   1.994329   \n",
      "Graduate 8                    0.978955                   1.997091   \n",
      "Graduate 9                    0.973771                   2.019734   \n",
      "Graduate 10                   0.999703                   1.988483   \n",
      "\n",
      "             Realized Utility Career 3  \n",
      "Graduate 1                    2.989200  \n",
      "Graduate 2                    2.974289  \n",
      "Graduate 3                    2.986687  \n",
      "Graduate 4                    2.982839  \n",
      "Graduate 5                    3.025684  \n",
      "Graduate 6                    3.023298  \n",
      "Graduate 7                    3.023264  \n",
      "Graduate 8                    2.972699  \n",
      "Graduate 9                    2.990205  \n",
      "Graduate 10                   2.983167  \n"
     ]
    }
   ],
   "source": [
    "# Convert to DataFrame for better visualization\n",
    "expected_utilities_df = pd.DataFrame(expected_utilities, columns=['Expected Utility'], index=[f'Career {j+1}' for j in range(par.J)])\n",
    "avg_realized_utilities_df = pd.DataFrame(avg_realized_utilities, columns=[f'Realized Utility Career {j+1}' for j in range(par.J)], index=[f'Graduate {i+1}' for i in range(par.N)])\n",
    "\n",
    "# Print the expected and realized utilities\n",
    "print(\"Expected Utilities:\")\n",
    "print(expected_utilities_df)\n",
    "\n",
    "print(\"\\nRealized Utilities:\")\n",
    "print(avg_realized_utilities_df)"
   ]
  },
  {
   "cell_type": "markdown",
   "metadata": {},
   "source": [
    "**Question 2**"
   ]
  },
  {
   "cell_type": "markdown",
   "metadata": {},
   "source": [
    "Step 1"
   ]
  },
  {
   "cell_type": "code",
   "execution_count": 11,
   "metadata": {},
   "outputs": [
    {
     "name": "stdout",
     "output_type": "stream",
     "text": [
      "Average Prior Expected Utilities:\n",
      "             Career 1  Career 2  Career 3\n",
      "Graduate 1   1.037594  1.983420  2.989729\n",
      "Graduate 2   1.009278  1.984125  3.006044\n",
      "Graduate 3   0.990181  2.004945  3.009577\n",
      "Graduate 4   1.013475  1.981079  3.011749\n",
      "Graduate 5   0.998056  2.011311  2.993387\n",
      "Graduate 6   0.999810  1.986135  2.992950\n",
      "Graduate 7   1.008791  2.001954  2.998760\n",
      "Graduate 8   0.981806  1.997406  3.006844\n",
      "Graduate 9   1.004039  2.000279  2.997815\n",
      "Graduate 10  0.997350  1.998711  3.008142\n"
     ]
    }
   ],
   "source": [
    "# Initialize array to store the drawn values\n",
    "drawn_values = {}\n",
    "\n",
    "\n",
    "# Simulate drawing J * F_i values for each person i\n",
    "for i in range(par.N):\n",
    "    #Determine the number of sample for the graduate\n",
    "    Fi = par.F[i]\n",
    "    #Generate epsilon \n",
    "    epsilon_fj = np.random.normal(0, par.sigma, (par.J, Fi, par.K))\n",
    "    #Store the drawn values in the dictionary\n",
    "    drawn_values[f'Graduate {i+1}'] = epsilon_fj\n",
    "\n",
    "\n",
    "\n",
    "# Initialize array to store the prior expected utilities\n",
    "prior_expected_utilities = np.zeros((par.N, par.J, par.K))\n",
    "\n",
    "\n",
    "# For each graduate, i \n",
    "for i in range(par.N):\n",
    "    Fi = par.F[i]\n",
    "    epsilon_fj = drawn_values[f'Graduate {i+1}']\n",
    "    \n",
    "    # For each career track, j\n",
    "    for j in range(par.J):\n",
    "        #For each simulation, k\n",
    "        for k in range(par.K):\n",
    "            #Calculate the prior expected utilities\n",
    "            prior_expected_utilities[i, j, k] = np.mean(par.v[j] + epsilon_fj[j, :, k])\n",
    "\n",
    "\n",
    "\n",
    "# We can visualize the average prior expected utility over all simulations for simplicity\n",
    "average_prior_expected_utilities = np.mean(prior_expected_utilities, axis=2)\n",
    "prior_expected_utilities_df = pd.DataFrame(average_prior_expected_utilities, columns=[f'Career {j+1}' for j in range(par.J)], index=[f'Graduate {i+1}' for i in range(par.N)])\n",
    "\n",
    "\n",
    "\n",
    "# Print the average prior expected utilities\n",
    "print(\"Average Prior Expected Utilities:\")\n",
    "print(prior_expected_utilities_df)\n"
   ]
  },
  {
   "cell_type": "markdown",
   "metadata": {},
   "source": [
    "Step 2"
   ]
  },
  {
   "cell_type": "code",
   "execution_count": 12,
   "metadata": {},
   "outputs": [
    {
     "name": "stdout",
     "output_type": "stream",
     "text": [
      "\n",
      "Sample Chosen Careers:\n",
      "            Simulation 1  Simulation 2  Simulation 3  Simulation 4  \\\n",
      "Graduate 1             3             3             3             3   \n",
      "Graduate 2             3             3             3             2   \n",
      "Graduate 3             3             2             3             3   \n",
      "Graduate 4             2             2             3             2   \n",
      "Graduate 5             2             3             3             3   \n",
      "\n",
      "            Simulation 5  Simulation 6  Simulation 7  Simulation 8  \\\n",
      "Graduate 1             1             3             3             2   \n",
      "Graduate 2             1             3             2             2   \n",
      "Graduate 3             3             3             2             3   \n",
      "Graduate 4             3             2             2             3   \n",
      "Graduate 5             3             3             3             3   \n",
      "\n",
      "            Simulation 9  Simulation 10  ...  Simulation 9991  \\\n",
      "Graduate 1             2              3  ...                2   \n",
      "Graduate 2             3              3  ...                3   \n",
      "Graduate 3             2              3  ...                2   \n",
      "Graduate 4             3              3  ...                3   \n",
      "Graduate 5             3              3  ...                3   \n",
      "\n",
      "            Simulation 9992  Simulation 9993  Simulation 9994  \\\n",
      "Graduate 1                3                2                3   \n",
      "Graduate 2                3                3                3   \n",
      "Graduate 3                3                3                3   \n",
      "Graduate 4                3                1                3   \n",
      "Graduate 5                2                3                3   \n",
      "\n",
      "            Simulation 9995  Simulation 9996  Simulation 9997  \\\n",
      "Graduate 1                3                2                1   \n",
      "Graduate 2                2                2                3   \n",
      "Graduate 3                3                3                3   \n",
      "Graduate 4                3                2                3   \n",
      "Graduate 5                2                3                3   \n",
      "\n",
      "            Simulation 9998  Simulation 9999  Simulation 10000  \n",
      "Graduate 1                2                3                 2  \n",
      "Graduate 2                3                3                 3  \n",
      "Graduate 3                3                3                 3  \n",
      "Graduate 4                3                3                 3  \n",
      "Graduate 5                3                3                 2  \n",
      "\n",
      "[5 rows x 10000 columns]\n"
     ]
    }
   ],
   "source": [
    "# Initialize array to store the chosen careers, ensuring it's 2-dimensional\n",
    "chosen_careers = np.zeros((par.N, par.K), dtype=int)\n",
    "\n",
    "# Iterates over each individual\n",
    "for i in range(par.N):\n",
    "    #Iterates over each career track for the given individual\n",
    "    for k in range(par.K):\n",
    "        # Finding the highest expected utilities\n",
    "        chosen_career = np.argmax(prior_expected_utilities[i, :, k]) + 1  # Adding 1 to shift the index\n",
    "        chosen_careers[i, k] = chosen_career\n",
    "\n",
    "# Convert the chosen careers to DataFrame for visualization\n",
    "chosen_careers_df = pd.DataFrame(chosen_careers, columns=[f'Simulation {k+1}' for k in range(par.K)], index=[f'Graduate {i+1}' for i in range(par.N)])\n",
    "\n",
    "# Print a sample of chosen careers\n",
    "print(\"\\nSample Chosen Careers:\")\n",
    "print(chosen_careers_df.head())"
   ]
  },
  {
   "cell_type": "markdown",
   "metadata": {},
   "source": [
    "Step 3"
   ]
  },
  {
   "cell_type": "markdown",
   "metadata": {},
   "source": [
    "Compute the prior expectation of the value of their chosen career:"
   ]
  },
  {
   "cell_type": "code",
   "execution_count": 13,
   "metadata": {},
   "outputs": [
    {
     "name": "stdout",
     "output_type": "stream",
     "text": [
      "\n",
      "Optimal Prior Expected Utilities:\n",
      "            Simulation 1  Simulation 2  Simulation 3  Simulation 4  \\\n",
      "Graduate 1      5.592573      4.845502      5.743788      4.693154   \n",
      "Graduate 2      1.692645      2.101986      3.614708      3.175421   \n",
      "Graduate 3      4.575713      2.795991      3.660599      2.758500   \n",
      "Graduate 4      4.908391      2.571807      4.450916      2.267958   \n",
      "Graduate 5      2.541340      3.039931      3.694004      3.523570   \n",
      "\n",
      "            Simulation 5  Simulation 6  Simulation 7  Simulation 8  \\\n",
      "Graduate 1      1.776984      3.250262      5.878390      5.643914   \n",
      "Graduate 2      2.996473      3.357448      1.916958      3.765370   \n",
      "Graduate 3      1.820960      3.605820      2.999402      3.525675   \n",
      "Graduate 4      3.435880      2.005811      3.885457      3.903660   \n",
      "Graduate 5      3.642964      2.543721      3.237947      1.858167   \n",
      "\n",
      "            Simulation 9  Simulation 10  ...  Simulation 9991  \\\n",
      "Graduate 1      2.839372       2.301623  ...         2.713844   \n",
      "Graduate 2      4.147273       3.933961  ...         2.517429   \n",
      "Graduate 3      2.510546       3.896634  ...         4.619887   \n",
      "Graduate 4      2.829934       2.702821  ...         2.294253   \n",
      "Graduate 5      3.809490       3.877921  ...         4.382679   \n",
      "\n",
      "            Simulation 9992  Simulation 9993  Simulation 9994  \\\n",
      "Graduate 1         1.656123         2.313297         5.399052   \n",
      "Graduate 2         2.290502         2.284664         5.025159   \n",
      "Graduate 3         2.657525         3.342985         4.575553   \n",
      "Graduate 4         3.373863         2.303653         2.003887   \n",
      "Graduate 5         4.067749         3.395394         1.669526   \n",
      "\n",
      "            Simulation 9995  Simulation 9996  Simulation 9997  \\\n",
      "Graduate 1         5.555452         0.368989         4.942938   \n",
      "Graduate 2         2.315412         1.902978         3.396722   \n",
      "Graduate 3         3.082934         2.968172         3.514473   \n",
      "Graduate 4         5.164257         3.327448         1.897922   \n",
      "Graduate 5         3.838245         3.712276         2.747195   \n",
      "\n",
      "            Simulation 9998  Simulation 9999  Simulation 10000  \n",
      "Graduate 1         2.498244         1.991331          3.796985  \n",
      "Graduate 2         3.711193         2.849625          4.378120  \n",
      "Graduate 3         2.669622         3.428174          3.902561  \n",
      "Graduate 4         3.361675         4.071180          3.234900  \n",
      "Graduate 5         4.083665         4.327495          2.193450  \n",
      "\n",
      "[5 rows x 10000 columns]\n"
     ]
    }
   ],
   "source": [
    "#Store the prior expectation of the value of their chosen career\n",
    "optimal_prior_expected_utilities = np.zeros((par.N, par.K))\n",
    "\n",
    "#Iterates over each individual\n",
    "for i in range(par.N):\n",
    "    #Iterates over each career track\n",
    "    for k in range(par.K):\n",
    "        #Assume the individual choose the optimal career track\n",
    "        optimal_career = chosen_careers[i, k] - 1  # Convert to 0-index\n",
    "        optimal_prior_expected_utilities[i, k] = prior_expected_utilities[i, optimal_career, k]\n",
    "\n",
    "# Convert to DataFrame for better visualization\n",
    "optimal_prior_expected_utilities_df = pd.DataFrame(optimal_prior_expected_utilities, columns=[f'Simulation {k+1}' for k in range(par.K)], index=[f'Graduate {i+1}' for i in range(par.N)])\n",
    "print(\"\\nOptimal Prior Expected Utilities:\")\n",
    "print(optimal_prior_expected_utilities_df.head())"
   ]
  },
  {
   "cell_type": "markdown",
   "metadata": {},
   "source": [
    "Compute the realized value of their chosen career track"
   ]
  },
  {
   "cell_type": "code",
   "execution_count": 22,
   "metadata": {},
   "outputs": [
    {
     "name": "stdout",
     "output_type": "stream",
     "text": [
      "\n",
      "Realized Values for Chosen Careers:\n",
      "            Simulation 1  Simulation 2  Simulation 3  Simulation 4  \\\n",
      "Graduate 1      6.197692      3.617780      2.077241      6.011708   \n",
      "Graduate 2      7.597215      1.090061      4.240363      3.324734   \n",
      "Graduate 3      4.142263      3.886966      4.912470      4.760200   \n",
      "Graduate 4      1.035539      0.366290      2.806749      1.759414   \n",
      "Graduate 5      3.518130      4.926874      3.149272      3.403586   \n",
      "\n",
      "            Simulation 5  Simulation 6  Simulation 7  Simulation 8  \\\n",
      "Graduate 1     -4.688646      2.868396      4.364887      2.061822   \n",
      "Graduate 2      1.257987      3.106865      4.145158      0.574873   \n",
      "Graduate 3     -1.519098      3.952459      1.394390      4.790164   \n",
      "Graduate 4      7.481510      1.415409     -0.701381      3.807856   \n",
      "Graduate 5      3.267610      1.502662      4.246022      0.826823   \n",
      "\n",
      "            Simulation 9  Simulation 10  ...  Simulation 9991  \\\n",
      "Graduate 1      0.531178       1.169558  ...         0.330849   \n",
      "Graduate 2      2.348642       0.081178  ...         2.533247   \n",
      "Graduate 3      3.374179       1.955613  ...         0.096118   \n",
      "Graduate 4      3.489496       5.020544  ...         2.323221   \n",
      "Graduate 5      2.879668       3.220370  ...         2.068770   \n",
      "\n",
      "            Simulation 9992  Simulation 9993  Simulation 9994  \\\n",
      "Graduate 1         1.500533         0.930441         2.311260   \n",
      "Graduate 2         2.155474         2.185410         5.237463   \n",
      "Graduate 3         5.372702         2.576670         1.995542   \n",
      "Graduate 4        -0.049750         1.603061         4.675401   \n",
      "Graduate 5         2.533255         1.761622         0.035829   \n",
      "\n",
      "            Simulation 9995  Simulation 9996  Simulation 9997  \\\n",
      "Graduate 1         0.251443         4.790382         2.369338   \n",
      "Graduate 2         2.896175         0.141001         2.842032   \n",
      "Graduate 3         5.116384         0.808190         1.652822   \n",
      "Graduate 4         1.573626         6.445959         2.784442   \n",
      "Graduate 5         3.970392         2.154791         2.162072   \n",
      "\n",
      "            Simulation 9998  Simulation 9999  Simulation 10000  \n",
      "Graduate 1         3.188281         3.682230          5.443633  \n",
      "Graduate 2         5.598491         4.608344          2.458219  \n",
      "Graduate 3         2.936874         0.615329          3.345698  \n",
      "Graduate 4         3.425620         2.464579          2.550542  \n",
      "Graduate 5         5.293331         3.960592         -2.022200  \n",
      "\n",
      "[5 rows x 10000 columns]\n"
     ]
    }
   ],
   "source": [
    "# Initialize the array to store the realized values\n",
    "optimal_realized_values = np.zeros((par.N, par.K))\n",
    "\n",
    "# Iterates over each individual\n",
    "for i in range(par.N):\n",
    "    #Iterates over each career track\n",
    "    for k in range(par.K):\n",
    "        # Retrieve the 1-indexed chosen career and convert to 0-index for array access\n",
    "        career_index = chosen_careers[i, k] - 1\n",
    "        # Compute the realized value\n",
    "        noise = np.random.normal(0, par.sigma)\n",
    "        optimal_realized_values[i, k] = par.v[career_index] + noise\n",
    "\n",
    "\n",
    "# Convert chosen careers and realized values to DataFrame for visualization\n",
    "optimal_realized_values_df = pd.DataFrame(optimal_realized_values, columns=[f'Simulation {k+1}' for k in range(par.K)], index=[f'Graduate {i+1}' for i in range(par.N)])\n",
    "\n",
    "# Print the results\n",
    "print(\"\\nRealized Values for Chosen Careers:\")\n",
    "print(optimal_realized_values_df.head())"
   ]
  },
  {
   "cell_type": "markdown",
   "metadata": {},
   "source": [
    "The share of graduates choosing each career"
   ]
  },
  {
   "cell_type": "code",
   "execution_count": 23,
   "metadata": {},
   "outputs": [
    {
     "name": "stdout",
     "output_type": "stream",
     "text": [
      "\n",
      "Proportions of Chosen Careers for Each Graduate:\n",
      "             Career 1  Career 2  Career 3\n",
      "Graduate 1     0.1580    0.2991    0.5429\n",
      "Graduate 2     0.0952    0.2668    0.6380\n",
      "Graduate 3     0.0603    0.2527    0.6870\n",
      "Graduate 4     0.0511    0.2163    0.7326\n",
      "Graduate 5     0.0330    0.2101    0.7569\n",
      "Graduate 6     0.0271    0.1825    0.7904\n",
      "Graduate 7     0.0182    0.1711    0.8107\n",
      "Graduate 8     0.0088    0.1540    0.8372\n",
      "Graduate 9     0.0106    0.1449    0.8445\n",
      "Graduate 10    0.0070    0.1278    0.8652\n"
     ]
    }
   ],
   "source": [
    "# Initialize the DataFrame to hold the proportions of chosen careers for each graduate\n",
    "# Specify the data type as float directly at initialization, to avoid future warning.\n",
    "career_proportions_df = pd.DataFrame(0.0, index=[f'Graduate {i+1}' for i in range(par.N)],\n",
    "                                     columns=[f'Career {j+1}' for j in range(par.J)])\n",
    "\n",
    "\n",
    "# Calculate the proportion of choices for each career for each graduate\n",
    "for i in range(par.N):\n",
    "    # Extract the careers chosen by each individual graduate across all simulations\n",
    "    graduate_careers = chosen_careers[i, :]\n",
    "\n",
    "    # Count occurrences of each career choice for this particular graduate\n",
    "    career_counts = np.bincount(graduate_careers, minlength=par.J + 1)[1:]  # Ensures correct length and skip index 0\n",
    "\n",
    "    # Calculate the share for each career for each graduate\n",
    "    career_proportions = career_counts / par.K\n",
    "\n",
    "    # Store the results in the DataFrame\n",
    "    career_proportions_df.loc[f'Graduate {i+1}'] = career_proportions\n",
    "\n",
    "# Print the DataFrame with the proportions of chosen careers for each graduate\n",
    "print(\"\\nProportions of Chosen Careers for Each Graduate:\")\n",
    "print(career_proportions_df)"
   ]
  },
  {
   "cell_type": "markdown",
   "metadata": {},
   "source": [
    "The average subjective expected utility"
   ]
  },
  {
   "cell_type": "code",
   "execution_count": 24,
   "metadata": {},
   "outputs": [
    {
     "name": "stdout",
     "output_type": "stream",
     "text": [
      "Average Subjective Expected Utilities:\n",
      "             Average Subjective Expected Utility\n",
      "Graduate 1                              3.875311\n",
      "Graduate 2                              3.480167\n",
      "Graduate 3                              3.323341\n",
      "Graduate 4                              3.234205\n",
      "Graduate 5                              3.164882\n",
      "Graduate 6                              3.123373\n",
      "Graduate 7                              3.107815\n",
      "Graduate 8                              3.089701\n",
      "Graduate 9                              3.071294\n",
      "Graduate 10                             3.067425\n"
     ]
    }
   ],
   "source": [
    "# Calculate the average subjective expected utility for each graduate\n",
    "average_subjective_expected_utilities = np.mean(optimal_prior_expected_utilities, axis=1)  # Average over career tracks\n",
    "\n",
    "# Convert to DataFrame for visualization\n",
    "average_subjective_expected_utilities_df = pd.DataFrame(\n",
    "    average_subjective_expected_utilities, \n",
    "    columns=['Average Subjective Expected Utility'], \n",
    "    index=[f'Graduate {i+1}' for i in range(par.N)]\n",
    ")\n",
    "\n",
    "# Print\n",
    "print(\"Average Subjective Expected Utilities:\")\n",
    "print(average_subjective_expected_utilities_df)"
   ]
  },
  {
   "cell_type": "markdown",
   "metadata": {},
   "source": [
    "The average ex post realized utility given their choice"
   ]
  },
  {
   "cell_type": "code",
   "execution_count": 25,
   "metadata": {},
   "outputs": [
    {
     "name": "stdout",
     "output_type": "stream",
     "text": [
      "\n",
      "Average Realized Utilities for Each Graduate:\n",
      "             Average Realized Utility\n",
      "Graduate 1                   2.377929\n",
      "Graduate 2                   2.559496\n",
      "Graduate 3                   2.607027\n",
      "Graduate 4                   2.716535\n",
      "Graduate 5                   2.728870\n",
      "Graduate 6                   2.745551\n",
      "Graduate 7                   2.808574\n",
      "Graduate 8                   2.830879\n",
      "Graduate 9                   2.822441\n",
      "Graduate 10                  2.871346\n"
     ]
    }
   ],
   "source": [
    "# Calculate the average realized utility for each graduate\n",
    "average_realized_utilities = np.mean(realized_values, axis=1)\n",
    "\n",
    "# Convert to DataFrame for better visualization\n",
    "average_realized_utilities_df = pd.DataFrame(average_realized_utilities, columns=['Average Realized Utility'], index=[f'Graduate {i+1}' for i in range(par.N)])\n",
    "\n",
    "# Print the results\n",
    "print(\"\\nAverage Realized Utilities for Each Graduate:\")\n",
    "print(average_realized_utilities_df)"
   ]
  },
  {
   "cell_type": "markdown",
   "metadata": {},
   "source": [
    "From the above it is evident, that a larger proportion chooses Career 3, as i increases.\n",
    "\n",
    "According to the problem, the first graduate has 1 friend in each career, the second has 2 friends, ... and the tenth has 10 friends. Which means, that the graduates with the highest number, has the most information about the expected value of each career track.\n",
    "\n",
    "Therefore, the graduates with the highest index will observe that career 3 gives the highest utility, and a larger proportion will therefore choose career track 3.\n",
    "\n",
    "This is also visible in the average realized utility, where the graduates with the most friends (highest index) also gets the higest average realized utility."
   ]
  },
  {
   "cell_type": "markdown",
   "metadata": {},
   "source": [
    "**Question 3**"
   ]
  },
  {
   "cell_type": "code",
   "execution_count": 26,
   "metadata": {},
   "outputs": [],
   "source": [
    "#Set c = 1\n",
    "par.c = 1"
   ]
  },
  {
   "cell_type": "markdown",
   "metadata": {},
   "source": [
    "Step 1: Calculate the prior expected utility of each each carrer track"
   ]
  },
  {
   "cell_type": "code",
   "execution_count": 29,
   "metadata": {},
   "outputs": [
    {
     "name": "stdout",
     "output_type": "stream",
     "text": [
      "Prior expected utility of each career track:\n",
      "             Career 1  Career 2  Career 3\n",
      "Graduate 1  -0.179805  0.771485  1.939193\n",
      "Graduate 2  -0.085987  0.926875  2.197774\n",
      "Graduate 3  -0.050376  0.983404  2.382140\n",
      "Graduate 4  -0.015725  0.989681  2.469675\n",
      "Graduate 5  -0.022084  1.029223  2.570143\n",
      "Graduate 6  -0.018390  1.011991  2.618995\n",
      "Graduate 7   0.003042  1.040151  2.679588\n",
      "Graduate 8  -0.019758  1.029176  2.731863\n",
      "Graduate 9   0.001729  1.042907  2.744413\n",
      "Graduate 10 -0.008558  1.033254  2.760205\n"
     ]
    }
   ],
   "source": [
    "# Initialize arrays for the second year's expected utilities\n",
    "second_year_expected_utilities = np.zeros((par.N, par.J, par.K))\n",
    "\n",
    "\n",
    "# Iterates over each individual \n",
    "for i in range(par.N):\n",
    "    Fi = par.F[i]\n",
    "    epsilon_fj = drawn_values[f'Graduate {i+1}']  # Retrieve the stored epsilon values\n",
    "\n",
    "    #Iterates over each career option\n",
    "    for j in range(par.J):\n",
    "        for k in range(par.K):\n",
    "            #Retrieve the chosen career from period 1\n",
    "            current_career = chosen_careers[i, k] - 1\n",
    "            if j == current_career:\n",
    "                # No switching cost if staying in the same career\n",
    "                second_year_expected_utilities[i, j, k] = optimal_realized_values[i, k]\n",
    "            else:\n",
    "                # Apply switching cost if changing careers\n",
    "                second_year_expected_utilities[i, j, k] = par.v[j] + np.mean(epsilon_fj[j, :, k]) - par.c\n",
    "\n",
    "\n",
    "# Calculate average utilities over all simulations for simplicity\n",
    "average_second_year_utilities = np.mean(second_year_expected_utilities, axis=2)\n",
    "second_year_utilities_df = pd.DataFrame(average_second_year_utilities, columns=[f'Career {j+1}' for j in range(par.J)], index=[f'Graduate {i+1}' for i in range(par.N)])\n",
    "\n",
    "# Print the results\n",
    "print(\"Prior expected utility of each career track:\")\n",
    "print(second_year_utilities_df)"
   ]
  },
  {
   "cell_type": "markdown",
   "metadata": {},
   "source": [
    "Step 2: Each i chooses the career track with the highest expected utility"
   ]
  },
  {
   "cell_type": "code",
   "execution_count": 30,
   "metadata": {},
   "outputs": [
    {
     "name": "stdout",
     "output_type": "stream",
     "text": [
      "\n",
      "Sample Chosen Careers in period 2:\n",
      "            Simulation 1  Simulation 2  Simulation 3  Simulation 4  \\\n",
      "Graduate 1             3             3             3             3   \n",
      "Graduate 2             3             3             3             2   \n",
      "Graduate 3             3             2             3             3   \n",
      "Graduate 4             3             3             3             2   \n",
      "Graduate 5             2             3             3             3   \n",
      "\n",
      "            Simulation 5  Simulation 6  Simulation 7  Simulation 8  \\\n",
      "Graduate 1             2             3             3             3   \n",
      "Graduate 2             1             3             2             3   \n",
      "Graduate 3             2             3             2             3   \n",
      "Graduate 4             3             2             3             3   \n",
      "Graduate 5             3             3             3             3   \n",
      "\n",
      "            Simulation 9  Simulation 10  ...  Simulation 9991  \\\n",
      "Graduate 1             3              3  ...                1   \n",
      "Graduate 2             3              1  ...                3   \n",
      "Graduate 3             2              3  ...                2   \n",
      "Graduate 4             3              3  ...                3   \n",
      "Graduate 5             3              3  ...                3   \n",
      "\n",
      "            Simulation 9992  Simulation 9993  Simulation 9994  \\\n",
      "Graduate 1                3                1                3   \n",
      "Graduate 2                3                3                3   \n",
      "Graduate 3                3                3                3   \n",
      "Graduate 4                2                1                3   \n",
      "Graduate 5                2                3                3   \n",
      "\n",
      "            Simulation 9995  Simulation 9996  Simulation 9997  \\\n",
      "Graduate 1                1                2                1   \n",
      "Graduate 2                2                3                3   \n",
      "Graduate 3                3                2                2   \n",
      "Graduate 4                3                2                3   \n",
      "Graduate 5                2                3                3   \n",
      "\n",
      "            Simulation 9998  Simulation 9999  Simulation 10000  \n",
      "Graduate 1                2                3                 2  \n",
      "Graduate 2                3                3                 3  \n",
      "Graduate 3                3                2                 3  \n",
      "Graduate 4                3                3                 3  \n",
      "Graduate 5                3                3                 3  \n",
      "\n",
      "[5 rows x 10000 columns]\n"
     ]
    }
   ],
   "source": [
    "#Initialize array to store the chosen careers, ensuring it's 2-dimensional\n",
    "chosen_careers2 = np.zeros((par.N, par.K), dtype=int)\n",
    "\n",
    "# Determine the career track with the highest expected utility for each simulation\n",
    "for i in range(par.N):\n",
    "    for k in range(par.K):\n",
    "        chosen_career2 = np.argmax(second_year_expected_utilities[i, :, k]) + 1  # Adding 1 to shift the index\n",
    "        chosen_careers2[i, k] = chosen_career2\n",
    "\n",
    "# Convert the chosen careers to DataFrame for visualization\n",
    "chosen_careers2_df = pd.DataFrame(chosen_careers2, columns=[f'Simulation {k+1}' for k in range(par.K)], index=[f'Graduate {i+1}' for i in range(par.N)])\n",
    "\n",
    "# Print a sample of chosen careers\n",
    "print(\"\\nSample Chosen Careers in period 2:\")\n",
    "print(chosen_careers2_df.head())"
   ]
  },
  {
   "cell_type": "markdown",
   "metadata": {},
   "source": [
    "Step 3:"
   ]
  },
  {
   "cell_type": "markdown",
   "metadata": {},
   "source": [
    "The prior expectation of the value of their chosen career"
   ]
  },
  {
   "cell_type": "code",
   "execution_count": 32,
   "metadata": {},
   "outputs": [
    {
     "name": "stdout",
     "output_type": "stream",
     "text": [
      "\n",
      "Optimal Second Year Expected Utilities:\n",
      "            Simulation 1  Simulation 2  Simulation 3  Simulation 4  \\\n",
      "Graduate 1      6.197692      3.617780      2.077241      6.011708   \n",
      "Graduate 2      7.597215      1.090061      4.240363      3.324734   \n",
      "Graduate 3      4.142263      3.886966      4.912470      4.760200   \n",
      "Graduate 4      1.998501      0.861521      2.806749      1.759414   \n",
      "Graduate 5      3.518130      4.926874      3.149272      3.403586   \n",
      "\n",
      "            Simulation 5  Simulation 6  Simulation 7  Simulation 8  \\\n",
      "Graduate 1      0.636985      2.868396      4.364887      3.211497   \n",
      "Graduate 2      1.257987      3.106865      4.145158      1.773675   \n",
      "Graduate 3     -0.397299      3.952459      1.394390      4.790164   \n",
      "Graduate 4      7.481510      1.415409      1.600718      3.807856   \n",
      "Graduate 5      3.267610      1.502662      4.246022      0.826823   \n",
      "\n",
      "            Simulation 9  Simulation 10  ...  Simulation 9991  \\\n",
      "Graduate 1      1.103222       1.169558  ...         0.549101   \n",
      "Graduate 2      2.348642       0.519987  ...         2.533247   \n",
      "Graduate 3      3.374179       1.955613  ...         0.096118   \n",
      "Graduate 4      3.489496       5.020544  ...         2.323221   \n",
      "Graduate 5      2.879668       3.220370  ...         2.068770   \n",
      "\n",
      "            Simulation 9992  Simulation 9993  Simulation 9994  \\\n",
      "Graduate 1         1.500533         1.181412         2.311260   \n",
      "Graduate 2         2.155474         2.185410         5.237463   \n",
      "Graduate 3         5.372702         2.576670         1.995542   \n",
      "Graduate 4         1.902639         1.603061         4.675401   \n",
      "Graduate 5         2.533255         1.761622         0.035829   \n",
      "\n",
      "            Simulation 9995  Simulation 9996  Simulation 9997  \\\n",
      "Graduate 1         2.516301         4.790382         2.369338   \n",
      "Graduate 2         2.896175         0.772297         2.842032   \n",
      "Graduate 3         5.116384         1.956361         2.267014   \n",
      "Graduate 4         1.573626         6.445959         2.784442   \n",
      "Graduate 5         3.970392         2.154791         2.162072   \n",
      "\n",
      "            Simulation 9998  Simulation 9999  Simulation 10000  \n",
      "Graduate 1         3.188281         3.682230          5.443633  \n",
      "Graduate 2         5.598491         4.608344          2.458219  \n",
      "Graduate 3         2.936874         1.463078          3.345698  \n",
      "Graduate 4         3.425620         2.464579          2.550542  \n",
      "Graduate 5         5.293331         3.960592          0.607790  \n",
      "\n",
      "[5 rows x 10000 columns]\n"
     ]
    }
   ],
   "source": [
    "# Initialize array for the optimal second expected utilities\n",
    "optimal_second_expected_utilities = np.zeros((par.N, par.K))\n",
    "\n",
    "# Determine the optimal expected utility for each chosen career in period 2\n",
    "for i in range(par.N):\n",
    "    for k in range(par.K):\n",
    "        optimal_career2 = chosen_careers2[i, k] - 1  # Convert to 0-index\n",
    "        optimal_second_expected_utilities[i, k] = second_year_expected_utilities[i, optimal_career2, k]\n",
    "\n",
    "# Convert to DataFrame for better visualization\n",
    "optimal_second_expected_utilities_df = pd.DataFrame(optimal_second_expected_utilities, columns=[f'Simulation {k+1}' for k in range(par.K)], index=[f'Graduate {i+1}' for i in range(par.N)])\n",
    "\n",
    "# Print the optimal second-year expected utilities\n",
    "print(\"\\nOptimal Second Year Expected Utilities:\")\n",
    "print(optimal_second_expected_utilities_df.head())"
   ]
  },
  {
   "cell_type": "markdown",
   "metadata": {},
   "source": [
    "Realized value of their choosen career track"
   ]
  },
  {
   "cell_type": "code",
   "execution_count": 34,
   "metadata": {},
   "outputs": [
    {
     "name": "stdout",
     "output_type": "stream",
     "text": [
      "Average Second-Year Realized Utilities Considering Switching Costs:\n",
      "             Career 1  Career 2  Career 3\n",
      "Graduate 1   0.191386  1.338404  2.430441\n",
      "Graduate 2   0.114881  1.303514  2.566138\n",
      "Graduate 3   0.063314  1.275005  2.696767\n",
      "Graduate 4   0.059592  1.209486  2.764089\n",
      "Graduate 5   0.026454  1.209076  2.823926\n",
      "Graduate 6   0.016030  1.157311  2.883800\n",
      "Graduate 7   0.011123  1.147246  2.955453\n",
      "Graduate 8  -0.001400  1.114057  2.993390\n",
      "Graduate 9   0.000082  1.110601  2.998215\n",
      "Graduate 10 -0.009044  1.067705  3.034431\n"
     ]
    }
   ],
   "source": [
    "# Initialize storage for first and second year utilities\n",
    "realized_values = np.random.rand(par.N, par.K) \n",
    "second_year_realized_utilities = np.zeros((par.N, par.J, par.K))\n",
    "\n",
    "# Iterate for each individual\n",
    "for i in range(par.N):\n",
    "    Fi = par.F[i]\n",
    "    epsilon_fj = drawn_values[f'Graduate {i+1}']  # Retrieve the stored epsilon values\n",
    "\n",
    "    # Iterate for each career track\n",
    "    for j in range(par.J):\n",
    "        for k in range(par.K):\n",
    "            current_career2 = chosen_careers2[i, k] - 1\n",
    "            if j == current_career2:\n",
    "                # No switching cost if staying in the same career\n",
    "                second_year_realized_utilities[i, j, k] = optimal_realized_values[i, k]\n",
    "            else:\n",
    "                # Apply switching cost if changing careers\n",
    "                second_year_realized_utilities[i, j, k] = expected_utilities[j] - par.c\n",
    "\n",
    "# Calculate average utilities over all simulations for simplicity\n",
    "average_second_year_utilities = np.mean(second_year_realized_utilities, axis=2)\n",
    "second_year_utilities_df = pd.DataFrame(average_second_year_utilities, columns=[f'Career {j+1}' for j in range(par.J)], index=[f'Graduate {i+1}' for i in range(par.N)])\n",
    "\n",
    "# Print the results\n",
    "print(\"Average Second-Year Realized Utilities Considering Switching Costs:\")\n",
    "print(second_year_utilities_df)"
   ]
  },
  {
   "cell_type": "markdown",
   "metadata": {},
   "source": [
    "The share of graduates"
   ]
  },
  {
   "cell_type": "code",
   "execution_count": 35,
   "metadata": {},
   "outputs": [
    {
     "name": "stdout",
     "output_type": "stream",
     "text": [
      "\n",
      "Proportions of Chosen Careers for Each Graduate period 2:\n",
      "             Career 1  Career 2  Career 3\n",
      "Graduate 1     0.1404    0.2893    0.5703\n",
      "Graduate 2     0.0987    0.2731    0.6282\n",
      "Graduate 3     0.0735    0.2596    0.6669\n",
      "Graduate 4     0.0618    0.2432    0.6950\n",
      "Graduate 5     0.0452    0.2348    0.7200\n",
      "Graduate 6     0.0377    0.2298    0.7325\n",
      "Graduate 7     0.0366    0.2246    0.7388\n",
      "Graduate 8     0.0263    0.2135    0.7602\n",
      "Graduate 9     0.0240    0.2076    0.7684\n",
      "Graduate 10    0.0211    0.2077    0.7712\n"
     ]
    }
   ],
   "source": [
    "# Initialize the DataFrame to hold the proportions of chosen careers for each graduate\n",
    "career_proportions2_df = pd.DataFrame(0.0, index=[f'Graduate {i+1}' for i in range(par.N)],\n",
    "                                     columns=[f'Career {j+1}' for j in range(par.J)])\n",
    "\n",
    "\n",
    "# Calculate the proportion of choices for each career for each graduate\n",
    "for i in range(par.N):\n",
    "    # Extract the careers chosen by each individual graduate across all simulations\n",
    "    graduate_careers2 = chosen_careers2[i, :]\n",
    "\n",
    "    # Count occurrences of each career choice for this particular graduate\n",
    "    career_counts2 = np.bincount(graduate_careers2, minlength=par.J + 1)[1:]  # Ensure correct length and skip index 0\n",
    "\n",
    "    # Calculate the share for each career for this graduate\n",
    "    career_proportions2 = career_counts2 / par.K\n",
    "\n",
    "    # Store the results in the DataFrame\n",
    "    career_proportions2_df.loc[f'Graduate {i+1}'] = career_proportions2\n",
    "\n",
    "# Print the DataFrame with the proportions of chosen careers for each graduate\n",
    "print(\"\\nProportions of Chosen Careers for Each Graduate period 2:\")\n",
    "print(career_proportions2_df)"
   ]
  },
  {
   "cell_type": "markdown",
   "metadata": {},
   "source": [
    "The average subjective expected utility"
   ]
  },
  {
   "cell_type": "code",
   "execution_count": 37,
   "metadata": {},
   "outputs": [
    {
     "name": "stdout",
     "output_type": "stream",
     "text": [
      "Second period average subjective utility:\n",
      "             Overall Average Expected Utility\n",
      "Graduate 1                           2.875205\n",
      "Graduate 2                           2.885375\n",
      "Graduate 3                           2.951504\n",
      "Graduate 4                           2.967409\n",
      "Graduate 5                           3.020812\n",
      "Graduate 6                           3.011450\n",
      "Graduate 7                           3.062978\n",
      "Graduate 8                           3.074691\n",
      "Graduate 9                           3.086411\n",
      "Graduate 10                          3.076695\n"
     ]
    }
   ],
   "source": [
    "# Calculate the overall average expected utility for each graduate\n",
    "second_subjective = np.mean(optimal_second_expected_utilities, axis=(1))  # Average over both careers and simulations\n",
    "\n",
    "# Convert to DataFrame for visualization\n",
    "second_subjective_df = pd.DataFrame(second_subjective, columns=['Overall Average Expected Utility'], index=[f'Graduate {i+1}' for i in range(par.N)])\n",
    "\n",
    "# Print the overall average expected utilities\n",
    "print(\"Second period average subjective utility:\")\n",
    "print(second_subjective_df)"
   ]
  },
  {
   "cell_type": "markdown",
   "metadata": {},
   "source": [
    "Ex post realized utility given their choice"
   ]
  },
  {
   "cell_type": "code",
   "execution_count": 45,
   "metadata": {},
   "outputs": [
    {
     "name": "stdout",
     "output_type": "stream",
     "text": [
      "\n",
      "Average Realized Utilities for Each Graduate:\n",
      "             Average Realized Utility\n",
      "Graduate 1                   1.320077\n",
      "Graduate 2                   1.328178\n",
      "Graduate 3                   1.345029\n",
      "Graduate 4                   1.344389\n",
      "Graduate 5                   1.353152\n",
      "Graduate 6                   1.352380\n",
      "Graduate 7                   1.371274\n",
      "Graduate 8                   1.368682\n",
      "Graduate 9                   1.369633\n",
      "Graduate 10                  1.364364\n"
     ]
    }
   ],
   "source": [
    "# Calculate the average realized utility for each graduate\n",
    "average_realized_utilities2 = np.mean(second_year_realized_utilities, axis=(1, 2))\n",
    "\n",
    "# Convert to DataFrame for better visualization\n",
    "average_realized_utilities2_df = pd.DataFrame(average_realized_utilities2, columns=['Average Realized Utility'], index=[f'Graduate {i+1}' for i in range(par.N)])\n",
    "\n",
    "# Print the results\n",
    "print(\"\\nAverage Realized Utilities for Each Graduate:\")\n",
    "print(average_realized_utilities2_df)\n"
   ]
  },
  {
   "cell_type": "markdown",
   "metadata": {},
   "source": [
    "The share of graduates that choose to switch careers conditional on which career they chose in the first year"
   ]
  },
  {
   "cell_type": "code",
   "execution_count": 48,
   "metadata": {},
   "outputs": [
    {
     "name": "stdout",
     "output_type": "stream",
     "text": [
      "\n",
      "Percentage of Career Switches for Each Graduate:\n",
      "             Percentage of Career Switches\n",
      "Graduate 1                           29.53\n",
      "Graduate 2                           26.11\n",
      "Graduate 3                           23.45\n",
      "Graduate 4                           22.31\n",
      "Graduate 5                           21.28\n",
      "Graduate 6                           20.75\n",
      "Graduate 7                           19.78\n",
      "Graduate 8                           19.39\n",
      "Graduate 9                           18.77\n",
      "Graduate 10                          19.32\n"
     ]
    }
   ],
   "source": [
    "# Initialize an array to store the count of switches for each graduate\n",
    "switch_count_individual = np.zeros(par.N)\n",
    "\n",
    "# Iterate over each individual and each simulation\n",
    "for i in range(par.N):\n",
    "    switch_count = 0\n",
    "    for k in range(par.K):\n",
    "        initial_career = chosen_careers[i, k] - 1  # Convert to 0-index\n",
    "        second_career = chosen_careers2[i, k] - 1  # Convert to 0-index\n",
    "\n",
    "        if initial_career != second_career:\n",
    "            switch_count += 1  # Increment switch count if careers are different\n",
    "\n",
    "    # Calculate the percentage of switches for this graduate\n",
    "    switch_count_individual[i] = (switch_count / par.K) * 100\n",
    "\n",
    "# Convert to DataFrame for better visualization\n",
    "switch_count_individual_df = pd.DataFrame(switch_count_individual, columns=['Percentage of Career Switches'], index=[f'Graduate {i+1}' for i in range(par.N)])\n",
    "\n",
    "# Print the results\n",
    "print(\"\\nPercentage of Career Switches for Each Graduate:\")\n",
    "print(switch_count_individual_df)"
   ]
  },
  {
   "cell_type": "markdown",
   "metadata": {},
   "source": [
    "From the analysis, it is clear that there is a trend between having fewer friends and a higher percentage of career switches. Individuals with fewer friends, and consequently less information in the first period, are more likely to switch careers.\n",
    "\n",
    "This trend is logical because with less information initially, these individuals are more likely to choose a career with a lower payoff. By the second period, they have gained more information about which careers offer higher payoffs, making them more likely to switch to a better option."
   ]
  }
 ],
 "metadata": {
  "kernelspec": {
   "display_name": "base",
   "language": "python",
   "name": "python3"
  },
  "language_info": {
   "codemirror_mode": {
    "name": "ipython",
    "version": 3
   },
   "file_extension": ".py",
   "mimetype": "text/x-python",
   "name": "python",
   "nbconvert_exporter": "python",
   "pygments_lexer": "ipython3",
   "version": "3.11.7"
  }
 },
 "nbformat": 4,
 "nbformat_minor": 2
}
