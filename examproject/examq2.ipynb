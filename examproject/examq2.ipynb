{
 "cells": [
  {
   "cell_type": "code",
   "execution_count": 1,
   "metadata": {},
   "outputs": [],
   "source": [
    "import numpy as np\n",
    "import pandas as pd\n",
    "from types import SimpleNamespace"
   ]
  },
  {
   "cell_type": "code",
   "execution_count": 2,
   "metadata": {},
   "outputs": [],
   "source": [
    "par = SimpleNamespace()\n",
    "par.J = 3\n",
    "par.N = 10\n",
    "par.K = 10000\n",
    "par.F = np.arange(1,par.N+1)\n",
    "par.sigma = 2\n",
    "par.v = np.array([1,2,3])\n",
    "par.c = 1"
   ]
  },
  {
   "cell_type": "markdown",
   "metadata": {},
   "source": [
    "**Question 1**"
   ]
  },
  {
   "cell_type": "code",
   "execution_count": 3,
   "metadata": {},
   "outputs": [],
   "source": [
    "# Set a seed\n",
    "np.random.seed(80)"
   ]
  },
  {
   "cell_type": "code",
   "execution_count": 4,
   "metadata": {},
   "outputs": [],
   "source": [
    "# Initialize arrays to store expected- and average realized utilities\n",
    "expected_utilities = np.zeros(par.J)\n",
    "avg_realized_utilities = np.zeros((par.N, par.J))\n",
    "\n",
    "# For each career choice j\n",
    "for j in range(par.J):\n",
    "    # Epsilon is drawn from a normal distribution\n",
    "    epsilon = np.random.normal(0, par.sigma, (par.N, par.K))\n",
    "    #Calculate ex post utility\n",
    "    utilities = par.v[j] + epsilon\n",
    "    #Calculate expected utility\n",
    "    expected_utilities[j] = par.v[j] + np.mean(epsilon)\n",
    "    #Calculate average realized utilities across all simulations for each graduate \n",
    "    avg_realized_utilities[:, j] = np.mean(utilities, axis=1)\n"
   ]
  },
  {
   "cell_type": "code",
   "execution_count": 5,
   "metadata": {},
   "outputs": [
    {
     "name": "stdout",
     "output_type": "stream",
     "text": [
      "Expected Utilities:\n",
      "          Expected Utility\n",
      "Career 1          0.988813\n",
      "Career 2          2.009004\n",
      "Career 3          2.995133\n",
      "\n",
      "Realized Utilities:\n",
      "             Realized Utility Career 1  Realized Utility Career 2  \\\n",
      "Graduate 1                    0.997869                   2.013136   \n",
      "Graduate 2                    0.968002                   2.004125   \n",
      "Graduate 3                    0.996840                   2.043912   \n",
      "Graduate 4                    1.002072                   2.020080   \n",
      "Graduate 5                    0.983313                   2.009857   \n",
      "Graduate 6                    0.973542                   1.999288   \n",
      "Graduate 7                    1.014064                   1.994329   \n",
      "Graduate 8                    0.978955                   1.997091   \n",
      "Graduate 9                    0.973771                   2.019734   \n",
      "Graduate 10                   0.999703                   1.988483   \n",
      "\n",
      "             Realized Utility Career 3  \n",
      "Graduate 1                    2.989200  \n",
      "Graduate 2                    2.974289  \n",
      "Graduate 3                    2.986687  \n",
      "Graduate 4                    2.982839  \n",
      "Graduate 5                    3.025684  \n",
      "Graduate 6                    3.023298  \n",
      "Graduate 7                    3.023264  \n",
      "Graduate 8                    2.972699  \n",
      "Graduate 9                    2.990205  \n",
      "Graduate 10                   2.983167  \n"
     ]
    }
   ],
   "source": [
    "# Convert to DataFrame for better visualization\n",
    "expected_utilities_df = pd.DataFrame(expected_utilities, columns=['Expected Utility'], index=[f'Career {j+1}' for j in range(par.J)])\n",
    "avg_realized_utilities_df = pd.DataFrame(avg_realized_utilities, columns=[f'Realized Utility Career {j+1}' for j in range(par.J)], index=[f'Graduate {i+1}' for i in range(par.N)])\n",
    "\n",
    "# Print the expected and realized utilities\n",
    "print(\"Expected Utilities:\")\n",
    "print(expected_utilities_df)\n",
    "\n",
    "print(\"\\nRealized Utilities:\")\n",
    "print(avg_realized_utilities_df)"
   ]
  },
  {
   "cell_type": "markdown",
   "metadata": {},
   "source": [
    "**Question 2**"
   ]
  },
  {
   "cell_type": "markdown",
   "metadata": {},
   "source": [
    "Step 1"
   ]
  },
  {
   "cell_type": "code",
   "execution_count": 6,
   "metadata": {},
   "outputs": [
    {
     "name": "stdout",
     "output_type": "stream",
     "text": [
      "Average Prior Expected Utilities:\n",
      "             Career 1  Career 2  Career 3\n",
      "Graduate 1   1.037594  1.983420  2.989729\n",
      "Graduate 2   1.009278  1.984125  3.006044\n",
      "Graduate 3   0.990181  2.004945  3.009577\n",
      "Graduate 4   1.013475  1.981079  3.011749\n",
      "Graduate 5   0.998056  2.011311  2.993387\n",
      "Graduate 6   0.999810  1.986135  2.992950\n",
      "Graduate 7   1.008791  2.001954  2.998760\n",
      "Graduate 8   0.981806  1.997406  3.006844\n",
      "Graduate 9   1.004039  2.000279  2.997815\n",
      "Graduate 10  0.997350  1.998711  3.008142\n"
     ]
    }
   ],
   "source": [
    "# Initialize array to store the drawn values\n",
    "drawn_values = {}\n",
    "\n",
    "\n",
    "# Simulate drawing J * F_i values for each person i\n",
    "for i in range(par.N):\n",
    "    #Determine the number of sample for the graduate\n",
    "    Fi = par.F[i]\n",
    "    #Generate epsilon \n",
    "    epsilon_fj = np.random.normal(0, par.sigma, (par.J, Fi, par.K))\n",
    "    #Store the drawn values in the dictionary\n",
    "    drawn_values[f'Graduate {i+1}'] = epsilon_fj\n",
    "\n",
    "\n",
    "\n",
    "# Initialize array to store the prior expected utilities\n",
    "prior_expected_utilities = np.zeros((par.N, par.J, par.K))\n",
    "\n",
    "\n",
    "# For each graduate, i \n",
    "for i in range(par.N):\n",
    "    Fi = par.F[i]\n",
    "    epsilon_fj = drawn_values[f'Graduate {i+1}']\n",
    "    \n",
    "    # For each career track, j\n",
    "    for j in range(par.J):\n",
    "        #For each simulation, k\n",
    "        for k in range(par.K):\n",
    "            #Calculate the prior expected utilities\n",
    "            prior_expected_utilities[i, j, k] = np.mean(par.v[j] + epsilon_fj[j, :, k])\n",
    "\n",
    "\n",
    "\n",
    "# We can visualize the average prior expected utility over all simulations for simplicity\n",
    "average_prior_expected_utilities = np.mean(prior_expected_utilities, axis=2)\n",
    "prior_expected_utilities_df = pd.DataFrame(average_prior_expected_utilities, columns=[f'Career {j+1}' for j in range(par.J)], index=[f'Graduate {i+1}' for i in range(par.N)])\n",
    "\n",
    "\n",
    "\n",
    "# Print the average prior expected utilities\n",
    "print(\"Average Prior Expected Utilities:\")\n",
    "print(prior_expected_utilities_df)\n"
   ]
  },
  {
   "cell_type": "markdown",
   "metadata": {},
   "source": [
    "Step 2"
   ]
  },
  {
   "cell_type": "code",
   "execution_count": 7,
   "metadata": {},
   "outputs": [
    {
     "name": "stdout",
     "output_type": "stream",
     "text": [
      "\n",
      "Sample Chosen Careers:\n",
      "            Simulation 1  Simulation 2  Simulation 3  Simulation 4  \\\n",
      "Graduate 1             3             3             3             3   \n",
      "Graduate 2             3             3             3             2   \n",
      "Graduate 3             3             2             3             3   \n",
      "Graduate 4             2             2             3             2   \n",
      "Graduate 5             2             3             3             3   \n",
      "\n",
      "            Simulation 5  Simulation 6  Simulation 7  Simulation 8  \\\n",
      "Graduate 1             1             3             3             2   \n",
      "Graduate 2             1             3             2             2   \n",
      "Graduate 3             3             3             2             3   \n",
      "Graduate 4             3             2             2             3   \n",
      "Graduate 5             3             3             3             3   \n",
      "\n",
      "            Simulation 9  Simulation 10  ...  Simulation 9991  \\\n",
      "Graduate 1             2              3  ...                2   \n",
      "Graduate 2             3              3  ...                3   \n",
      "Graduate 3             2              3  ...                2   \n",
      "Graduate 4             3              3  ...                3   \n",
      "Graduate 5             3              3  ...                3   \n",
      "\n",
      "            Simulation 9992  Simulation 9993  Simulation 9994  \\\n",
      "Graduate 1                3                2                3   \n",
      "Graduate 2                3                3                3   \n",
      "Graduate 3                3                3                3   \n",
      "Graduate 4                3                1                3   \n",
      "Graduate 5                2                3                3   \n",
      "\n",
      "            Simulation 9995  Simulation 9996  Simulation 9997  \\\n",
      "Graduate 1                3                2                1   \n",
      "Graduate 2                2                2                3   \n",
      "Graduate 3                3                3                3   \n",
      "Graduate 4                3                2                3   \n",
      "Graduate 5                2                3                3   \n",
      "\n",
      "            Simulation 9998  Simulation 9999  Simulation 10000  \n",
      "Graduate 1                2                3                 2  \n",
      "Graduate 2                3                3                 3  \n",
      "Graduate 3                3                3                 3  \n",
      "Graduate 4                3                3                 3  \n",
      "Graduate 5                3                3                 2  \n",
      "\n",
      "[5 rows x 10000 columns]\n"
     ]
    }
   ],
   "source": [
    "# Initialize array to store the chosen careers, ensuring it's 2-dimensional\n",
    "chosen_careers = np.zeros((par.N, par.K), dtype=int)\n",
    "\n",
    "# Iterates over each individual\n",
    "for i in range(par.N):\n",
    "    #Iterates over each career track for the given individual\n",
    "    for k in range(par.K):\n",
    "        # Finding the highest expected utilities\n",
    "        chosen_career = np.argmax(prior_expected_utilities[i, :, k]) + 1  # Adding 1 to shift the index\n",
    "        chosen_careers[i, k] = chosen_career\n",
    "\n",
    "# Convert the chosen careers to DataFrame for visualization\n",
    "chosen_careers_df = pd.DataFrame(chosen_careers, columns=[f'Simulation {k+1}' for k in range(par.K)], index=[f'Graduate {i+1}' for i in range(par.N)])\n",
    "\n",
    "# Print a sample of chosen careers\n",
    "print(\"\\nSample Chosen Careers:\")\n",
    "print(chosen_careers_df.head())"
   ]
  },
  {
   "cell_type": "markdown",
   "metadata": {},
   "source": [
    "Step 3"
   ]
  },
  {
   "cell_type": "markdown",
   "metadata": {},
   "source": [
    "Compute the prior expectation of the value of their chosen career:"
   ]
  },
  {
   "cell_type": "code",
   "execution_count": 8,
   "metadata": {},
   "outputs": [
    {
     "name": "stdout",
     "output_type": "stream",
     "text": [
      "\n",
      "Optimal Prior Expected Utilities:\n",
      "            Simulation 1  Simulation 2  Simulation 3  Simulation 4  \\\n",
      "Graduate 1      5.592573      4.845502      5.743788      4.693154   \n",
      "Graduate 2      1.692645      2.101986      3.614708      3.175421   \n",
      "Graduate 3      4.575713      2.795991      3.660599      2.758500   \n",
      "Graduate 4      4.908391      2.571807      4.450916      2.267958   \n",
      "Graduate 5      2.541340      3.039931      3.694004      3.523570   \n",
      "\n",
      "            Simulation 5  Simulation 6  Simulation 7  Simulation 8  \\\n",
      "Graduate 1      1.776984      3.250262      5.878390      5.643914   \n",
      "Graduate 2      2.996473      3.357448      1.916958      3.765370   \n",
      "Graduate 3      1.820960      3.605820      2.999402      3.525675   \n",
      "Graduate 4      3.435880      2.005811      3.885457      3.903660   \n",
      "Graduate 5      3.642964      2.543721      3.237947      1.858167   \n",
      "\n",
      "            Simulation 9  Simulation 10  ...  Simulation 9991  \\\n",
      "Graduate 1      2.839372       2.301623  ...         2.713844   \n",
      "Graduate 2      4.147273       3.933961  ...         2.517429   \n",
      "Graduate 3      2.510546       3.896634  ...         4.619887   \n",
      "Graduate 4      2.829934       2.702821  ...         2.294253   \n",
      "Graduate 5      3.809490       3.877921  ...         4.382679   \n",
      "\n",
      "            Simulation 9992  Simulation 9993  Simulation 9994  \\\n",
      "Graduate 1         1.656123         2.313297         5.399052   \n",
      "Graduate 2         2.290502         2.284664         5.025159   \n",
      "Graduate 3         2.657525         3.342985         4.575553   \n",
      "Graduate 4         3.373863         2.303653         2.003887   \n",
      "Graduate 5         4.067749         3.395394         1.669526   \n",
      "\n",
      "            Simulation 9995  Simulation 9996  Simulation 9997  \\\n",
      "Graduate 1         5.555452         0.368989         4.942938   \n",
      "Graduate 2         2.315412         1.902978         3.396722   \n",
      "Graduate 3         3.082934         2.968172         3.514473   \n",
      "Graduate 4         5.164257         3.327448         1.897922   \n",
      "Graduate 5         3.838245         3.712276         2.747195   \n",
      "\n",
      "            Simulation 9998  Simulation 9999  Simulation 10000  \n",
      "Graduate 1         2.498244         1.991331          3.796985  \n",
      "Graduate 2         3.711193         2.849625          4.378120  \n",
      "Graduate 3         2.669622         3.428174          3.902561  \n",
      "Graduate 4         3.361675         4.071180          3.234900  \n",
      "Graduate 5         4.083665         4.327495          2.193450  \n",
      "\n",
      "[5 rows x 10000 columns]\n"
     ]
    }
   ],
   "source": [
    "#Store the prior expectation of the value of their chosen career\n",
    "optimal_prior_expected_utilities = np.zeros((par.N, par.K))\n",
    "\n",
    "#Iterates over each individual\n",
    "for i in range(par.N):\n",
    "    #Iterates over each career track\n",
    "    for k in range(par.K):\n",
    "        #Assume the individual choose the optimal career track\n",
    "        optimal_career = chosen_careers[i, k] - 1  # Convert to 0-index\n",
    "        optimal_prior_expected_utilities[i, k] = prior_expected_utilities[i, optimal_career, k]\n",
    "\n",
    "# Convert to DataFrame for better visualization\n",
    "optimal_prior_expected_utilities_df = pd.DataFrame(optimal_prior_expected_utilities, columns=[f'Simulation {k+1}' for k in range(par.K)], index=[f'Graduate {i+1}' for i in range(par.N)])\n",
    "print(\"\\nOptimal Prior Expected Utilities:\")\n",
    "print(optimal_prior_expected_utilities_df.head())"
   ]
  },
  {
   "cell_type": "markdown",
   "metadata": {},
   "source": [
    "Compute the realized value of their chosen career track"
   ]
  },
  {
   "cell_type": "code",
   "execution_count": 9,
   "metadata": {},
   "outputs": [
    {
     "name": "stdout",
     "output_type": "stream",
     "text": [
      "\n",
      "Realized Values for Chosen Careers:\n",
      "            Simulation 1  Simulation 2  Simulation 3  Simulation 4  \\\n",
      "Graduate 1     -0.877241      1.785174      7.065535      2.356833   \n",
      "Graduate 2      5.482671      1.272548      2.212891     -1.957722   \n",
      "Graduate 3      1.373822      6.286971      2.649255      3.345406   \n",
      "Graduate 4      0.654504      3.256738      5.049154      0.883848   \n",
      "Graduate 5      2.407997      4.736266      4.245274      3.575431   \n",
      "\n",
      "            Simulation 5  Simulation 6  Simulation 7  Simulation 8  \\\n",
      "Graduate 1      1.073485      2.433331      1.518189     -1.305072   \n",
      "Graduate 2     -1.105591      2.602918      3.087168      4.252176   \n",
      "Graduate 3      0.991647      0.650937      1.875201      4.918385   \n",
      "Graduate 4      1.542509      4.123843      1.301674      5.412622   \n",
      "Graduate 5      6.909533      3.257217      0.581014      3.020074   \n",
      "\n",
      "            Simulation 9  Simulation 10  ...  Simulation 9991  \\\n",
      "Graduate 1      0.940156       3.705861  ...         2.669616   \n",
      "Graduate 2      2.896706       2.318398  ...         0.909420   \n",
      "Graduate 3      1.687251       1.965063  ...         3.816211   \n",
      "Graduate 4      4.060292       1.255452  ...         3.690905   \n",
      "Graduate 5      4.377232       5.693420  ...         6.082730   \n",
      "\n",
      "            Simulation 9992  Simulation 9993  Simulation 9994  \\\n",
      "Graduate 1         2.835547         1.563398         5.786975   \n",
      "Graduate 2         1.689593         3.981029         3.284180   \n",
      "Graduate 3         3.777408         2.232875         3.013792   \n",
      "Graduate 4         3.337102         0.158121         0.684098   \n",
      "Graduate 5         3.704991         4.120127         0.421736   \n",
      "\n",
      "            Simulation 9995  Simulation 9996  Simulation 9997  \\\n",
      "Graduate 1         1.502529         2.330466        -1.307518   \n",
      "Graduate 2         3.054330         1.284006         2.856817   \n",
      "Graduate 3         4.829535        -0.399006         4.442507   \n",
      "Graduate 4         1.858013         4.038286         4.206277   \n",
      "Graduate 5         6.013698         3.301739         6.962382   \n",
      "\n",
      "            Simulation 9998  Simulation 9999  Simulation 10000  \n",
      "Graduate 1         2.072356         6.291000          3.425760  \n",
      "Graduate 2         2.924012         2.087480          3.868878  \n",
      "Graduate 3         1.721897         5.087609          7.872345  \n",
      "Graduate 4         3.149687         0.606496          3.133694  \n",
      "Graduate 5         4.782548        -0.213904          0.033290  \n",
      "\n",
      "[5 rows x 10000 columns]\n"
     ]
    }
   ],
   "source": [
    "# Initialize the array to store the realized values\n",
    "optimal_realized_values = np.zeros((par.N, par.K))\n",
    "\n",
    "# Iterates over each individual\n",
    "for i in range(par.N):\n",
    "    #Iterates over each career track\n",
    "    for k in range(par.K):\n",
    "        # Retrieve the 1-indexed chosen career and convert to 0-index for array access\n",
    "        career_index = chosen_careers[i, k] - 1\n",
    "        # Compute the realized value\n",
    "        noise = np.random.normal(0, par.sigma)\n",
    "        optimal_realized_values[i, k] = par.v[career_index] + noise\n",
    "\n",
    "\n",
    "# Convert chosen careers and realized values to DataFrame for visualization\n",
    "optimal_realized_values_df = pd.DataFrame(optimal_realized_values, columns=[f'Simulation {k+1}' for k in range(par.K)], index=[f'Graduate {i+1}' for i in range(par.N)])\n",
    "\n",
    "# Print the results\n",
    "print(\"\\nRealized Values for Chosen Careers:\")\n",
    "print(optimal_realized_values_df.head())"
   ]
  },
  {
   "cell_type": "markdown",
   "metadata": {},
   "source": [
    "The share of graduates choosing each career"
   ]
  },
  {
   "cell_type": "code",
   "execution_count": 10,
   "metadata": {},
   "outputs": [
    {
     "name": "stdout",
     "output_type": "stream",
     "text": [
      "\n",
      "Proportions of Chosen Careers for Each Graduate:\n",
      "             Career 1  Career 2  Career 3\n",
      "Graduate 1     0.1580    0.2991    0.5429\n",
      "Graduate 2     0.0952    0.2668    0.6380\n",
      "Graduate 3     0.0603    0.2527    0.6870\n",
      "Graduate 4     0.0511    0.2163    0.7326\n",
      "Graduate 5     0.0330    0.2101    0.7569\n",
      "Graduate 6     0.0271    0.1825    0.7904\n",
      "Graduate 7     0.0182    0.1711    0.8107\n",
      "Graduate 8     0.0088    0.1540    0.8372\n",
      "Graduate 9     0.0106    0.1449    0.8445\n",
      "Graduate 10    0.0070    0.1278    0.8652\n"
     ]
    }
   ],
   "source": [
    "# Initialize the DataFrame to hold the proportions of chosen careers for each graduate\n",
    "# Specify the data type as float directly at initialization, to avoid future warning.\n",
    "career_proportions_df = pd.DataFrame(0.0, index=[f'Graduate {i+1}' for i in range(par.N)],\n",
    "                                     columns=[f'Career {j+1}' for j in range(par.J)])\n",
    "\n",
    "\n",
    "# Calculate the proportion of choices for each career for each graduate\n",
    "for i in range(par.N):\n",
    "    # Extract the careers chosen by each individual graduate across all simulations\n",
    "    graduate_careers = chosen_careers[i, :]\n",
    "\n",
    "    # Count occurrences of each career choice for this particular graduate\n",
    "    career_counts = np.bincount(graduate_careers, minlength=par.J + 1)[1:]  # Ensures correct length and skip index 0\n",
    "\n",
    "    # Calculate the share for each career for each graduate\n",
    "    career_proportions = career_counts / par.K\n",
    "\n",
    "    # Store the results in the DataFrame\n",
    "    career_proportions_df.loc[f'Graduate {i+1}'] = career_proportions\n",
    "\n",
    "# Print the DataFrame with the proportions of chosen careers for each graduate\n",
    "print(\"\\nProportions of Chosen Careers for Each Graduate:\")\n",
    "print(career_proportions_df)"
   ]
  },
  {
   "cell_type": "markdown",
   "metadata": {},
   "source": [
    "The average subjective expected utility"
   ]
  },
  {
   "cell_type": "code",
   "execution_count": 11,
   "metadata": {},
   "outputs": [
    {
     "name": "stdout",
     "output_type": "stream",
     "text": [
      "Average Subjective Expected Utilities:\n",
      "             Average Subjective Expected Utility\n",
      "Graduate 1                              3.875311\n",
      "Graduate 2                              3.480167\n",
      "Graduate 3                              3.323341\n",
      "Graduate 4                              3.234205\n",
      "Graduate 5                              3.164882\n",
      "Graduate 6                              3.123373\n",
      "Graduate 7                              3.107815\n",
      "Graduate 8                              3.089701\n",
      "Graduate 9                              3.071294\n",
      "Graduate 10                             3.067425\n"
     ]
    }
   ],
   "source": [
    "# Calculate the average subjective expected utility for each graduate\n",
    "average_subjective_expected_utilities = np.mean(optimal_prior_expected_utilities, axis=1)  # Average over career tracks\n",
    "\n",
    "# Convert to DataFrame for visualization\n",
    "average_subjective_expected_utilities_df = pd.DataFrame(\n",
    "    average_subjective_expected_utilities, \n",
    "    columns=['Average Subjective Expected Utility'], \n",
    "    index=[f'Graduate {i+1}' for i in range(par.N)]\n",
    ")\n",
    "\n",
    "# Print\n",
    "print(\"Average Subjective Expected Utilities:\")\n",
    "print(average_subjective_expected_utilities_df)"
   ]
  },
  {
   "cell_type": "markdown",
   "metadata": {},
   "source": [
    "The average ex post realized utility given their choice"
   ]
  },
  {
   "cell_type": "code",
   "execution_count": 12,
   "metadata": {},
   "outputs": [
    {
     "name": "stdout",
     "output_type": "stream",
     "text": [
      "\n",
      "Average Realized Utilities for Each Graduate:\n",
      "             Average Realized Utility\n",
      "Graduate 1                   2.377929\n",
      "Graduate 2                   2.559496\n",
      "Graduate 3                   2.607027\n",
      "Graduate 4                   2.716535\n",
      "Graduate 5                   2.728870\n",
      "Graduate 6                   2.745551\n",
      "Graduate 7                   2.808574\n",
      "Graduate 8                   2.830879\n",
      "Graduate 9                   2.822441\n",
      "Graduate 10                  2.871346\n"
     ]
    }
   ],
   "source": [
    "# Calculate the average realized utility for each graduate\n",
    "average_realized_utilities = np.mean(optimal_realized_values, axis=1)\n",
    "\n",
    "# Convert to DataFrame for better visualization\n",
    "average_realized_utilities_df = pd.DataFrame(average_realized_utilities, columns=['Average Realized Utility'], index=[f'Graduate {i+1}' for i in range(par.N)])\n",
    "\n",
    "# Print the results\n",
    "print(\"\\nAverage Realized Utilities for Each Graduate:\")\n",
    "print(average_realized_utilities_df)"
   ]
  },
  {
   "cell_type": "markdown",
   "metadata": {},
   "source": [
    "From the above it is evident, that a larger proportion chooses Career 3, as i increases.\n",
    "\n",
    "According to the problem, the first graduate has 1 friend in each career, the second has 2 friends, ... and the tenth has 10 friends. Which means, that the graduates with the highest number, has the most information about the expected value of each career track.\n",
    "\n",
    "Therefore, the graduates with the highest index will observe that career 3 gives the highest utility, and a larger proportion will therefore choose career track 3.\n",
    "\n",
    "This is also visible in the average realized utility, where the graduates with the most friends (highest index) also gets the higest average realized utility."
   ]
  },
  {
   "cell_type": "markdown",
   "metadata": {},
   "source": [
    "**Question 3**"
   ]
  },
  {
   "cell_type": "code",
   "execution_count": 13,
   "metadata": {},
   "outputs": [],
   "source": [
    "#Set c = 1\n",
    "par.c = 1"
   ]
  },
  {
   "cell_type": "markdown",
   "metadata": {},
   "source": [
    "Step 1: Calculate the prior expected utility of each each carrer track"
   ]
  },
  {
   "cell_type": "code",
   "execution_count": 14,
   "metadata": {},
   "outputs": [
    {
     "name": "stdout",
     "output_type": "stream",
     "text": [
      "Prior expected utility of each career track:\n",
      "             Career 1  Career 2  Career 3\n",
      "Graduate 1  -0.182198  0.759754  1.935806\n",
      "Graduate 2  -0.079574  0.917418  2.240932\n",
      "Graduate 3  -0.064461  0.984635  2.368215\n",
      "Graduate 4  -0.016108  0.987526  2.517214\n",
      "Graduate 5  -0.022739  1.046645  2.542836\n",
      "Graduate 6  -0.013916  1.018291  2.596697\n",
      "Graduate 7   0.006993  1.044605  2.658666\n",
      "Graduate 8  -0.022531  1.037527  2.712237\n",
      "Graduate 9  -0.003170  1.034427  2.722023\n",
      "Graduate 10 -0.005381  1.047682  2.765823\n"
     ]
    }
   ],
   "source": [
    "# Initialize arrays for the second year's expected utilities\n",
    "second_year_expected_utilities = np.zeros((par.N, par.J, par.K))\n",
    "\n",
    "\n",
    "# Iterates over each individual \n",
    "for i in range(par.N):\n",
    "    Fi = par.F[i]\n",
    "    epsilon_fj = drawn_values[f'Graduate {i+1}']  # Retrieve the stored epsilon values\n",
    "\n",
    "    #Iterates over each career option\n",
    "    for j in range(par.J):\n",
    "        for k in range(par.K):\n",
    "            #Retrieve the chosen career from period 1\n",
    "            current_career = chosen_careers[i, k] - 1\n",
    "            if j == current_career:\n",
    "                # No switching cost if staying in the same career\n",
    "                second_year_expected_utilities[i, j, k] = optimal_realized_values[i, k]\n",
    "            else:\n",
    "                # Apply switching cost if changing careers\n",
    "                second_year_expected_utilities[i, j, k] = par.v[j] + np.mean(epsilon_fj[j, :, k]) - par.c\n",
    "\n",
    "\n",
    "# Calculate average utilities over all simulations for simplicity\n",
    "average_second_year_utilities = np.mean(second_year_expected_utilities, axis=2)\n",
    "second_year_utilities_df = pd.DataFrame(average_second_year_utilities, columns=[f'Career {j+1}' for j in range(par.J)], index=[f'Graduate {i+1}' for i in range(par.N)])\n",
    "\n",
    "# Print the results\n",
    "print(\"Prior expected utility of each career track:\")\n",
    "print(second_year_utilities_df)"
   ]
  },
  {
   "cell_type": "markdown",
   "metadata": {},
   "source": [
    "Step 2: Each i chooses the career track with the highest expected utility"
   ]
  },
  {
   "cell_type": "code",
   "execution_count": 15,
   "metadata": {},
   "outputs": [
    {
     "name": "stdout",
     "output_type": "stream",
     "text": [
      "\n",
      "Sample Chosen Careers in period 2:\n",
      "            Simulation 1  Simulation 2  Simulation 3  Simulation 4  \\\n",
      "Graduate 1             2             3             3             3   \n",
      "Graduate 2             3             3             3             1   \n",
      "Graduate 3             2             2             3             3   \n",
      "Graduate 4             3             2             3             2   \n",
      "Graduate 5             2             3             3             3   \n",
      "\n",
      "            Simulation 5  Simulation 6  Simulation 7  Simulation 8  \\\n",
      "Graduate 1             1             3             3             3   \n",
      "Graduate 2             2             3             2             2   \n",
      "Graduate 3             3             2             2             3   \n",
      "Graduate 4             3             2             3             3   \n",
      "Graduate 5             3             3             2             3   \n",
      "\n",
      "            Simulation 9  Simulation 10  ...  Simulation 9991  \\\n",
      "Graduate 1             3              3  ...                2   \n",
      "Graduate 2             3              3  ...                3   \n",
      "Graduate 3             2              3  ...                2   \n",
      "Graduate 4             3              3  ...                3   \n",
      "Graduate 5             3              3  ...                3   \n",
      "\n",
      "            Simulation 9992  Simulation 9993  Simulation 9994  \\\n",
      "Graduate 1                3                2                3   \n",
      "Graduate 2                3                3                3   \n",
      "Graduate 3                3                3                3   \n",
      "Graduate 4                3                3                2   \n",
      "Graduate 5                2                3                3   \n",
      "\n",
      "            Simulation 9995  Simulation 9996  Simulation 9997  \\\n",
      "Graduate 1                1                2                2   \n",
      "Graduate 2                2                2                3   \n",
      "Graduate 3                3                2                3   \n",
      "Graduate 4                3                2                3   \n",
      "Graduate 5                2                3                3   \n",
      "\n",
      "            Simulation 9998  Simulation 9999  Simulation 10000  \n",
      "Graduate 1                2                3                 2  \n",
      "Graduate 2                3                3                 3  \n",
      "Graduate 3                3                3                 3  \n",
      "Graduate 4                3                3                 3  \n",
      "Graduate 5                3                2                 3  \n",
      "\n",
      "[5 rows x 10000 columns]\n"
     ]
    }
   ],
   "source": [
    "#Initialize array to store the chosen careers, ensuring it's 2-dimensional\n",
    "chosen_careers2 = np.zeros((par.N, par.K), dtype=int)\n",
    "\n",
    "# Determine the career track with the highest expected utility for each simulation\n",
    "for i in range(par.N):\n",
    "    for k in range(par.K):\n",
    "        chosen_career2 = np.argmax(second_year_expected_utilities[i, :, k]) + 1  # Adding 1 to shift the index\n",
    "        chosen_careers2[i, k] = chosen_career2\n",
    "\n",
    "# Convert the chosen careers to DataFrame for visualization\n",
    "chosen_careers2_df = pd.DataFrame(chosen_careers2, columns=[f'Simulation {k+1}' for k in range(par.K)], index=[f'Graduate {i+1}' for i in range(par.N)])\n",
    "\n",
    "# Print a sample of chosen careers\n",
    "print(\"\\nSample Chosen Careers in period 2:\")\n",
    "print(chosen_careers2_df.head())"
   ]
  },
  {
   "cell_type": "markdown",
   "metadata": {},
   "source": [
    "Step 3:"
   ]
  },
  {
   "cell_type": "markdown",
   "metadata": {},
   "source": [
    "The prior expectation of the value of their chosen career"
   ]
  },
  {
   "cell_type": "code",
   "execution_count": 16,
   "metadata": {},
   "outputs": [
    {
     "name": "stdout",
     "output_type": "stream",
     "text": [
      "\n",
      "Optimal Second Year Expected Utilities:\n",
      "            Simulation 1  Simulation 2  Simulation 3  Simulation 4  \\\n",
      "Graduate 1      2.575666      1.785174      7.065535      2.356833   \n",
      "Graduate 2      5.482671      1.272548      2.212891      1.957181   \n",
      "Graduate 3      1.428686      6.286971      2.649255      3.345406   \n",
      "Graduate 4      1.998501      3.256738      5.049154      0.883848   \n",
      "Graduate 5      2.407997      4.736266      4.245274      3.575431   \n",
      "\n",
      "            Simulation 5  Simulation 6  Simulation 7  Simulation 8  \\\n",
      "Graduate 1      1.073485      2.433331      1.518189      3.211497   \n",
      "Graduate 2      0.413029      2.602918      3.087168      4.252176   \n",
      "Graduate 3      0.991647      1.411889      1.875201      4.918385   \n",
      "Graduate 4      1.542509      4.123843      1.600718      5.412622   \n",
      "Graduate 5      6.909533      3.257217      0.660874      3.020074   \n",
      "\n",
      "            Simulation 9  Simulation 10  ...  Simulation 9991  \\\n",
      "Graduate 1      1.103222       3.705861  ...         2.669616   \n",
      "Graduate 2      2.896706       2.318398  ...         0.909420   \n",
      "Graduate 3      1.687251       1.965063  ...         3.816211   \n",
      "Graduate 4      4.060292       1.255452  ...         3.690905   \n",
      "Graduate 5      4.377232       5.693420  ...         6.082730   \n",
      "\n",
      "            Simulation 9992  Simulation 9993  Simulation 9994  \\\n",
      "Graduate 1         2.835547         1.563398         5.786975   \n",
      "Graduate 2         1.689593         3.981029         3.284180   \n",
      "Graduate 3         3.777408         2.232875         3.013792   \n",
      "Graduate 4         3.337102         0.632945         0.889244   \n",
      "Graduate 5         3.704991         4.120127         0.421736   \n",
      "\n",
      "            Simulation 9995  Simulation 9996  Simulation 9997  \\\n",
      "Graduate 1         2.516301         2.330466         1.551254   \n",
      "Graduate 2         3.054330         1.284006         2.856817   \n",
      "Graduate 3         4.829535         1.956361         4.442507   \n",
      "Graduate 4         1.858013         4.038286         4.206277   \n",
      "Graduate 5         6.013698         3.301739         6.962382   \n",
      "\n",
      "            Simulation 9998  Simulation 9999  Simulation 10000  \n",
      "Graduate 1         2.072356         6.291000          3.425760  \n",
      "Graduate 2         2.924012         2.087480          3.868878  \n",
      "Graduate 3         1.721897         5.087609          7.872345  \n",
      "Graduate 4         3.149687         0.606496          3.133694  \n",
      "Graduate 5         4.782548        -0.188644          0.607790  \n",
      "\n",
      "[5 rows x 10000 columns]\n"
     ]
    }
   ],
   "source": [
    "# Initialize array for the optimal second expected utilities\n",
    "optimal_second_expected_utilities = np.zeros((par.N, par.K))\n",
    "\n",
    "# Determine the optimal expected utility for each chosen career in period 2\n",
    "for i in range(par.N):\n",
    "    for k in range(par.K):\n",
    "        optimal_career2 = chosen_careers2[i, k] - 1  # Convert to 0-index\n",
    "        optimal_second_expected_utilities[i, k] = second_year_expected_utilities[i, optimal_career2, k]\n",
    "\n",
    "# Convert to DataFrame for better visualization\n",
    "optimal_second_expected_utilities_df = pd.DataFrame(optimal_second_expected_utilities, columns=[f'Simulation {k+1}' for k in range(par.K)], index=[f'Graduate {i+1}' for i in range(par.N)])\n",
    "\n",
    "# Print the optimal second-year expected utilities\n",
    "print(\"\\nOptimal Second Year Expected Utilities:\")\n",
    "print(optimal_second_expected_utilities_df.head())"
   ]
  },
  {
   "cell_type": "markdown",
   "metadata": {},
   "source": [
    "Realized value of their choosen career track"
   ]
  },
  {
   "cell_type": "code",
   "execution_count": 17,
   "metadata": {},
   "outputs": [
    {
     "name": "stdout",
     "output_type": "stream",
     "text": [
      "Average Second-Year Realized Utilities Considering Switching Costs:\n",
      "             Career 1  Career 2  Career 3\n",
      "Graduate 1   0.194475  1.316435  2.429359\n",
      "Graduate 2   0.107948  1.306692  2.605771\n",
      "Graduate 3   0.056688  1.266498  2.679755\n",
      "Graduate 4   0.055032  1.223816  2.796011\n",
      "Graduate 5   0.027939  1.215838  2.818184\n",
      "Graduate 6   0.018177  1.170242  2.865534\n",
      "Graduate 7   0.014286  1.141836  2.943810\n",
      "Graduate 8  -0.003114  1.111784  2.979423\n",
      "Graduate 9  -0.001522  1.090978  2.990209\n",
      "Graduate 10 -0.005062  1.082467  3.035343\n"
     ]
    }
   ],
   "source": [
    "# Initialize storage for first and second year utilities\n",
    "realized_values = np.random.rand(par.N, par.K) \n",
    "second_year_realized_utilities = np.zeros((par.N, par.J, par.K))\n",
    "\n",
    "# Iterate for each individual\n",
    "for i in range(par.N):\n",
    "    Fi = par.F[i]\n",
    "    epsilon_fj = drawn_values[f'Graduate {i+1}']  # Retrieve the stored epsilon values\n",
    "\n",
    "    # Iterate for each career track\n",
    "    for j in range(par.J):\n",
    "        for k in range(par.K):\n",
    "            current_career2 = chosen_careers2[i, k] - 1\n",
    "            if j == current_career2:\n",
    "                # No switching cost if staying in the same career\n",
    "                second_year_realized_utilities[i, j, k] = optimal_realized_values[i, k]\n",
    "            else:\n",
    "                # Apply switching cost if changing careers\n",
    "                second_year_realized_utilities[i, j, k] = expected_utilities[j] - par.c\n",
    "\n",
    "# Calculate average utilities over all simulations for simplicity\n",
    "average_second_year_utilities = np.mean(second_year_realized_utilities, axis=2)\n",
    "second_year_utilities_df = pd.DataFrame(average_second_year_utilities, columns=[f'Career {j+1}' for j in range(par.J)], index=[f'Graduate {i+1}' for i in range(par.N)])\n",
    "\n",
    "# Print the results\n",
    "print(\"Average Second-Year Realized Utilities Considering Switching Costs:\")\n",
    "print(second_year_utilities_df)"
   ]
  },
  {
   "cell_type": "markdown",
   "metadata": {},
   "source": [
    "The share of graduates"
   ]
  },
  {
   "cell_type": "code",
   "execution_count": 18,
   "metadata": {},
   "outputs": [
    {
     "name": "stdout",
     "output_type": "stream",
     "text": [
      "\n",
      "Proportions of Chosen Careers for Each Graduate period 2:\n",
      "             Career 1  Career 2  Career 3\n",
      "Graduate 1     0.1379    0.2919    0.5702\n",
      "Graduate 2     0.0988    0.2686    0.6326\n",
      "Graduate 3     0.0694    0.2625    0.6681\n",
      "Graduate 4     0.0631    0.2372    0.6997\n",
      "Graduate 5     0.0460    0.2464    0.7076\n",
      "Graduate 6     0.0421    0.2293    0.7286\n",
      "Graduate 7     0.0339    0.2287    0.7374\n",
      "Graduate 8     0.0245    0.2132    0.7623\n",
      "Graduate 9     0.0248    0.2126    0.7626\n",
      "Graduate 10    0.0206    0.2051    0.7743\n"
     ]
    }
   ],
   "source": [
    "# Initialize the DataFrame to hold the proportions of chosen careers for each graduate\n",
    "career_proportions2_df = pd.DataFrame(0.0, index=[f'Graduate {i+1}' for i in range(par.N)],\n",
    "                                     columns=[f'Career {j+1}' for j in range(par.J)])\n",
    "\n",
    "\n",
    "# Calculate the proportion of choices for each career for each graduate\n",
    "for i in range(par.N):\n",
    "    # Extract the careers chosen by each individual graduate across all simulations\n",
    "    graduate_careers2 = chosen_careers2[i, :]\n",
    "\n",
    "    # Count occurrences of each career choice for this particular graduate\n",
    "    career_counts2 = np.bincount(graduate_careers2, minlength=par.J + 1)[1:]  # Ensure correct length and skip index 0\n",
    "\n",
    "    # Calculate the share for each career for this graduate\n",
    "    career_proportions2 = career_counts2 / par.K\n",
    "\n",
    "    # Store the results in the DataFrame\n",
    "    career_proportions2_df.loc[f'Graduate {i+1}'] = career_proportions2\n",
    "\n",
    "# Print the DataFrame with the proportions of chosen careers for each graduate\n",
    "print(\"\\nProportions of Chosen Careers for Each Graduate period 2:\")\n",
    "print(career_proportions2_df)"
   ]
  },
  {
   "cell_type": "markdown",
   "metadata": {},
   "source": [
    "The average subjective expected utility"
   ]
  },
  {
   "cell_type": "code",
   "execution_count": 19,
   "metadata": {},
   "outputs": [
    {
     "name": "stdout",
     "output_type": "stream",
     "text": [
      "Second period average subjective utility:\n",
      "             Overall Average Expected Utility\n",
      "Graduate 1                           2.852862\n",
      "Graduate 2                           2.913263\n",
      "Graduate 3                           2.943450\n",
      "Graduate 4                           3.002456\n",
      "Graduate 5                           2.998450\n",
      "Graduate 6                           3.013292\n",
      "Graduate 7                           3.057618\n",
      "Graduate 8                           3.059245\n",
      "Graduate 9                           3.051798\n",
      "Graduate 10                          3.090902\n"
     ]
    }
   ],
   "source": [
    "# Calculate the overall average expected utility for each graduate\n",
    "second_subjective = np.mean(optimal_second_expected_utilities, axis=(1))  # Average over both careers and simulations\n",
    "\n",
    "# Convert to DataFrame for visualization\n",
    "second_subjective_df = pd.DataFrame(second_subjective, columns=['Overall Average Expected Utility'], index=[f'Graduate {i+1}' for i in range(par.N)])\n",
    "\n",
    "# Print the overall average expected utilities\n",
    "print(\"Second period average subjective utility:\")\n",
    "print(second_subjective_df)"
   ]
  },
  {
   "cell_type": "markdown",
   "metadata": {},
   "source": [
    "Ex post realized utility given their choice"
   ]
  },
  {
   "cell_type": "code",
   "execution_count": 20,
   "metadata": {},
   "outputs": [
    {
     "name": "stdout",
     "output_type": "stream",
     "text": [
      "\n",
      "Average Realized Utilities for Each Graduate:\n",
      "             Average Realized Utility\n",
      "Graduate 1                   1.313423\n",
      "Graduate 2                   1.340137\n",
      "Graduate 3                   1.334314\n",
      "Graduate 4                   1.358287\n",
      "Graduate 5                   1.353987\n",
      "Graduate 6                   1.351318\n",
      "Graduate 7                   1.366644\n",
      "Graduate 8                   1.362698\n",
      "Graduate 9                   1.359888\n",
      "Graduate 10                  1.370916\n"
     ]
    }
   ],
   "source": [
    "# Calculate the average realized utility for each graduate\n",
    "average_realized_utilities2 = np.mean(second_year_realized_utilities, axis=(1, 2))\n",
    "\n",
    "# Convert to DataFrame for better visualization\n",
    "average_realized_utilities2_df = pd.DataFrame(average_realized_utilities2, columns=['Average Realized Utility'], index=[f'Graduate {i+1}' for i in range(par.N)])\n",
    "\n",
    "# Print the results\n",
    "print(\"\\nAverage Realized Utilities for Each Graduate:\")\n",
    "print(average_realized_utilities2_df)\n"
   ]
  },
  {
   "cell_type": "markdown",
   "metadata": {},
   "source": [
    "The share of graduates that choose to switch careers conditional on which career they chose in the first year"
   ]
  },
  {
   "cell_type": "code",
   "execution_count": 21,
   "metadata": {},
   "outputs": [
    {
     "name": "stdout",
     "output_type": "stream",
     "text": [
      "\n",
      "Percentage of Career Switches for Each Graduate:\n",
      "             Percentage of Career Switches\n",
      "Graduate 1                           28.91\n",
      "Graduate 2                           25.51\n",
      "Graduate 3                           24.28\n",
      "Graduate 4                           21.94\n",
      "Graduate 5                           21.50\n",
      "Graduate 6                           20.99\n",
      "Graduate 7                           20.02\n",
      "Graduate 8                           19.43\n",
      "Graduate 9                           19.49\n",
      "Graduate 10                          18.53\n"
     ]
    }
   ],
   "source": [
    "# Initialize an array to store the count of switches for each graduate\n",
    "switch_count_individual = np.zeros(par.N)\n",
    "\n",
    "# Iterate over each individual\n",
    "for i in range(par.N):\n",
    "    #Initialize to 0\n",
    "    switch_count = 0\n",
    "    #Iterates over each simulation\n",
    "    for k in range(par.K):\n",
    "        #Retrieve the careers chosen in period 1\n",
    "        initial_career = chosen_careers[i, k] - 1  # Convert to 0-index\n",
    "        #Retrieve the careers chosen in period 2\n",
    "        second_career = chosen_careers2[i, k] - 1  # Convert to 0-index\n",
    "\n",
    "        # Checks if the career in the second period is different form the first period\n",
    "        if initial_career != second_career:\n",
    "            switch_count += 1  # Increment switch count if careers are different\n",
    "\n",
    "    # Calculate the percentage of switches for graduates\n",
    "    switch_count_individual[i] = (switch_count / par.K) * 100\n",
    "\n",
    "# Convert to DataFrame for better visualization\n",
    "switch_count_individual_df = pd.DataFrame(switch_count_individual, columns=['Percentage of Career Switches'], index=[f'Graduate {i+1}' for i in range(par.N)])\n",
    "\n",
    "# Print the results\n",
    "print(\"\\nPercentage of Career Switches for Each Graduate:\")\n",
    "print(switch_count_individual_df)"
   ]
  },
  {
   "cell_type": "markdown",
   "metadata": {},
   "source": [
    "From the analysis, it is clear that there is a trend between having fewer friends and a higher percentage of career switches. Individuals with fewer friends, and consequently less information in the first period, are more likely to switch careers.\n",
    "\n",
    "This trend is logical because with less information initially, these individuals are more likely to choose a career with a lower payoff. By the second period, they have gained more information about which careers offer higher payoffs, making them more likely to switch to a better option."
   ]
  }
 ],
 "metadata": {
  "kernelspec": {
   "display_name": "base",
   "language": "python",
   "name": "python3"
  },
  "language_info": {
   "codemirror_mode": {
    "name": "ipython",
    "version": 3
   },
   "file_extension": ".py",
   "mimetype": "text/x-python",
   "name": "python",
   "nbconvert_exporter": "python",
   "pygments_lexer": "ipython3",
   "version": "3.11.7"
  }
 },
 "nbformat": 4,
 "nbformat_minor": 2
}
