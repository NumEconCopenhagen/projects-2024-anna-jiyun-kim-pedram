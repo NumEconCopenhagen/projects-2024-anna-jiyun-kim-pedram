{
 "cells": [
  {
   "cell_type": "markdown",
   "metadata": {},
   "source": [
    "# Inaugural Project"
   ]
  },
  {
   "attachments": {},
   "cell_type": "markdown",
   "metadata": {},
   "source": [
    "> **Note the following:** \n",
    "> 1. This is an example of how to structure your **inaugural project**.\n",
    "> 1. Remember the general advice on structuring and commenting your code\n",
    "> 1. The `inauguralproject.py` file includes a function which can be used multiple times in this notebook."
   ]
  },
  {
   "cell_type": "markdown",
   "metadata": {},
   "source": [
    "Imports and set magics:"
   ]
  },
  {
   "cell_type": "code",
   "execution_count": 74,
   "metadata": {},
   "outputs": [
    {
     "name": "stdout",
     "output_type": "stream",
     "text": [
      "The autoreload extension is already loaded. To reload it, use:\n",
      "  %reload_ext autoreload\n"
     ]
    }
   ],
   "source": [
    "import numpy as np\n",
    "import matplotlib.pyplot as plt\n",
    "from scipy.optimize import fsolve\n",
    "from scipy.optimize import minimize\n",
    "from scipy.optimize import minimize_scalar\n",
    "\n",
    "# autoreload modules when code is run. Otherwise, python will not see recent changes. \n",
    "%load_ext autoreload\n",
    "%autoreload 2\n",
    "\n",
    "# Import your own code\n",
    "import inauguralproject\n",
    "from inauguralproject import MarketModel"
   ]
  },
  {
   "cell_type": "markdown",
   "metadata": {},
   "source": [
    "# Question 1"
   ]
  },
  {
   "cell_type": "markdown",
   "metadata": {},
   "source": [
    "To illustrate the combinations of X1A and X2A that leave both players as least as wekk off as they were when consuming their endowments, we first call our model.\n",
    "\n",
    "Then we find the pareto-improvements for different endowments levels. The pareto improvement set, is plottet into the edgeworth box. "
   ]
  },
  {
   "cell_type": "code",
   "execution_count": 75,
   "metadata": {},
   "outputs": [
    {
     "data": {
      "image/png": "[encoded data removed]",
      "text/plain": [
       "<Figure size 640x480 with 1 Axes>"
      ]
     },
     "metadata": {},
     "output_type": "display_data"
    }
   ],
   "source": [
    "\n",
    "market_model = MarketModel()\n",
    "market_model.plot_edgeworth_box()\n"
   ]
  },
  {
   "cell_type": "markdown",
   "metadata": {},
   "source": [
    "# Question 2"
   ]
  },
  {
   "cell_type": "markdown",
   "metadata": {},
   "source": [
    "In the following code, we calculate the error in the market clearing condition. \n",
    "\n",
    "We first define the p1 range, and then iterate over each value of p1. Then we calculate the error, for each p1 value. "
   ]
  },
  {
   "cell_type": "code",
   "execution_count": 76,
   "metadata": {},
   "outputs": [
    {
     "name": "stdout",
     "output_type": "stream",
     "text": [
      "For p1 = 0.50, Error: ε(p, ω) = (0.5333, -0.2667)\n",
      "For p1 = 0.70, Error: ε(p, ω) = (0.2095, -0.1467)\n",
      "For p1 = 0.90, Error: ε(p, ω) = (0.0296, -0.0267)\n",
      "For p1 = 1.10, Error: ε(p, ω) = (-0.0848, 0.0933)\n",
      "For p1 = 1.30, Error: ε(p, ω) = (-0.1641, 0.2133)\n",
      "For p1 = 1.50, Error: ε(p, ω) = (-0.2222, 0.3333)\n",
      "For p1 = 1.70, Error: ε(p, ω) = (-0.2667, 0.4533)\n",
      "For p1 = 1.90, Error: ε(p, ω) = (-0.3018, 0.5733)\n",
      "For p1 = 2.10, Error: ε(p, ω) = (-0.3302, 0.6933)\n",
      "For p1 = 2.30, Error: ε(p, ω) = (-0.3536, 0.8133)\n",
      "For p1 = 2.50, Error: ε(p, ω) = (-0.3733, 0.9333)\n"
     ]
    }
   ],
   "source": [
    "# code\n",
    "market = MarketModel()\n",
    "market.calculate_errors()"
   ]
  },
  {
   "cell_type": "markdown",
   "metadata": {},
   "source": [
    "# Question 3"
   ]
  },
  {
   "cell_type": "markdown",
   "metadata": {},
   "source": [
    "To find the market clearing price, we have used the market_clearing_condition formula. "
   ]
  },
  {
   "cell_type": "code",
   "execution_count": 77,
   "metadata": {},
   "outputs": [
    {
     "name": "stdout",
     "output_type": "stream",
     "text": [
      "Market clearing price for good 1 (p1): 0.9444444444444446\n"
     ]
    }
   ],
   "source": [
    "# code\n",
    "market = MarketModel()\n",
    "\n",
    "# Finding p1 that satisfies the market clearing condition using fsolve. This is done by finding the price p1, that makes the funtion return 0. Meaning there is no exces demand or supply.\n",
    "market_clearing_price = fsolve(market.market_clearing_condition, x0=1)  # Starting guess at p1 = 1\n",
    "print(f\"Market clearing price for good 1 (p1): {market_clearing_price[0]}\")\n"
   ]
  },
  {
   "cell_type": "markdown",
   "metadata": {},
   "source": [
    "# Question 4.a"
   ]
  },
  {
   "cell_type": "code",
   "execution_count": 78,
   "metadata": {},
   "outputs": [
    {
     "name": "stdout",
     "output_type": "stream",
     "text": [
      "Optimal price p1 in P1: 2.4733333333333336\n",
      "Maximum utility for A: 0.891562906874459\n"
     ]
    }
   ],
   "source": [
    "# Display the results\n",
    "import numpy as np\n",
    "# Parameters\n",
    "N = 75\n",
    "alpha = 1/3\n",
    "\n",
    "# Initial endowments\n",
    "w_1_A = 0.8\n",
    "w_2_A = 0.3\n",
    "\n",
    "# Price of good 2 (numeraire)\n",
    "p_2 = 1\n",
    "\n",
    "# Agent A's utility function\n",
    "def u_A(x_1, x_2):\n",
    "    return x_1**alpha * x_2**(1-alpha)\n",
    "\n",
    "# Agent A's demand functions for goods 1 and 2\n",
    "def A_demand_1(p_1, w_1_A, w_2_A):\n",
    "    return alpha * (p_1 * w_1_A + p_2*w_2_A) / p_1\n",
    "\n",
    "def A_demand_2(p_1, w_1_A, w_2_A):\n",
    "    return (1-alpha) * (p_1 * w_1_A + p_2*w_2_A) / p_2\n",
    "\n",
    "# Create the price grid P1\n",
    "P1 = 0.5 + 2*np.arange(N)/N\n",
    "\n",
    "# Optimization loop\n",
    "max_utility = -np.inf\n",
    "optimal_p1 = None\n",
    "\n",
    "for p_1 in P1:\n",
    "    # Calculate demands for A at this price\n",
    "    x_1_A = A_demand_1(p_1, w_1_A, w_2_A)\n",
    "    x_2_A = A_demand_2(p_1, w_1_A, w_2_A)\n",
    "\n",
    "    # Calculate utility for A at this price\n",
    "    current_utility = u_A(x_1_A, x_2_A)\n",
    "\n",
    "    # Update maximum utility and optimal price if current utility is higher\n",
    "    if current_utility > max_utility:\n",
    "        max_utility = current_utility\n",
    "        optimal_p1 = p_1\n",
    "\n",
    "# Display the results\n",
    "print(\"Optimal price p1 in P1:\", optimal_p1)\n",
    "print(\"Maximum utility for A:\", max_utility)"
   ]
  },
  {
   "cell_type": "markdown",
   "metadata": {},
   "source": [
    "# Question 4.b"
   ]
  },
  {
   "cell_type": "code",
   "execution_count": 79,
   "metadata": {},
   "outputs": [
    {
     "name": "stdout",
     "output_type": "stream",
     "text": [
      "Optimal price p1 in P1: None\n",
      "Maximum utility for A: -inf\n"
     ]
    }
   ],
   "source": [
    "import numpy as np\n",
    "#Parameters\n",
    "N = 75\n",
    "alpha = 1/3\n",
    "#Initial endowments\n",
    "w_1_A = 0.8\n",
    "w_2_A = 0.3\n",
    "#Price of good 2 (numeraire)\n",
    "p_2 = 1\n",
    "#A's utility function\n",
    "def u_A(x_1, x_2):\n",
    "    return x_1alpha * x_2(1-alpha)\n",
    "# demand functions for goods 1 and 2\n",
    "def A_demand_1(p_1, w_1_A, w_2_A):\n",
    "    return alpha * (p_1 * w_1_A + p_2*w_2_A) / p_1\n",
    "def A_demand_2(p_1, w_1_A, w_2_A):\n",
    "    return (1-alpha) * (p_1 * w_1_A + p_2*w_2_A) / p_2\n",
    "#Create the price grid P1\n",
    "P1 = 0.5 + 2*np.arange(N)/N\n",
    "#Optimization loop\n",
    "max_utility = -np.inf\n",
    "optimal_p1 = None\n",
    "from scipy.optimize import minimize_scalar\n",
    "def find_equilibrium_price(self):\n",
    "    epsilon = 1e-6\n",
    "    result = minimize_scalar(self.sxcess_demand, bounds = (epsilon,np.inf), method='bounded')\n",
    "    if result.success:\n",
    "        return result.x\n",
    "    else:\n",
    "        raise ValueError('Equilibrium price not found.')\n",
    "\n",
    "print(\"Optimal price p1 in P1:\", optimal_p1)\n",
    "print(\"Maximum utility for A:\", max_utility)"
   ]
  },
  {
   "cell_type": "markdown",
   "metadata": {},
   "source": [
    "# Question 5.a"
   ]
  },
  {
   "cell_type": "code",
   "execution_count": 80,
   "metadata": {},
   "outputs": [
    {
     "name": "stdout",
     "output_type": "stream",
     "text": [
      "Optimal allocation of A: x1A = 0.5757 , x2A = 0.8444\n",
      "Optimal allocation of B: x1B = 0.4243 , x2B = 0.1556\n"
     ]
    }
   ],
   "source": [
    "# model\n",
    "market = MarketModel()\n",
    "# Find allocation\n",
    "alloc_A = market.find_alloc5a()\n",
    "alloc_B = 1-alloc_A\n",
    "print(\"Optimal allocation of A: x1A =\", \"{:.4f}\".format(alloc_A[0]), \", x2A =\", \"{:.4f}\".format(alloc_A[1]))\n",
    "print(\"Optimal allocation of B: x1B =\", \"{:.4f}\".format(alloc_B[0]), \", x2B =\", \"{:.4f}\".format(alloc_B[1]))"
   ]
  },
  {
   "cell_type": "markdown",
   "metadata": {},
   "source": [
    "# Question 5.b"
   ]
  },
  {
   "cell_type": "code",
   "execution_count": 81,
   "metadata": {},
   "outputs": [
    {
     "name": "stdout",
     "output_type": "stream",
     "text": [
      "Optimal allocation of A: x1A = 0.6809 , x2A = 0.7251\n",
      "Optimal allocation of B: x1B = 0.3191 , x2B = 0.2749\n"
     ]
    }
   ],
   "source": [
    "market = MarketModel()\n",
    "\n",
    "# allocation\n",
    "alloc_A = market.find_alloc5b()\n",
    "alloc_B = 1-alloc_A\n",
    "print(\"Optimal allocation of A: x1A =\", \"{:.4f}\".format(alloc_A[0]), \", x2A =\", \"{:.4f}\".format(alloc_A[1]))\n",
    "print(\"Optimal allocation of B: x1B =\", \"{:.4f}\".format(alloc_B[0]), \", x2B =\", \"{:.4f}\".format(alloc_B[1]))\n",
    "\n"
   ]
  },
  {
   "cell_type": "markdown",
   "metadata": {},
   "source": [
    "# Question 6.a"
   ]
  },
  {
   "cell_type": "markdown",
   "metadata": {},
   "source": [
    "To maximize the aggregate utility chosen by a utiliatian social planner, we first define the new utility function. "
   ]
  },
  {
   "cell_type": "code",
   "execution_count": 82,
   "metadata": {},
   "outputs": [
    {
     "name": "stdout",
     "output_type": "stream",
     "text": [
      "Optimal allocation for A: x1A = 0.5000, x2A = 0.5000\n",
      "Optimal allocation for B: x1B = 0.5000, x2B = 0.5000\n"
     ]
    }
   ],
   "source": [
    "model = MarketModel()\n",
    "    \n",
    "#Initial guess\n",
    "x0 = [0.5, 0.5]\n",
    "bounds = [(0,1), (0,1)]\n",
    "\n",
    "result = minimize(model.objective6a, x0, bounds=bounds)\n",
    "\n",
    "#Results\n",
    "x1A_opt, x2A_opt = result.x\n",
    "x1B_opt, x2B_opt = 1-x1A_opt, 1-x2A_opt\n",
    "\n",
    "print(f\"Optimal allocation for A: x1A = {x1A_opt:.4f}, x2A = {x2A_opt:.4f}\")\n",
    "print(f\"Optimal allocation for B: x1B = {x1B_opt:.4f}, x2B = {x2B_opt:.4f}\")\n"
   ]
  },
  {
   "cell_type": "markdown",
   "metadata": {},
   "source": [
    "# Question 6.b"
   ]
  },
  {
   "cell_type": "code",
   "execution_count": 83,
   "metadata": {},
   "outputs": [
    {
     "data": {
      "image/png": "[encoded data removed]",
      "text/plain": [
       "<Figure size 600x600 with 1 Axes>"
      ]
     },
     "metadata": {},
     "output_type": "display_data"
    }
   ],
   "source": [
    "model= MarketModel()\n",
    "model.edgeworth6b()"
   ]
  },
  {
   "cell_type": "markdown",
   "metadata": {},
   "source": [
    "# Question 7"
   ]
  },
  {
   "cell_type": "markdown",
   "metadata": {},
   "source": [
    "To draw a random set with 50 elements, we first set a seed.\n",
    "\n",
    "Then we draw 50 elements for w1A and w2A from the uniform distribution.  Combine it in a tuple, W, and display the 50 sets. "
   ]
  },
  {
   "cell_type": "code",
   "execution_count": 84,
   "metadata": {},
   "outputs": [
    {
     "name": "stdout",
     "output_type": "stream",
     "text": [
      "set seed to 1987 and create numbers:\n",
      "Set W:\n",
      "Element 1: (0.2292, 0.7708)\n",
      "Element 2: (0.0691, 0.9309)\n",
      "Element 3: (0.7093, 0.2907)\n",
      "Element 4: (0.7338, 0.2662)\n",
      "Element 5: (0.4478, 0.5522)\n",
      "Element 6: (0.0551, 0.9449)\n",
      "Element 7: (0.2404, 0.7596)\n",
      "Element 8: (0.3611, 0.6389)\n",
      "Element 9: (0.5178, 0.4822)\n",
      "Element 10: (0.1706, 0.8294)\n",
      "Element 11: (0.3885, 0.6115)\n",
      "Element 12: (0.4028, 0.5972)\n",
      "Element 13: (0.2852, 0.7148)\n",
      "Element 14: (0.7362, 0.2638)\n",
      "Element 15: (0.4817, 0.5183)\n",
      "Element 16: (0.3597, 0.6403)\n",
      "Element 17: (0.4942, 0.5058)\n",
      "Element 18: (0.0722, 0.9278)\n",
      "Element 19: (0.8822, 0.1178)\n",
      "Element 20: (0.6804, 0.3196)\n",
      "Element 21: (0.6468, 0.3532)\n",
      "Element 22: (0.4163, 0.5837)\n",
      "Element 23: (0.1439, 0.8561)\n",
      "Element 24: (0.0842, 0.9158)\n",
      "Element 25: (0.3064, 0.6936)\n",
      "Element 26: (0.1938, 0.8062)\n",
      "Element 27: (0.1869, 0.8131)\n",
      "Element 28: (0.4978, 0.5022)\n",
      "Element 29: (0.7290, 0.2710)\n",
      "Element 30: (0.1302, 0.8698)\n",
      "Element 31: (0.1064, 0.8936)\n",
      "Element 32: (0.3360, 0.6640)\n",
      "Element 33: (0.7113, 0.2887)\n",
      "Element 34: (0.3038, 0.6962)\n",
      "Element 35: (0.3742, 0.6258)\n",
      "Element 36: (0.0248, 0.9752)\n",
      "Element 37: (0.2728, 0.7272)\n",
      "Element 38: (0.3275, 0.6725)\n",
      "Element 39: (0.9553, 0.0447)\n",
      "Element 40: (0.5811, 0.4189)\n",
      "Element 41: (0.7670, 0.2330)\n",
      "Element 42: (0.1345, 0.8655)\n",
      "Element 43: (0.5659, 0.4341)\n",
      "Element 44: (0.6932, 0.3068)\n",
      "Element 45: (0.3441, 0.6559)\n",
      "Element 46: (0.7740, 0.2260)\n",
      "Element 47: (0.4251, 0.5749)\n",
      "Element 48: (0.9146, 0.0854)\n",
      "Element 49: (0.1747, 0.8253)\n",
      "Element 50: (0.1448, 0.8552)\n"
     ]
    }
   ],
   "source": [
    "model = MarketModel()\n",
    "model.set7()"
   ]
  },
  {
   "cell_type": "markdown",
   "metadata": {},
   "source": [
    "# Question 8"
   ]
  },
  {
   "cell_type": "markdown",
   "metadata": {},
   "source": [
    "To find the market equilibrium allocation for each wA drawn in the previous exercise, we define a new model. \n",
    "\n",
    "We find the equilibirum price and quantity, and insert them into an edgeworth box. "
   ]
  },
  {
   "cell_type": "code",
   "execution_count": 85,
   "metadata": {},
   "outputs": [
    {
     "data": {
      "image/png": "[encoded data removed]",
      "text/plain": [
       "<Figure size 640x480 with 1 Axes>"
      ]
     },
     "metadata": {},
     "output_type": "display_data"
    }
   ],
   "source": [
    "model = MarketModel()\n",
    "model.plot_edgeworth_box()"
   ]
  }
 ],
 "metadata": {
  "kernelspec": {
   "display_name": "base",
   "language": "python",
   "name": "python3"
  },
  "language_info": {
   "codemirror_mode": {
    "name": "ipython",
    "version": 3
   },
   "file_extension": ".py",
   "mimetype": "text/x-python",
   "name": "python",
   "nbconvert_exporter": "python",
   "pygments_lexer": "ipython3",
   "version": "3.11.7"
  },
  "toc-autonumbering": true,
  "vscode": {
   "interpreter": {
    "hash": "47ef90cdf3004d3f859f1fb202523c65c07ba7c22eefd261b181f4744e2d0403"
   }
  }
 },
 "nbformat": 4,
 "nbformat_minor": 4
}
