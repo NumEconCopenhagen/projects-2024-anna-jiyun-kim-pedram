{
 "cells": [
  {
   "cell_type": "markdown",
   "metadata": {},
   "source": [
    "# Inaugural Project"
   ]
  },
  {
   "attachments": {},
   "cell_type": "markdown",
   "metadata": {},
   "source": [
    "> **Note the following:** \n",
    "> 1. This is an example of how to structure your **inaugural project**.\n",
    "> 1. Remember the general advice on structuring and commenting your code\n",
    "> 1. The `inauguralproject.py` file includes a function which can be used multiple times in this notebook."
   ]
  },
  {
   "cell_type": "markdown",
   "metadata": {},
   "source": [
    "Imports and set magics:"
   ]
  },
  {
   "cell_type": "code",
   "execution_count": 39,
   "metadata": {},
   "outputs": [
    {
     "name": "stdout",
     "output_type": "stream",
     "text": [
      "The autoreload extension is already loaded. To reload it, use:\n",
      "  %reload_ext autoreload\n"
     ]
    }
   ],
   "source": [
    "import numpy as np\n",
    "import matplotlib.pyplot as plt\n",
    "from scipy.optimize import fsolve\n",
    "from scipy.optimize import minimize\n",
    "# autoreload modules when code is run. Otherwise, python will not see recent changes. \n",
    "%load_ext autoreload\n",
    "%autoreload 2\n",
    "\n",
    "# Import your own code\n",
    "import inauguralproject\n",
    "from inauguralproject import MarketModel"
   ]
  },
  {
   "cell_type": "markdown",
   "metadata": {},
   "source": [
    "# Question 1"
   ]
  },
  {
   "cell_type": "markdown",
   "metadata": {},
   "source": [
    "**Explain how you solve the model**"
   ]
  },
  {
   "cell_type": "code",
   "execution_count": 40,
   "metadata": {},
   "outputs": [
    {
     "ename": "NameError",
     "evalue": "name 'np' is not defined",
     "output_type": "error",
     "traceback": [
      "\u001b[0;31m---------------------------------------------------------------------------\u001b[0m",
      "\u001b[0;31mNameError\u001b[0m                                 Traceback (most recent call last)",
      "Cell \u001b[0;32mIn[40], line 5\u001b[0m\n\u001b[1;32m      1\u001b[0m \u001b[38;5;66;03m# code for solving the model (remember documentation and comments)\u001b[39;00m\n\u001b[1;32m      2\u001b[0m \n\u001b[1;32m      3\u001b[0m \u001b[38;5;66;03m# Example usage\u001b[39;00m\n\u001b[1;32m      4\u001b[0m market_model \u001b[38;5;241m=\u001b[39m MarketModel()\n\u001b[0;32m----> 5\u001b[0m market_model\u001b[38;5;241m.\u001b[39mplot_edgeworth_box()\n",
      "File \u001b[0;32m~/Desktop/UNI 6.SEM/projects-2024-anna-jiyun-kim-pedram/inauguralproject/inauguralproject.py:81\u001b[0m, in \u001b[0;36mMarketModel.plot_edgeworth_box\u001b[0;34m(self)\u001b[0m\n\u001b[1;32m     79\u001b[0m \u001b[38;5;28;01mdef\u001b[39;00m \u001b[38;5;21mplot_edgeworth_box\u001b[39m(\u001b[38;5;28mself\u001b[39m):\n\u001b[1;32m     80\u001b[0m     \u001b[38;5;66;03m#Call the list with pareto improvements\u001b[39;00m\n\u001b[0;32m---> 81\u001b[0m     pareto_improvement_set \u001b[38;5;241m=\u001b[39m \u001b[38;5;28mself\u001b[39m\u001b[38;5;241m.\u001b[39mfind_pareto_improvements()\n\u001b[1;32m     82\u001b[0m     \u001b[38;5;66;03m#Takes the x-coordinates (x_A1_pareto) from the list and the y-coordinates (x_2A_pareto). If there are no pareto improvements, it assigns an empty list. \u001b[39;00m\n\u001b[1;32m     83\u001b[0m     x_A1_pareto, x_A2_pareto \u001b[38;5;241m=\u001b[39m \u001b[38;5;28mzip\u001b[39m(\u001b[38;5;241m*\u001b[39mpareto_improvement_set) \u001b[38;5;28;01mif\u001b[39;00m pareto_improvement_set \u001b[38;5;28;01melse\u001b[39;00m ([], [])\n",
      "File \u001b[0;32m~/Desktop/UNI 6.SEM/projects-2024-anna-jiyun-kim-pedram/inauguralproject/inauguralproject.py:67\u001b[0m, in \u001b[0;36mMarketModel.find_pareto_improvements\u001b[0;34m(self)\u001b[0m\n\u001b[1;32m     65\u001b[0m pareto_improvement_set \u001b[38;5;241m=\u001b[39m [] \n\u001b[1;32m     66\u001b[0m \u001b[38;5;66;03m#Iterates over the grid points within the ranges [0, self.par.w1] and [0,self.par.w2]\u001b[39;00m\n\u001b[0;32m---> 67\u001b[0m \u001b[38;5;28;01mfor\u001b[39;00m x1 \u001b[38;5;129;01min\u001b[39;00m np\u001b[38;5;241m.\u001b[39mlinspace(\u001b[38;5;241m0\u001b[39m, \u001b[38;5;28mself\u001b[39m\u001b[38;5;241m.\u001b[39mpar\u001b[38;5;241m.\u001b[39mw1, \u001b[38;5;28mself\u001b[39m\u001b[38;5;241m.\u001b[39mN \u001b[38;5;241m+\u001b[39m \u001b[38;5;241m1\u001b[39m):\n\u001b[1;32m     68\u001b[0m     \u001b[38;5;28;01mfor\u001b[39;00m x2 \u001b[38;5;129;01min\u001b[39;00m np\u001b[38;5;241m.\u001b[39mlinspace(\u001b[38;5;241m0\u001b[39m, \u001b[38;5;28mself\u001b[39m\u001b[38;5;241m.\u001b[39mpar\u001b[38;5;241m.\u001b[39mw2, \u001b[38;5;28mself\u001b[39m\u001b[38;5;241m.\u001b[39mN \u001b[38;5;241m+\u001b[39m \u001b[38;5;241m1\u001b[39m):\n\u001b[1;32m     69\u001b[0m         \u001b[38;5;66;03m# For each combination of x1 and x2 in the grid, the utility or A and B are calculated\u001b[39;00m\n\u001b[1;32m     70\u001b[0m         A_utility \u001b[38;5;241m=\u001b[39m \u001b[38;5;28mself\u001b[39m\u001b[38;5;241m.\u001b[39mutility_A(x1, x2)\n",
      "\u001b[0;31mNameError\u001b[0m: name 'np' is not defined"
     ]
    }
   ],
   "source": [
    "# code for solving the model (remember documentation and comments)\n",
    "\n",
    "# Example usage\n",
    "market_model = MarketModel()\n",
    "market_model.plot_edgeworth_box()\n"
   ]
  },
  {
   "cell_type": "markdown",
   "metadata": {},
   "source": [
    "# Question 2"
   ]
  },
  {
   "cell_type": "markdown",
   "metadata": {},
   "source": [
    "Explain your code and procedure"
   ]
  },
  {
   "cell_type": "code",
   "execution_count": null,
   "metadata": {},
   "outputs": [
    {
     "name": "stdout",
     "output_type": "stream",
     "text": [
      "For p1 = 0.50, Error: ε(p, ω) = (0.5333, -0.2667)\n",
      "For p1 = 0.70, Error: ε(p, ω) = (0.2095, -0.1467)\n",
      "For p1 = 0.90, Error: ε(p, ω) = (0.0296, -0.0267)\n",
      "For p1 = 1.10, Error: ε(p, ω) = (-0.0848, 0.0933)\n",
      "For p1 = 1.30, Error: ε(p, ω) = (-0.1641, 0.2133)\n",
      "For p1 = 1.50, Error: ε(p, ω) = (-0.2222, 0.3333)\n",
      "For p1 = 1.70, Error: ε(p, ω) = (-0.2667, 0.4533)\n",
      "For p1 = 1.90, Error: ε(p, ω) = (-0.3018, 0.5733)\n",
      "For p1 = 2.10, Error: ε(p, ω) = (-0.3302, 0.6933)\n",
      "For p1 = 2.30, Error: ε(p, ω) = (-0.3536, 0.8133)\n",
      "For p1 = 2.50, Error: ε(p, ω) = (-0.3733, 0.9333)\n"
     ]
    }
   ],
   "source": [
    "# code\n",
    "\n",
    "market = MarketModel()\n",
    "market.calculate_errors()"
   ]
  },
  {
   "cell_type": "markdown",
   "metadata": {},
   "source": [
    "# Question 3"
   ]
  },
  {
   "cell_type": "markdown",
   "metadata": {},
   "source": [
    "Explain your code and procedure"
   ]
  },
  {
   "cell_type": "code",
   "execution_count": null,
   "metadata": {},
   "outputs": [
    {
     "name": "stdout",
     "output_type": "stream",
     "text": [
      "Market clearing price for good 1 (p1): 0.9444444444444446\n"
     ]
    }
   ],
   "source": [
    "# code\n",
    "market = MarketModel()\n",
    "\n",
    "# Finding p1 that satisfies the market clearing condition using fsolve. This is done by finding the price p1, that makes the funtion return 0. Meaning there is no exces demand or supply.\n",
    "market_clearing_price = fsolve(market.market_clearing_condition, x0=1)  # Starting guess at p1 = 1\n",
    "print(f\"Market clearing price for good 1 (p1): {market_clearing_price[0]}\")\n"
   ]
  },
  {
   "cell_type": "markdown",
   "metadata": {},
   "source": [
    "ADD CONCISE CONLUSION."
   ]
  }
 ],
 "metadata": {
  "kernelspec": {
   "display_name": "base",
   "language": "python",
   "name": "python3"
  },
  "language_info": {
   "codemirror_mode": {
    "name": "ipython",
    "version": 3
   },
   "file_extension": ".py",
   "mimetype": "text/x-python",
   "name": "python",
   "nbconvert_exporter": "python",
   "pygments_lexer": "ipython3",
   "version": "3.11.7"
  },
  "toc-autonumbering": true,
  "vscode": {
   "interpreter": {
    "hash": "47ef90cdf3004d3f859f1fb202523c65c07ba7c22eefd261b181f4744e2d0403"
   }
  }
 },
 "nbformat": 4,
 "nbformat_minor": 4
}
