{
 "cells": [
  {
   "cell_type": "markdown",
   "metadata": {},
   "source": [
    "# Inaugural Project"
   ]
  },
  {
   "attachments": {},
   "cell_type": "markdown",
   "metadata": {},
   "source": [
    "> **Note the following:** \n",
    "> 1. This is an example of how to structure your **inaugural project**.\n",
    "> 1. Remember the general advice on structuring and commenting your code\n",
    "> 1. The `inauguralproject.py` file includes a function which can be used multiple times in this notebook."
   ]
  },
  {
   "cell_type": "markdown",
   "metadata": {},
   "source": [
    "Imports and set magics:"
   ]
  },
  {
   "cell_type": "code",
   "execution_count": 77,
   "metadata": {},
   "outputs": [
    {
     "name": "stdout",
     "output_type": "stream",
     "text": [
      "The autoreload extension is already loaded. To reload it, use:\n",
      "  %reload_ext autoreload\n"
     ]
    }
   ],
   "source": [
    "import numpy as np\n",
    "import matplotlib.pyplot as plt\n",
    "from scipy.optimize import fsolve\n",
    "from scipy.optimize import minimize\n",
    "# autoreload modules when code is run. Otherwise, python will not see recent changes. \n",
    "%load_ext autoreload\n",
    "%autoreload 2\n",
    "\n",
    "# Import your own code\n",
    "import inauguralproject\n",
    "from inauguralproject import MarketModel"
   ]
  },
  {
   "cell_type": "markdown",
   "metadata": {},
   "source": [
    "# Question 1"
   ]
  },
  {
   "cell_type": "markdown",
   "metadata": {},
   "source": [
    "**Explain how you solve the model**"
   ]
  },
  {
   "cell_type": "code",
   "execution_count": 78,
   "metadata": {},
   "outputs": [
    {
     "data": {
      "image/png": "[encoded data removed]",
      "text/plain": [
       "<Figure size 640x480 with 1 Axes>"
      ]
     },
     "metadata": {},
     "output_type": "display_data"
    }
   ],
   "source": [
    "# code for solving the model (remember documentation and comments)\n",
    "\n",
    "# Example usage\n",
    "market_model = MarketModel()\n",
    "market_model.plot_edgeworth_box()\n"
   ]
  },
  {
   "cell_type": "markdown",
   "metadata": {},
   "source": [
    "# Question 2"
   ]
  },
  {
   "cell_type": "markdown",
   "metadata": {},
   "source": [
    "Explain your code and procedure"
   ]
  },
  {
   "cell_type": "code",
   "execution_count": 80,
   "metadata": {},
   "outputs": [
    {
     "name": "stdout",
     "output_type": "stream",
     "text": [
      "For p1 = 0.50, Error: ε(p, ω) = (0.5333, -0.2667)\n",
      "For p1 = 0.70, Error: ε(p, ω) = (0.2095, -0.1467)\n",
      "For p1 = 0.90, Error: ε(p, ω) = (0.0296, -0.0267)\n",
      "For p1 = 1.10, Error: ε(p, ω) = (-0.0848, 0.0933)\n",
      "For p1 = 1.30, Error: ε(p, ω) = (-0.1641, 0.2133)\n",
      "For p1 = 1.50, Error: ε(p, ω) = (-0.2222, 0.3333)\n",
      "For p1 = 1.70, Error: ε(p, ω) = (-0.2667, 0.4533)\n",
      "For p1 = 1.90, Error: ε(p, ω) = (-0.3018, 0.5733)\n",
      "For p1 = 2.10, Error: ε(p, ω) = (-0.3302, 0.6933)\n",
      "For p1 = 2.30, Error: ε(p, ω) = (-0.3536, 0.8133)\n",
      "For p1 = 2.50, Error: ε(p, ω) = (-0.3733, 0.9333)\n"
     ]
    }
   ],
   "source": [
    "# code\n",
    "\n",
    "market = MarketModel()\n",
    "market.calculate_errors()"
   ]
  },
  {
   "cell_type": "markdown",
   "metadata": {},
   "source": [
    "# Question 3"
   ]
  },
  {
   "cell_type": "markdown",
   "metadata": {},
   "source": [
    "Explain your code and procedure"
   ]
  },
  {
   "cell_type": "code",
   "execution_count": null,
   "metadata": {},
   "outputs": [
    {
     "name": "stdout",
     "output_type": "stream",
     "text": [
      "Market clearing price for good 1 (p1): 0.9444444444444446\n"
     ]
    }
   ],
   "source": [
    "# code\n",
    "market = MarketModel()\n",
    "\n",
    "# Finding p1 that satisfies the market clearing condition using fsolve. This is done by finding the price p1, that makes the funtion return 0. Meaning there is no exces demand or supply.\n",
    "market_clearing_price = fsolve(market.market_clearing_condition, x0=1)  # Starting guess at p1 = 1\n",
    "print(f\"Market clearing price for good 1 (p1): {market_clearing_price[0]}\")\n"
   ]
  },
  {
   "cell_type": "markdown",
   "metadata": {},
   "source": [
    "# Question 4.a"
   ]
  },
  {
   "cell_type": "code",
   "execution_count": null,
   "metadata": {},
   "outputs": [
    {
     "name": "stdout",
     "output_type": "stream",
     "text": [
      "Optimal price p1 in P1: 2.4733333333333336\n",
      "Maximum utility for A: 0.891562906874459\n"
     ]
    }
   ],
   "source": [
    "# Display the results\n",
    "import numpy as np\n",
    "# Parameters\n",
    "N = 75\n",
    "alpha = 1/3\n",
    "\n",
    "# Initial endowments\n",
    "w_1_A = 0.8\n",
    "w_2_A = 0.3\n",
    "\n",
    "# Price of good 2 (numeraire)\n",
    "p_2 = 1\n",
    "\n",
    "# Agent A's utility function\n",
    "def u_A(x_1, x_2):\n",
    "    return x_1**alpha * x_2**(1-alpha)\n",
    "\n",
    "# Agent A's demand functions for goods 1 and 2\n",
    "def A_demand_1(p_1, w_1_A, w_2_A):\n",
    "    return alpha * (p_1 * w_1_A + p_2*w_2_A) / p_1\n",
    "\n",
    "def A_demand_2(p_1, w_1_A, w_2_A):\n",
    "    return (1-alpha) * (p_1 * w_1_A + p_2*w_2_A) / p_2\n",
    "\n",
    "# Create the price grid P1\n",
    "P1 = 0.5 + 2*np.arange(N)/N\n",
    "\n",
    "# Optimization loop\n",
    "max_utility = -np.inf\n",
    "optimal_p1 = None\n",
    "\n",
    "for p_1 in P1:\n",
    "    # Calculate demands for A at this price\n",
    "    x_1_A = A_demand_1(p_1, w_1_A, w_2_A)\n",
    "    x_2_A = A_demand_2(p_1, w_1_A, w_2_A)\n",
    "\n",
    "    # Calculate utility for A at this price\n",
    "    current_utility = u_A(x_1_A, x_2_A)\n",
    "\n",
    "    # Update maximum utility and optimal price if current utility is higher\n",
    "    if current_utility > max_utility:\n",
    "        max_utility = current_utility\n",
    "        optimal_p1 = p_1\n",
    "\n",
    "# Display the results\n",
    "print(\"Optimal price p1 in P1:\", optimal_p1)\n",
    "print(\"Maximum utility for A:\", max_utility)"
   ]
  },
  {
   "cell_type": "markdown",
   "metadata": {},
   "source": [
    "# Question 4.b"
   ]
  },
  {
   "cell_type": "code",
   "execution_count": null,
   "metadata": {},
   "outputs": [],
   "source": [
    "market = MarketModel()\n",
    "\n",
    "print(\"Optimal price p1 in P1:\", market.optimal_p1)\n",
    "print(\"Maximum utility for A:\", market.max_utility)  "
   ]
  }
 ],
 "metadata": {
  "kernelspec": {
   "display_name": "base",
   "language": "python",
   "name": "python3"
  },
  "language_info": {
   "codemirror_mode": {
    "name": "ipython",
    "version": 3
   },
   "file_extension": ".py",
   "mimetype": "text/x-python",
   "name": "python",
   "nbconvert_exporter": "python",
   "pygments_lexer": "ipython3",
   "version": "3.11.7"
  },
  "toc-autonumbering": true,
  "vscode": {
   "interpreter": {
    "hash": "47ef90cdf3004d3f859f1fb202523c65c07ba7c22eefd261b181f4744e2d0403"
   }
  }
 },
 "nbformat": 4,
 "nbformat_minor": 4
}
