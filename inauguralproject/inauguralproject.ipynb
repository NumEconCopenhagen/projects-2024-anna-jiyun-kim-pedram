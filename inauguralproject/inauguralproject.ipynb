{
 "cells": [
  {
   "cell_type": "markdown",
   "metadata": {},
   "source": [
    "# Inaugural Project"
   ]
  },
  {
   "attachments": {},
   "cell_type": "markdown",
   "metadata": {},
   "source": [
    "> **Note the following:** \n",
    "> 1. This is an example of how to structure your **inaugural project**.\n",
    "> 1. Remember the general advice on structuring and commenting your code\n",
    "> 1. The `inauguralproject.py` file includes a function which can be used multiple times in this notebook."
   ]
  },
  {
   "cell_type": "markdown",
   "metadata": {},
   "source": [
    "Imports and set magics:"
   ]
  },
  {
   "cell_type": "code",
   "execution_count": 136,
   "metadata": {},
   "outputs": [
    {
     "name": "stdout",
     "output_type": "stream",
     "text": [
      "The autoreload extension is already loaded. To reload it, use:\n",
      "  %reload_ext autoreload\n"
     ]
    }
   ],
   "source": [
    "\n",
    "\n",
    "# autoreload modules when code is run. Otherwise, python will not see recent changes. \n",
    "%load_ext autoreload\n",
    "%autoreload 2\n",
    "\n",
    "# Import your own code\n",
    "import inauguralproject\n",
    "from inauguralproject import MarketModel"
   ]
  },
  {
   "cell_type": "markdown",
   "metadata": {},
   "source": [
    "# Question 1"
   ]
  },
  {
   "cell_type": "markdown",
   "metadata": {},
   "source": [
    "To illustrate the combinations of X1A and X2A that leave both players as least as wekk off as they were when consuming their endowments, we first call our model.\n",
    "\n",
    "Then we find the pareto-improvements for different endowments levels. The pareto improvement set, is plottet into the edgeworth box. "
   ]
  },
  {
   "cell_type": "code",
   "execution_count": 137,
   "metadata": {},
   "outputs": [
    {
     "data": {
      "image/png": "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",
      "text/plain": [
       "<Figure size 640x480 with 1 Axes>"
      ]
     },
     "metadata": {},
     "output_type": "display_data"
    }
   ],
   "source": [
    "\n",
    "market_model = MarketModel()\n",
    "market_model.plot_edgeworth_box()\n"
   ]
  },
  {
   "cell_type": "markdown",
   "metadata": {},
   "source": [
    "# Question 2"
   ]
  },
  {
   "cell_type": "markdown",
   "metadata": {},
   "source": [
    "In the following code, we calculate the error in the market clearing condition. \n",
    "\n",
    "We first define the p1 range, and then iterate over each value of p1. Then we calculate the error, for each p1 value. "
   ]
  },
  {
   "cell_type": "code",
   "execution_count": 138,
   "metadata": {},
   "outputs": [
    {
     "name": "stdout",
     "output_type": "stream",
     "text": [
      "For p1 = 0.50, Error: ε(p, ω) = (0.5333, -0.2667)\n",
      "For p1 = 0.70, Error: ε(p, ω) = (0.2095, -0.1467)\n",
      "For p1 = 0.90, Error: ε(p, ω) = (0.0296, -0.0267)\n",
      "For p1 = 1.10, Error: ε(p, ω) = (-0.0848, 0.0933)\n",
      "For p1 = 1.30, Error: ε(p, ω) = (-0.1641, 0.2133)\n",
      "For p1 = 1.50, Error: ε(p, ω) = (-0.2222, 0.3333)\n",
      "For p1 = 1.70, Error: ε(p, ω) = (-0.2667, 0.4533)\n",
      "For p1 = 1.90, Error: ε(p, ω) = (-0.3018, 0.5733)\n",
      "For p1 = 2.10, Error: ε(p, ω) = (-0.3302, 0.6933)\n",
      "For p1 = 2.30, Error: ε(p, ω) = (-0.3536, 0.8133)\n",
      "For p1 = 2.50, Error: ε(p, ω) = (-0.3733, 0.9333)\n"
     ]
    }
   ],
   "source": [
    "# code\n",
    "market = MarketModel()\n",
    "market.calculate_errors()"
   ]
  },
  {
   "cell_type": "markdown",
   "metadata": {},
   "source": [
    "# Question 3"
   ]
  },
  {
   "cell_type": "markdown",
   "metadata": {},
   "source": [
    "To find the market clearing price, we have used the market_clearing_condition formula. "
   ]
  },
  {
   "cell_type": "code",
   "execution_count": 139,
   "metadata": {},
   "outputs": [
    {
     "name": "stdout",
     "output_type": "stream",
     "text": [
      "Market clearing price for good 1 (p1): 0.9444444444444446\n"
     ]
    }
   ],
   "source": [
    "# code\n",
    "market = MarketModel()\n",
    "\n",
    "# Finding p1 that satisfies the market clearing condition using fsolve. This is done by finding the price p1, that makes the funtion return 0. Meaning there is no exces demand or supply.\n",
    "market_clearing_price = fsolve(market.market_clearing_condition, x0=1)  # Starting guess at p1 = 1\n",
    "print(f\"Market clearing price for good 1 (p1): {market_clearing_price[0]}\")\n"
   ]
  },
  {
   "cell_type": "markdown",
   "metadata": {},
   "source": [
    "# Question 4.a"
   ]
  },
  "cell_type": "markdown",
   "metadata": {},
   "source": [
    "We compare the allocations differ to possible price range through guestion 4a and 4b.\n",
    "\n",
    "To find allocation, we use demand function and utility function. Eventually we find optimal price and maximum utility./n "
   ]
  },
  {
   "cell_type": "code",
   "execution_count": 140,
   "metadata": {},
   "outputs": [
    {
     "name": "stdout",
     "output_type": "stream",
     "text": [
      "Optimal price p1 in P1: 2.4733333333333336\n",
      "Maximum utility for A: 0.891562906874459\n"
     ]
    }
   ],
   "source": [
    "# Display the results\n",
    "import numpy as np\n",
    "# Parameters\n",
    "N = 75\n",
    "alpha = 1/3\n",
    "\n",
    "# Initial endowments\n",
    "w_1_A = 0.8\n",
    "w_2_A = 0.3\n",
    "\n",
    "# Price of good 2 (numeraire)\n",
    "p_2 = 1\n",
    "\n",
    "# Agent A's utility function\n",
    "def u_A(x_1, x_2):\n",
    "    return x_1**alpha * x_2**(1-alpha)\n",
    "\n",
    "# Agent A's demand functions for goods 1 and 2\n",
    "def A_demand_1(p_1, w_1_A, w_2_A):\n",
    "    return alpha * (p_1 * w_1_A + p_2*w_2_A) / p_1\n",
    "\n",
    "def A_demand_2(p_1, w_1_A, w_2_A):\n",
    "    return (1-alpha) * (p_1 * w_1_A + p_2*w_2_A) / p_2\n",
    "\n",
    "# Create the price grid P1\n",
    "P1 = 0.5 + 2*np.arange(N)/N\n",
    "\n",
    "# Optimization loop\n",
    "max_utility = -np.inf\n",
    "optimal_p1 = None\n",
    "\n",
    "for p_1 in P1:\n",
    "    # Calculate demands for A at this price\n",
    "    x_1_A = A_demand_1(p_1, w_1_A, w_2_A)\n",
    "    x_2_A = A_demand_2(p_1, w_1_A, w_2_A)\n",
    "\n",
    "    # Calculate utility for A at this price\n",
    "    current_utility = u_A(x_1_A, x_2_A)\n",
    "\n",
    "    # Update maximum utility and optimal price if current utility is higher\n",
    "    if current_utility > max_utility:\n",
    "        max_utility = current_utility\n",
    "        optimal_p1 = p_1\n",
    "\n",
    "# Display the results\n",
    "print(\"Optimal price p1 in P1:\", optimal_p1)\n",
    "print(\"Maximum utility for A:\", max_utility)"
   ]
  },
  {
   "cell_type": "markdown",
   "metadata": {},
   "source": [
    "# Question 4.b"
   ]
  },
  {
   "cell_type": "code",
   "execution_count": 141,
   "metadata": {},
   "outputs": [
    {
     "name": "stdout",
     "output_type": "stream",
     "text": [
      "Optimal price p1 in P1: None\n",
      "Maximum utility for A: -inf\n"
     ]
    }
   ],
   "source": [
    "import numpy as np\n",
    "#Parameters\n",
    "N = 75\n",
    "alpha = 1/3\n",
    "#Initial endowments\n",
    "w_1_A = 0.8\n",
    "w_2_A = 0.3\n",
    "#Price of good 2 (numeraire)\n",
    "p_2 = 1\n",
    "#A's utility function\n",
    "def u_A(x_1, x_2):\n",
    "    return x_1alpha * x_2(1-alpha)\n",
    "# demand functions for goods 1 and 2\n",
    "def A_demand_1(p_1, w_1_A, w_2_A):\n",
    "    return alpha * (p_1 * w_1_A + p_2*w_2_A) / p_1\n",
    "def A_demand_2(p_1, w_1_A, w_2_A):\n",
    "    return (1-alpha) * (p_1 * w_1_A + p_2*w_2_A) / p_2\n",
    "#Create the price grid P1\n",
    "P1 = 0.5 + 2*np.arange(N)/N\n",
    "#Optimization loop\n",
    "max_utilityb = -np.inf\n",
    "optimal_p1b = None\n",
    "from scipy.optimize import minimize_scalar\n",
    "def find_equilibrium_price(self):\n",
    "    epsilon = 1e-6\n",
    "    result = minimize_scalar(self.sxcess_demand, bounds = (epsilon,np.inf), method='bounded')\n",
    "    if result.success:\n",
    "        return result.x\n",
    "    else:\n",
    "        raise ValueError('Equilibrium price not found.')\n",
    "\n",
    "print(\"Optimal price p1 in P1:\", optimal_p1b)\n",
    "print(\"Maximum utility for A:\", max_utilityb)"
   ]
  },
  {
   "cell_type": "markdown",
   "metadata": {},
   "source": [
    "# Question 5.a"
   ]
  },
  {
   "cell_type": "markdown",
   "metadata": {},
   "source": [
    "To find the allocation we first set up the constraint that the the utility of B must not be worse than that of the utility at the initial endowment. Following this, we maximize the utility of A such that the utility is maximized within the constraint and for set C. Since (1-alpha) is greater than alpha, A will benefit from a larger consumption of good 2. This is also the case from our results. Furthermore, the utility of B when calculated is seen to converge to the utility at the initial endowment, which would make sense since it is beneficial for A to minimize the utility of B within the constraint"
   ]
  },
  {
   "cell_type": "code",
   "execution_count": 142,
   "metadata": {},
   "outputs": [
    {
     "name": "stdout",
     "output_type": "stream",
     "text": [
      "Optimal allocation of A: x1A = 0.5757 , x2A = 0.8444\n",
      "Optimal allocation of B: x1B = 0.4243 , x2B = 0.1556\n"
     ]
    }
   ],
   "source": [
    "# model\n",
    "market = MarketModel()\n",
    "# Find allocation\n",
    "alloc_Aa = market.find_alloc5a()\n",
    "alloc_Ba = 1-alloc_Aa\n",
    "print(\"Optimal allocation of A: x1A =\", \"{:.4f}\".format(alloc_Aa[0]), \", x2A =\", \"{:.4f}\".format(alloc_Aa[1]))\n",
    "print(\"Optimal allocation of B: x1B =\", \"{:.4f}\".format(alloc_Ba[0]), \", x2B =\", \"{:.4f}\".format(alloc_Ba[1]))"
   ]
  },
  {
   "cell_type": "markdown",
   "metadata": {},
   "source": [
    "# Question 5.b"
   ]
  },
  {
   "cell_type": "markdown",
   "metadata": {},
   "source": [
    "The main difference to question 5a is adjusting the allocation to incorporate the neccesary bounds for consumption of goods 1 and 2, which are now in the interval of $[0,1]$ instead of having to be in set C. Furthermore, the constraint for the utility of B being greater than, or equal to that of their utility at initial endowment is still relevant."
   ]
  },
  {
   "cell_type": "code",
   "execution_count": 143,
   "metadata": {},
   "outputs": [
    {
     "name": "stdout",
     "output_type": "stream",
     "text": [
      "Optimal allocation of A: x1A = 0.6809 , x2A = 0.7251\n",
      "Optimal allocation of B: x1B = 0.3191 , x2B = 0.2749\n"
     ]
    }
   ],
   "source": [
    "market = MarketModel()\n",
    "\n",
    "# allocation\n",
    "alloc_Ab = market.find_alloc5b()\n",
    "alloc_Bb = 1-alloc_Ab\n",
    "print(\"Optimal allocation of A: x1A =\", \"{:.4f}\".format(alloc_Ab[0]), \", x2A =\", \"{:.4f}\".format(alloc_Ab[1]))\n",
    "print(\"Optimal allocation of B: x1B =\", \"{:.4f}\".format(alloc_Bb[0]), \", x2B =\", \"{:.4f}\".format(alloc_Bb[1]))\n",
    "\n"
   ]
  },
  {
   "cell_type": "markdown",
   "metadata": {},
   "source": [
    "# Question 6.a"
   ]
  },
  {
   "cell_type": "markdown",
   "metadata": {},
   "source": [
    "To maximize the aggregate utility chosen by a utiliatian social planner, we first define the new utility function. "
   ]
  },
  {
   "cell_type": "code",
   "execution_count": 144,
   "metadata": {},
   "outputs": [
    {
     "name": "stdout",
     "output_type": "stream",
     "text": [
      "Optimal allocation for A: x1A = 0.5000, x2A = 0.5000\n",
      "Optimal allocation for B: x1B = 0.5000, x2B = 0.5000\n"
     ]
    }
   ],
   "source": [
    "model = MarketModel()\n",
    "    \n",
    "#Initial guess\n",
    "x0 = [0.5, 0.5]\n",
    "bounds = [(0,1), (0,1)]\n",
    "\n",
    "result = minimize(model.objective6a, x0, bounds=bounds)\n",
    "\n",
    "#Results\n",
    "x1A_opt, x2A_opt = result.x\n",
    "x1B_opt, x2B_opt = 1-x1A_opt, 1-x2A_opt\n",
    "\n",
    "print(f\"Optimal allocation for A: x1A = {x1A_opt:.4f}, x2A = {x2A_opt:.4f}\")\n",
    "print(f\"Optimal allocation for B: x1B = {x1B_opt:.4f}, x2B = {x2B_opt:.4f}\")\n"
   ]
  },
  {
   "cell_type": "markdown",
   "metadata": {},
   "source": [
    "# Question 6.b"
   ]
  },
  {
   "cell_type": "markdown",
   "metadata": {},
   "source": [
    "We will now compare our results in questions 3 to 5"
   ]
  },
  {
   "cell_type": "code",
   "execution_count": 145,
   "metadata": {},
   "outputs": [
    {
     "name": "stdout",
     "output_type": "stream",
     "text": [
      "Market clearing price for good 1 (p1): 0.9444444444444446\n",
      "Optimal price p1 in P1: 2.4733333333333336\n",
      "Maximum utility for A: 0.891562906874459\n",
      "Optimal price p1 in P1: None\n",
      "Maximum utility for A: -inf\n",
      "Optimal allocation of A: x1A = 0.5757 , x2A = 0.8444\n",
      "Optimal allocation of B: x1B = 0.4243 , x2B = 0.1556\n",
      "Optimal allocation for A: x1A = 0.5000, x2A = 0.5000\n",
      "Optimal allocation for B: x1B = 0.5000, x2B = 0.5000\n"
     ]
    }
   ],
   "source": [
    "#Market clearing price in question 3\n",
    "market_clearing_price = fsolve(market.market_clearing_condition, x0=1)  # Starting guess at p1 = 1\n",
    "print(f\"Market clearing price for good 1 (p1): {market_clearing_price[0]}\")\n",
    "\n",
    "#Insert results from q4a\n",
    "print(\"Optimal price p1 in P1:\", optimal_p1)\n",
    "print(\"Maximum utility for A:\", max_utility)\n",
    "\n",
    "#Insert results from q4b\n",
    "print(\"Optimal price p1 in P1:\", optimal_p1b)\n",
    "print(\"Maximum utility for A:\", max_utilityb)\n",
    "\n",
    "#Insert results from q5a\n",
    "print(\"Optimal allocation of A: x1A =\", \"{:.4f}\".format(alloc_Aa[0]), \", x2A =\", \"{:.4f}\".format(alloc_Aa[1]))\n",
    "print(\"Optimal allocation of B: x1B =\", \"{:.4f}\".format(alloc_Ba[0]), \", x2B =\", \"{:.4f}\".format(alloc_Ba[1]))\n",
    "\n",
    "#Insert results from q5b\n",
    "print(f\"Optimal allocation for A: x1A = {x1A_opt:.4f}, x2A = {x2A_opt:.4f}\")\n",
    "print(f\"Optimal allocation for B: x1B = {x1B_opt:.4f}, x2B = {x2B_opt:.4f}\")\n"
   ]
  },
  {
   "cell_type": "code",
   "execution_count": 146,
   "metadata": {},
   "outputs": [
    {
     "data": {
      "image/png": "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",
      "text/plain": [
       "<Figure size 600x600 with 1 Axes>"
      ]
     },
     "metadata": {},
     "output_type": "display_data"
    }
   ],
   "source": [
    "model= MarketModel()\n",
    "model.edgeworth6b()"
   ]
  },
  {
   "cell_type": "markdown",
   "metadata": {},
   "source": [
    "# Question 7"
   ]
  },
  {
   "cell_type": "markdown",
   "metadata": {},
   "source": [
    "To draw a random set with 50 elements, we first set a seed.\n",
    "\n",
    "Then we draw 50 elements for w1A and w2A from the uniform distribution.  Combine it in a tuple, W, and display the 50 sets. "
   ]
  },
  {
   "cell_type": "code",
   "execution_count": 147,
   "metadata": {},
   "outputs": [
    {
     "name": "stdout",
     "output_type": "stream",
     "text": [
      "set seed to 1987 and create numbers:\n",
      "Set W:\n",
      "Element 1: (0.2292, 0.7708)\n",
      "Element 2: (0.0691, 0.9309)\n",
      "Element 3: (0.7093, 0.2907)\n",
      "Element 4: (0.7338, 0.2662)\n",
      "Element 5: (0.4478, 0.5522)\n",
      "Element 6: (0.0551, 0.9449)\n",
      "Element 7: (0.2404, 0.7596)\n",
      "Element 8: (0.3611, 0.6389)\n",
      "Element 9: (0.5178, 0.4822)\n",
      "Element 10: (0.1706, 0.8294)\n",
      "Element 11: (0.3885, 0.6115)\n",
      "Element 12: (0.4028, 0.5972)\n",
      "Element 13: (0.2852, 0.7148)\n",
      "Element 14: (0.7362, 0.2638)\n",
      "Element 15: (0.4817, 0.5183)\n",
      "Element 16: (0.3597, 0.6403)\n",
      "Element 17: (0.4942, 0.5058)\n",
      "Element 18: (0.0722, 0.9278)\n",
      "Element 19: (0.8822, 0.1178)\n",
      "Element 20: (0.6804, 0.3196)\n",
      "Element 21: (0.6468, 0.3532)\n",
      "Element 22: (0.4163, 0.5837)\n",
      "Element 23: (0.1439, 0.8561)\n",
      "Element 24: (0.0842, 0.9158)\n",
      "Element 25: (0.3064, 0.6936)\n",
      "Element 26: (0.1938, 0.8062)\n",
      "Element 27: (0.1869, 0.8131)\n",
      "Element 28: (0.4978, 0.5022)\n",
      "Element 29: (0.7290, 0.2710)\n",
      "Element 30: (0.1302, 0.8698)\n",
      "Element 31: (0.1064, 0.8936)\n",
      "Element 32: (0.3360, 0.6640)\n",
      "Element 33: (0.7113, 0.2887)\n",
      "Element 34: (0.3038, 0.6962)\n",
      "Element 35: (0.3742, 0.6258)\n",
      "Element 36: (0.0248, 0.9752)\n",
      "Element 37: (0.2728, 0.7272)\n",
      "Element 38: (0.3275, 0.6725)\n",
      "Element 39: (0.9553, 0.0447)\n",
      "Element 40: (0.5811, 0.4189)\n",
      "Element 41: (0.7670, 0.2330)\n",
      "Element 42: (0.1345, 0.8655)\n",
      "Element 43: (0.5659, 0.4341)\n",
      "Element 44: (0.6932, 0.3068)\n",
      "Element 45: (0.3441, 0.6559)\n",
      "Element 46: (0.7740, 0.2260)\n",
      "Element 47: (0.4251, 0.5749)\n",
      "Element 48: (0.9146, 0.0854)\n",
      "Element 49: (0.1747, 0.8253)\n",
      "Element 50: (0.1448, 0.8552)\n"
     ]
    }
   ],
   "source": [
    "model = MarketModel()\n",
    "model.set7()"
   ]
  },
  {
   "cell_type": "markdown",
   "metadata": {},
   "source": [
    "# Question 8"
   ]
  },
  {
   "cell_type": "markdown",
   "metadata": {},
   "source": [
    "To find the market equilibrium allocation for each wA drawn in the previous exercise, we define a new model. \n",
    "\n",
    "We find the equilibirum price and quantity, and insert them into an edgeworth box. "
   ]
  },
  {
   "cell_type": "code",
   "execution_count": 148,
   "metadata": {},
   "outputs": [
    {
     "data": {
      "image/png": "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",
      "text/plain": [
       "<Figure size 640x480 with 1 Axes>"
      ]
     },
     "metadata": {},
     "output_type": "display_data"
    }
   ],
   "source": [
    "model = MarketModel()\n",
    "model.plot_edgeworth_box()"
   ]
  }
 ],
 "metadata": {
  "kernelspec": {
   "display_name": "base",
   "language": "python",
   "name": "python3"
  },
  "language_info": {
   "codemirror_mode": {
    "name": "ipython",
    "version": 3
   },
   "file_extension": ".py",
   "mimetype": "text/x-python",
   "name": "python",
   "nbconvert_exporter": "python",
   "pygments_lexer": "ipython3",
   "version": "3.11.7"
  },
  "toc-autonumbering": true,
  "vscode": {
   "interpreter": {
    "hash": "47ef90cdf3004d3f859f1fb202523c65c07ba7c22eefd261b181f4744e2d0403"
   }
  }
 },
 "nbformat": 4,
 "nbformat_minor": 4
}
