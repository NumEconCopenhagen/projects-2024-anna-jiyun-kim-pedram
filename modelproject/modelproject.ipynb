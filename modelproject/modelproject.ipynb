{
 "cells": [
  {
   "cell_type": "markdown",
   "metadata": {},
   "source": [
    "# CONSUMERS AND PRODUCERS IN MONOPOLISTIC COMPETITION"
   ]
  },
  {
   "attachments": {},
   "cell_type": "markdown",
   "metadata": {},
   "source": [
    "> **Note the following:** \n",
    "> 1. This is *not* meant to be an example of an actual **model analysis project**, just an example of how to structure such a project.\n",
    "> 1. Remember the general advice on structuring and commenting your code\n",
    "> 1. The `modelproject.py` file includes a function which could be used multiple times in this notebook."
   ]
  },
  {
   "cell_type": "markdown",
   "metadata": {},
   "source": [
    "Imports and set magics:"
   ]
  },
  {
   "cell_type": "code",
   "execution_count": 56,
   "metadata": {},
   "outputs": [
    {
     "name": "stdout",
     "output_type": "stream",
     "text": [
      "The autoreload extension is already loaded. To reload it, use:\n",
      "  %reload_ext autoreload\n"
     ]
    }
   ],
   "source": [
    "import numpy as np\n",
    "from scipy import optimize\n",
    "import sympy as sm\n",
    "\n",
    "# autoreload modules when code is run\n",
    "%load_ext autoreload\n",
    "%autoreload 2\n",
    "\n",
    "# local modules\n",
    "import modelproject"
   ]
  },
  {
   "cell_type": "markdown",
   "metadata": {},
   "source": [
    "# Model description"
   ]
  },
  {
   "cell_type": "markdown",
   "metadata": {},
   "source": [
    "In a monopolistic market with population of consumers and producers, an agent i maximizes utility as such: \n",
    "\n",
    "$U_i = C_i - \\frac{1}{\\gamma} L^{\\gamma}_i$\n",
    "\n",
    "Where the constraint is: \n",
    "\n",
    "$C_i = \\frac{P_i}{P} Y_i$\n",
    "\n",
    "$C_i$ is consumption, $L_i$ is the Labour supply, $Y_i$ is production of good i, $P_i$ is the price of good i, $P$ is aggregate price. The production is:\n",
    "\n",
    "$Y_i = L^{\\alpha}_i$\n",
    "\n",
    "The demand is:\n",
    "\n",
    "$Y_i = (\\frac{P_i}{P})^{-\\eta} Y$ \n",
    "\n",
    "$ \\Leftrightarrow \\frac{Y_i}{Y} = (\\frac{P_i}{P})^{-\\eta} $\n",
    "\n",
    "$ \\Leftrightarrow \\frac{Y_i}{Y}^{\\frac{-1}{\\eta}} =\\frac{P_i}{P}$\n",
    "\n",
    "In the above, Y is output and $\\eta$ denotes elasticity of substitution\n",
    "\n",
    "$\\gamma > 1$, $\\alpha \\in (0,1)$, and $\\eta > 1$, $x \\equiv log X$. Furthermore, the aggregate demand is (with M being money supply):\n",
    "\n",
    "$Y = \\frac{M}{P}$"
   ]
  },
  {
   "cell_type": "markdown",
   "metadata": {},
   "source": [
    "Firstly, we find FOC of the utility wrt. $Y_i$. We note that the utility can be written as the following (by substituting equations):\n",
    "\n",
    "$U_i = C_i - \\frac{1}{\\lambda} L^{\\gamma}_i \\Leftrightarrow$\n",
    "\n",
    "$U_i = \\frac{P_i}{P} Y_i - \\frac{1}{\\gamma} Y^{\\frac{\\gamma}{\\alpha}}_i \\Leftrightarrow$\n",
    "\n",
    "\n",
    "$U_i = (\\frac{Y_i}{Y})^{\\frac{-1}{\\eta}} Y_i  - \\frac{1}{\\gamma} Y^{\\frac{\\gamma}{\\alpha}}_i \\Leftrightarrow$\n",
    "\n"
   ]
  },
  {
   "cell_type": "markdown",
   "metadata": {},
   "source": [
    "Now we derive the FOC by maximizing for $Y_i$:"
   ]
  },
  {
   "cell_type": "code",
   "execution_count": 71,
   "metadata": {},
   "outputs": [
    {
     "data": {
      "text/latex": [
       "$\\displaystyle \\left(\\frac{Y_{i}}{Y}\\right)^{- \\frac{1}{\\eta}} - \\frac{\\left(\\frac{Y_{i}}{Y}\\right)^{- \\frac{1}{\\eta}}}{\\eta} - \\frac{Y_{i}^{\\frac{\\gamma}{\\alpha}}}{Y_{i} \\alpha}$"
      ],
      "text/plain": [
       "(Y_i/Y)**(-1/eta) - 1/(eta*(Y_i/Y)**(1/eta)) - Y_i**(gamma/alpha)/(Y_i*alpha)"
      ]
     },
     "execution_count": 71,
     "metadata": {},
     "output_type": "execute_result"
    }
   ],
   "source": [
    "#Defining symbols\n",
    "Y_i = sm.symbols('Y_i')\n",
    "C_i = sm.symbols('C_i')\n",
    "P_i = sm.symbols('P_i')\n",
    "P = sm.symbols('P')\n",
    "L_i = sm.symbols('L_i')\n",
    "Y = sm.symbols('Y')\n",
    "eta = sm.symbols('eta')\n",
    "gamma = sm.symbols('gamma')\n",
    "alpha = sm.symbols('alpha')\n",
    "\n",
    "U_i =( (Y_i/Y)**(-1/eta)) * Y_i  - (1/gamma) * Y_i**(gamma/alpha)\n",
    "\n",
    "#Finding derivative with regards to Y_i\n",
    "foc = sm.diff(U_i, Y_i)\n",
    "foc\n",
    "\n"
   ]
  },
  {
   "cell_type": "markdown",
   "metadata": {},
   "source": [
    "In the above we see the first order condition when maximizing $Y_i$:\n",
    "\n",
    "$(1-\\eta)(\\frac{Y_i}{Y})^{\\frac{-1}{\\eta}} = \\frac{1}{\\alpha} Y_i^{\\frac{\\gamma-\\alpha}{\\alpha}}$\n",
    "\n",
    " When substituting the constraint this can also be written as:\n",
    " \n",
    " $(1-\\eta)(\\frac{P_i}{P})= \\frac{1}{\\alpha} Y_i^{\\frac{\\gamma-\\alpha}{\\alpha}}$"
   ]
  },
  {
   "cell_type": "markdown",
   "metadata": {},
   "source": [
    "Now we linearize by logarithms:"
   ]
  },
  {
   "cell_type": "code",
   "execution_count": 84,
   "metadata": {},
   "outputs": [
    {
     "data": {
      "text/latex": [
       "$\\displaystyle - \\frac{Y_{i}^{\\frac{- \\alpha + \\gamma}{\\alpha}}}{\\alpha} + \\frac{P_{i} \\left(1 - \\frac{1}{\\eta}\\right)}{P}$"
      ],
      "text/plain": [
       "-Y_i**((-alpha + gamma)/alpha)/alpha + P_i*(1 - 1/eta)/P"
      ]
     },
     "execution_count": 84,
     "metadata": {},
     "output_type": "execute_result"
    }
   ],
   "source": [
    "foc_sub = (1-(1/eta)) *(P_i/P) - (1/alpha) * Y_i**((gamma-alpha)/alpha)"
   ]
  },
  {
   "cell_type": "markdown",
   "metadata": {},
   "source": [
    "## Analytical solution"
   ]
  },
  {
   "cell_type": "markdown",
   "metadata": {},
   "source": [
    "If your model allows for an analytical solution, you should provide here.\n",
    "\n",
    "You may use Sympy for this. Then you can characterize the solution as a function of a parameter of the model.\n",
    "\n",
    "To characterize the solution, first derive a steady state equation as a function of a parameter using Sympy.solve and then turn it into a python function by Sympy.lambdify. See the lecture notes for details. "
   ]
  },
  {
   "cell_type": "markdown",
   "metadata": {},
   "source": [
    "## Numerical solution"
   ]
  },
  {
   "cell_type": "markdown",
   "metadata": {},
   "source": [
    "You can always solve a model numerically. \n",
    "\n",
    "Define first the set of parameters you need. \n",
    "\n",
    "Then choose one of the optimization algorithms that we have gone through in the lectures based on what you think is most fitting for your model.\n",
    "\n",
    "Are there any problems with convergence? Does the model converge for all starting values? Make a lot of testing to figure these things out. "
   ]
  },
  {
   "cell_type": "markdown",
   "metadata": {},
   "source": [
    "# Further analysis"
   ]
  },
  {
   "cell_type": "markdown",
   "metadata": {},
   "source": [
    "Make detailed vizualizations of how your model changes with parameter values. \n",
    "\n",
    "Try to make an extension of the model. "
   ]
  },
  {
   "cell_type": "markdown",
   "metadata": {},
   "source": [
    "# Conclusion"
   ]
  },
  {
   "cell_type": "markdown",
   "metadata": {},
   "source": [
    "Add concise conclusion. "
   ]
  }
 ],
 "metadata": {
  "kernelspec": {
   "display_name": "base",
   "language": "python",
   "name": "python3"
  },
  "language_info": {
   "codemirror_mode": {
    "name": "ipython",
    "version": 3
   },
   "file_extension": ".py",
   "mimetype": "text/x-python",
   "name": "python",
   "nbconvert_exporter": "python",
   "pygments_lexer": "ipython3",
   "version": "3.11.7"
  },
  "toc-autonumbering": true,
  "vscode": {
   "interpreter": {
    "hash": "47ef90cdf3004d3f859f1fb202523c65c07ba7c22eefd261b181f4744e2d0403"
   }
  }
 },
 "nbformat": 4,
 "nbformat_minor": 4
}
