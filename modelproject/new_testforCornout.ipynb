{
 "cells": [
  {
   "cell_type": "code",
   "execution_count": 2,
   "metadata": {},
   "outputs": [],
   "source": [
    "import numpy as np\n",
    "from scipy import optimize\n",
    "import sympy as sm\n",
    "import matplotlib.pyplot as plt  # This line was missing\n",
    "\n",
    "# autoreload modules when code is run\n",
    "%load_ext autoreload\n",
    "%autoreload 2\n",
    "\n",
    "# local modules\n",
    "import modelproject"
   ]
  },
  {
   "cell_type": "markdown",
   "metadata": {},
   "source": [
    "Introduction"
   ]
  },
  {
   "cell_type": "markdown",
   "metadata": {},
   "source": [
    "When studying oligiopolies, one kind of monopolistic competition is called Cournot competition. In the Cournot model firms compete in quantities of output. \n",
    "\n",
    "In our assignment we want to analyze what happens, when two firms have an output competition. \n",
    "For simplicity, we assume constant MC for both firms. \n",
    "\n",
    "The price is determined by the output produced by the two firms together, via the inverse demand function. They choose their output quantity simultaneously. \n",
    "\n",
    "Furthermore we are assuming a linear demand curve. \n"
   ]
  },
  {
   "cell_type": "code",
   "execution_count": null,
   "metadata": {},
   "outputs": [],
   "source": []
  },
  {
   "cell_type": "markdown",
   "metadata": {},
   "source": [
    "Missing text"
   ]
  },
  {
   "cell_type": "markdown",
   "metadata": {},
   "source": [
    "Model description"
   ]
  },
  {
   "cell_type": "markdown",
   "metadata": {},
   "source": [
    "Missing"
   ]
  },
  {
   "cell_type": "markdown",
   "metadata": {},
   "source": [
    "Defining the model in python"
   ]
  },
  {
   "cell_type": "code",
   "execution_count": 12,
   "metadata": {},
   "outputs": [
    {
     "name": "stdout",
     "output_type": "stream",
     "text": [
      "b*q1 - c*q1 + m*q1**2 + m*q1*q2\n",
      "b*q2 - c*q2 + m*q1*q2 + m*q2**2\n"
     ]
    }
   ],
   "source": [
    "#Define variables in sympy\n",
    "\n",
    "p = sm.symbols(\"p\") #Market price\n",
    "q1 = sm.symbols(\"q1\") #Output firm 1\n",
    "q2 = sm.symbols(\"q2\") #Output firm 2\n",
    "c = sm.symbols(\"c\") #Marginal profit\n",
    "pi1 = sm.symbols(\"pi1\") #Profit for firm 1\n",
    "pi2 = sm.symbols(\"pi2\") #Profit for firm 2\n",
    "m = sm.symbols(\"m\") #Parameter for the slope of the price function\n",
    "b = sm.symbols(\"b\") # Intercept of the price function\n",
    "C1 = sm.symbols(\"C1\") #Costs for firm 1\n",
    "C2 = sm.symbols(\"C2\") #Costs for firm 2\n",
    "P = sm.symbols(\"P\")\n",
    "\n",
    "\n",
    "#Define cost functions\n",
    "cost1 = sm.Eq(C1, c*q1) #Costs for firm 1\n",
    "cost2 = sm.Eq(C2, c*q2) #Costs for firm 2\n",
    "\n",
    "#Define price function\n",
    "price_function = sm.Eq(P,m*(q1+q2) + b)\n",
    "\n",
    "#Define profit for firm 1\n",
    "profit1 =  m*q1**2 + m*q1*q2 + b*q1 - c*q1\n",
    "\n",
    "#Define profit for firm 2\n",
    "profit2 =  m*q2**2 + m*q1*q2 + b*q2 - c*q2\n",
    "\n",
    "\n",
    "print(profit1)\n",
    "print(profit2)"
   ]
  },
  {
   "cell_type": "markdown",
   "metadata": {},
   "source": [
    "In Cournot firms seeks to maximize profit. Therefore, we find the best reponse function for the two firms. "
   ]
  },
  {
   "cell_type": "code",
   "execution_count": 48,
   "metadata": {},
   "outputs": [
    {
     "data": {
      "text/latex": [
       "$\\displaystyle b - c + 2 m q_{1} + m q_{2}$"
      ],
      "text/plain": [
       "b - c + 2*m*q1 + m*q2"
      ]
     },
     "metadata": {},
     "output_type": "display_data"
    },
    {
     "data": {
      "text/latex": [
       "$\\displaystyle b - c + m q_{1} + 2 m q_{2}$"
      ],
      "text/plain": [
       "b - c + m*q1 + 2*m*q2"
      ]
     },
     "metadata": {},
     "output_type": "display_data"
    },
    {
     "data": {
      "text/latex": [
       "$\\displaystyle \\frac{- b + c - m q_{2}}{2 m}$"
      ],
      "text/plain": [
       "(-b + c - m*q2)/(2*m)"
      ]
     },
     "metadata": {},
     "output_type": "display_data"
    },
    {
     "data": {
      "text/latex": [
       "$\\displaystyle \\frac{- b + c - m q_{1}}{2 m}$"
      ],
      "text/plain": [
       "(-b + c - m*q1)/(2*m)"
      ]
     },
     "metadata": {},
     "output_type": "display_data"
    }
   ],
   "source": [
    "#First order derivative of profit for firm 1 wrt. q1 \n",
    "objective1 = sm.diff(profit1, q1)\n",
    "\n",
    "#First order derivative of profit for firm 2 wrt. q2\n",
    "objective2 = sm.diff(profit2, q2)\n",
    "\n",
    "\n",
    "display(objective1)\n",
    "display(objective2)\n",
    "\n",
    "#To find the best response functions, we isolate q1* and q2*\n",
    "BR1 = sm.solve(objective1, q1)[0] \n",
    "BR2 = sm.solve(objective2, q2)[0]\n",
    "\n",
    "display(BR1)\n",
    "display(BR2)\n"
   ]
  },
  {
   "cell_type": "markdown",
   "metadata": {},
   "source": [
    "A Nash Equilibrium in Cournot is where, both firms use their best reponse function. Graphically, this is where the two best response functions intersect. This is shon below. "
   ]
  },
  {
   "cell_type": "code",
   "execution_count": null,
   "metadata": {},
   "outputs": [],
   "source": [
    "import numpy as np\n",
    "from scipy.optimize import minimize\n",
    "\n",
    "# Parameters\n",
    "m_val, b_val, c_val = 1, 100, 10  # Example values for m, b, c\n",
    "\n",
    "# Define the profit functions\n",
    "def profit1(q1, q2):\n",
    "    return -(m_val * q1**2 + m_val * q1 * q2 + b_val * q1 - c_val * q1)\n",
    "\n",
    "def profit2(q2, q1):\n",
    "    return -(m_val * q2**2 + m_val * q1 * q2 + b_val * q2 - c_val * q2)\n",
    "\n",
    "# Define the best response functions using numerical optimization\n",
    "def best_response1(q2):\n",
    "    result = minimize(lambda q1: profit1(q1, q2), x0=0.1, bounds=[(0, None)])\n",
    "    return result.x[0]\n",
    "\n",
    "def best_response2(q1):\n",
    "    result = minimize(lambda q2: profit2(q2, q1), x0=0.1, bounds=[(0, None)])\n",
    "    return result.x[0]\n",
    "\n",
    "# Define the function to find the equilibrium by minimizing the squared differences\n",
    "def find_equilibrium(x):\n",
    "    q1, q2 = x\n",
    "    br1 = best_response1(q2)\n",
    "    br2 = best_response2(q1)\n",
    "    return (q1 - br1)**2 + (q2 - br2)**2\n",
    "\n",
    "# Initial guess\n",
    "initial_guess = [1, 1]\n",
    "\n",
    "# Optimization to find the equilibrium\n",
    "result = minimize(find_equilibrium, initial_guess, bounds=[(0, None), (0, None)])\n",
    "\n",
    "# Output the equilibrium quantities\n",
    "q1_equilibrium, q2_equilibrium = result.x\n",
    "print(\"Equilibrium quantities:\")\n",
    "print(\"q1* =\", q1_equilibrium)\n",
    "print(\"q2* =\", q2_equilibrium)"
   ]
  },
  {
   "cell_type": "markdown",
   "metadata": {},
   "source": [
    "The Cournot equilibium must therefore be: ([c-b/]/m, [c-b]/m)"
   ]
  },
  {
   "cell_type": "code",
   "execution_count": 63,
   "metadata": {},
   "outputs": [
    {
     "name": "stdout",
     "output_type": "stream",
     "text": [
      "Equilibrium quantities:\n",
      "q1* = 1.0\n",
      "q2* = 1.0\n"
     ]
    },
    {
     "name": "stderr",
     "output_type": "stream",
     "text": [
      "/var/folders/12/264rh1fs0qdgby4_yjl2rst40000gn/T/ipykernel_74038/3719402380.py:9: RuntimeWarning: overflow encountered in square\n",
      "  return -(m_val * q1**2 + m_val * q1 * q2 + b_val * q1 - c_val * q1)\n",
      "/var/folders/12/264rh1fs0qdgby4_yjl2rst40000gn/T/ipykernel_74038/3719402380.py:12: RuntimeWarning: overflow encountered in square\n",
      "  return -(m_val * q2**2 + m_val * q1 * q2 + b_val * q2 - c_val * q2)\n"
     ]
    }
   ],
   "source": []
  }
 ],
 "metadata": {
  "kernelspec": {
   "display_name": "base",
   "language": "python",
   "name": "python3"
  },
  "language_info": {
   "codemirror_mode": {
    "name": "ipython",
    "version": 3
   },
   "file_extension": ".py",
   "mimetype": "text/x-python",
   "name": "python",
   "nbconvert_exporter": "python",
   "pygments_lexer": "ipython3",
   "version": "3.11.7"
  }
 },
 "nbformat": 4,
 "nbformat_minor": 2
}
