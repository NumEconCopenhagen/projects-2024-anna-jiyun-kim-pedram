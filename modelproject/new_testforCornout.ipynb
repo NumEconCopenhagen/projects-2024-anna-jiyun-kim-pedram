{
 "cells": [
  {
   "cell_type": "code",
   "execution_count": 1,
   "metadata": {},
   "outputs": [],
   "source": [
    "import numpy as np\n",
    "from scipy import optimize\n",
    "import sympy as sm\n",
    "import matplotlib.pyplot as plt  # This line was missing\n",
    "\n",
    "# autoreload modules when code is run\n",
    "%load_ext autoreload\n",
    "%autoreload 2\n",
    "\n",
    "# local modules\n",
    "import modelproject"
   ]
  },
  {
   "cell_type": "markdown",
   "metadata": {},
   "source": [
    "Introduction"
   ]
  },
  {
   "cell_type": "markdown",
   "metadata": {},
   "source": [
    "When studying oligopolies, one kind of monopolistic competition is called Cournot competition. In the Cournot model firms compete in quantities of output. \n",
    "\n",
    "In this assignment we want to analyze what happens when two firms have an output competition. \n",
    "For simplicity, we assume constant marginal cost (MC) for both firms. \n",
    "\n",
    "The price is determined by the output produced by the two firms together, via the inverse demand function. They choose their output quantity simultaneously. \n",
    "\n",
    "Furthermore we are assuming a linear demand curve. \n"
   ]
  },
  {
   "cell_type": "markdown",
   "metadata": {},
   "source": [
    "Model description"
   ]
  },
  {
   "cell_type": "markdown",
   "metadata": {},
   "source": [
    "In this assignment, we will be analyzing a Cournot duopoly. We assume, that both firms follow a linear demand curve given by: $P = P(Q) = m \\cdot (q_1 + q_2) + b$, where m is the parameter for the slope of the price functions and b is the intercept of the price functions.\n",
    "\n",
    "The costs for the firms are given by: $C_1 = c \\cdot q_1$, and $C_2 = c \\cdot q_2. $\n",
    "\n",
    "The profit for the two firms are given by:\n",
    "\n",
    "$\\pi_1 = P \\cdot q_1 - C_1 = m \\cdot q_1^2 + m \\cdot q_1 \\cdot q2 - c \\cdot q_1 \\\\$\n",
    "$\\pi_2 = P \\cdot q_2 - C_2 = m \\cdot q_2^2 + m \\cdot q_1 \\cdot q2 - c \\cdot q_2$\n",
    "\n",
    "\n",
    "In a cournot duopoly firms want to mazimize profit. The equilibrium is present for $q_1$ and $q_2$ that satisfies the following;\n",
    "\n",
    "argmax $\\pi_1$ wrt. $q_1$, and argmax $\\pi_2$ wrt. $q_2$.\n",
    "\n",
    "If the two equations above are solved for respectively $q_1^*$ and $q_2^*$, we have the best response functions. The best response functions tells us, what firm1 and firm2's optimal output for every possible output player 2 can choose. The equilibrium is found by subsituting $q_2^*$ into $q_1^*$ and solving for $q_1^*$, getting the equilibrium output for firm 1. The same is done for firm 2, to find the equilibirum output for firm 2.  "
   ]
  },
  {
   "cell_type": "markdown",
   "metadata": {},
   "source": [
    "Defining the model in python"
   ]
  },
  {
   "cell_type": "code",
   "execution_count": 2,
   "metadata": {},
   "outputs": [
    {
     "name": "stdout",
     "output_type": "stream",
     "text": [
      "Profit firm 1 =  b*q1 - c*q1 + m*q1**2 + m*q1*q2\n",
      "Profit firm 2 = b*q2 - c*q2 + m*q1*q2 + m*q2**2\n"
     ]
    }
   ],
   "source": [
    "#Define variables in sympy\n",
    "\n",
    "p = sm.symbols(\"p\") #Market price\n",
    "q1 = sm.symbols(\"q1\") #Output firm 1\n",
    "q2 = sm.symbols(\"q2\") #Output firm 2\n",
    "c = sm.symbols(\"c\") #Marginal profit\n",
    "pi1 = sm.symbols(\"pi1\") #Profit for firm 1\n",
    "pi2 = sm.symbols(\"pi2\") #Profit for firm 2\n",
    "m = sm.symbols(\"m\") #Parameter for the slope of the price function\n",
    "b = sm.symbols(\"b\") # Intercept of the price function\n",
    "C1 = sm.symbols(\"C1\") #Costs for firm 1\n",
    "C2 = sm.symbols(\"C2\") #Costs for firm 2\n",
    "P = sm.symbols(\"P\")\n",
    "\n",
    "\n",
    "#Define cost functions\n",
    "cost1 = sm.Eq(C1, c*q1) #Costs for firm 1\n",
    "cost2 = sm.Eq(C2, c*q2) #Costs for firm 2\n",
    "\n",
    "#Define price function\n",
    "price_function = sm.Eq(P,m*(q1+q2) + b)\n",
    "\n",
    "#Define profit for firm 1\n",
    "profit1 =  m*q1**2 + m*q1*q2 + b*q1 - c*q1\n",
    "\n",
    "#Define profit for firm 2\n",
    "profit2 =  m*q2**2 + m*q1*q2 + b*q2 - c*q2\n",
    "\n",
    "\n",
    "print(\"Profit firm 1 = \", profit1)\n",
    "print(\"Profit firm 2 =\", profit2)"
   ]
  },
  {
   "cell_type": "markdown",
   "metadata": {},
   "source": [
    "In Cournot the equilibrium is found, where the two firms best response functions intersect. Therefore, we find the expressions for the best response functions"
   ]
  },
  {
   "cell_type": "code",
   "execution_count": 3,
   "metadata": {},
   "outputs": [
    {
     "data": {
      "text/plain": [
       "'Best response function for firm 1 = '"
      ]
     },
     "metadata": {},
     "output_type": "display_data"
    },
    {
     "data": {
      "text/latex": [
       "$\\displaystyle \\frac{- b + c - m q_{2}}{2 m}$"
      ],
      "text/plain": [
       "(-b + c - m*q2)/(2*m)"
      ]
     },
     "metadata": {},
     "output_type": "display_data"
    },
    {
     "data": {
      "text/plain": [
       "'Bets response function for firm 2 = '"
      ]
     },
     "metadata": {},
     "output_type": "display_data"
    },
    {
     "data": {
      "text/latex": [
       "$\\displaystyle \\frac{- b + c - m q_{1}}{2 m}$"
      ],
      "text/plain": [
       "(-b + c - m*q1)/(2*m)"
      ]
     },
     "metadata": {},
     "output_type": "display_data"
    }
   ],
   "source": [
    "#First order derivative of profit for firm 1 wrt. q1 \n",
    "objective1 = sm.diff(profit1, q1)\n",
    "\n",
    "#First order derivative of profit for firm 2 wrt. q2\n",
    "objective2 = sm.diff(profit2, q2)\n",
    "\n",
    "#To find the best response functions, we isolate q1* and q2*\n",
    "BR1 = sm.solve(objective1, q1)[0] \n",
    "BR2 = sm.solve(objective2, q2)[0]\n",
    "\n",
    "display(\"Best response function for firm 1 = \", BR1)\n",
    "display(\"Bets response function for firm 2 = \",BR2)\n"
   ]
  },
  {
   "cell_type": "markdown",
   "metadata": {},
   "source": [
    "A Nash Equilibrium in Cournot exists when both firms use their best reponse function. Graphically, this is where the two best response functions intersect. This is shown below. \n",
    "\n",
    "To find the equilibirum, we assume we know the values of m, b and c. "
   ]
  },
  {
   "cell_type": "code",
   "execution_count": 66,
   "metadata": {},
   "outputs": [
    {
     "name": "stdout",
     "output_type": "stream",
     "text": [
      "Equilibrium quantities:\n",
      "q1* = 9.999998196098943\n",
      "q2* = 9.999998196098943\n"
     ]
    }
   ],
   "source": [
    "import numpy as np\n",
    "from scipy.optimize import minimize\n",
    "\n",
    "# Parameters\n",
    "m_val, b_val, c_val = 2, 50, 110  # Example values for m, b, c\n",
    "\n",
    "# Define the profit functions with simple overflow checks\n",
    "def profit1(q1, q2):\n",
    "    return -(m_val * q1**2 + m_val * q1 * q2 + b_val * q1 - c_val * q1)\n",
    "  \n",
    "def profit2(q2, q1):\n",
    "    return -(m_val * q2**2 + m_val * q1 * q2 + b_val * q2 - c_val * q2)\n",
    " \n",
    "# Define the best response functions using numerical optimization\n",
    "def best_response1(q2):\n",
    "    result = minimize(lambda q1: profit1(q1, q2), x0=10, bounds=[(0, 50)])\n",
    "    return result.x[0]\n",
    "\n",
    "def best_response2(q1):\n",
    "    result = minimize(lambda q2: profit2(q2, q1), x0=10, bounds=[(0, 50)])\n",
    "    return result.x[0]\n",
    "\n",
    "# Define the function to find the equilibrium by minimizing the squared differences\n",
    "def find_equilibrium(x):\n",
    "    q1, q2 = x\n",
    "    br1 = best_response1(q2)\n",
    "    br2 = best_response2(q1)\n",
    "    return (q1 - br1)**2 + (q2 - br2)**2\n",
    "\n",
    "\n",
    "# Initial guess closer to expected reasonable values\n",
    "initial_guess = [10, 10]  # Assuming 20 is a middle-ground starting point\n",
    "\n",
    "# Optimization to find the equilibrium\n",
    "result = minimize(find_equilibrium, initial_guess, bounds=[(0, None), (0, None)])\n",
    "\n",
    "# Output the equilibrium quantities\n",
    "q1_equilibrium, q2_equilibrium = result.x\n",
    "print(\"Equilibrium quantities:\")\n",
    "print(\"q1* =\" , q1_equilibrium)\n",
    "print(\"q2* =\", q2_equilibrium)"
   ]
  },
  {
   "cell_type": "markdown",
   "metadata": {},
   "source": [
    "Graphically this can be shown as:"
   ]
  },
  {
   "cell_type": "markdown",
   "metadata": {},
   "source": [
    "OBS: the below is not correct. If you can fix it, it would be great"
   ]
  },
  {
   "cell_type": "code",
   "execution_count": 68,
   "metadata": {},
   "outputs": [
    {
     "data": {
      "image/png": "[encoded data removed]",
      "text/plain": [
       "<Figure size 800x600 with 1 Axes>"
      ]
     },
     "metadata": {},
     "output_type": "display_data"
    },
    {
     "name": "stdout",
     "output_type": "stream",
     "text": [
      "(-b + c - m*q2)/(2*m)\n",
      "(-b + c - m*q1)/(2*m)\n"
     ]
    }
   ],
   "source": [
    "import sympy as sm\n",
    "import numpy as np\n",
    "import matplotlib.pyplot as plt\n",
    "\n",
    "# Define symbols\n",
    "q1, q2, c, pi1, pi2, m, b, C1, C2, P = sm.symbols('q1 q2 c pi1 pi2 m b C1 C2 P')\n",
    "\n",
    "# Define cost functions\n",
    "cost1 = sm.Eq(C1, c*q1)  # Costs for firm 1\n",
    "cost2 = sm.Eq(C2, c*q2)  # Costs for firm 2\n",
    "\n",
    "# Define price function\n",
    "price_function = sm.Eq(P, m*(q1+q2) + b)\n",
    "\n",
    "# Define profit for firm 1\n",
    "profit1 =  m*q1**2 + m*q1*q2 + b*q1 - c*q1\n",
    "\n",
    "# Define profit for firm 2\n",
    "profit2 =  m*q2**2 + m*q1*q2 + b*q2 - c*q2\n",
    "\n",
    "# Differentiate profits with respect to their quantities\n",
    "objective1 = sm.diff(profit1, q1)\n",
    "objective2 = sm.diff(profit2, q2)\n",
    "\n",
    "# Solve for best response functions\n",
    "BR1 = sm.solve(objective1, q1)[0] \n",
    "BR2 = sm.solve(objective2, q2)[0]\n",
    "\n",
    "# Parameter values\n",
    "m_val, b_val, c_val = 2, 50, 110\n",
    "\n",
    "# Substitute parameter values into the best response functions\n",
    "BR1_func = sm.lambdify(q2, BR1.subs({m: m_val, b: b_val, c: c_val}))\n",
    "BR2_func = sm.lambdify(q1, BR2.subs({m: m_val, b: b_val, c: c_val}))\n",
    "\n",
    "# Generate a range of quantities for plotting\n",
    "q_range = np.linspace(0, 50, 100)\n",
    "\n",
    "# Calculate best responses over the range\n",
    "BR1_values = BR1_func(q_range)  # q1 as a function of q2\n",
    "BR2_values = BR2_func(q_range)  # q2 as a function of q1\n",
    "\n",
    "# Plotting\n",
    "plt.figure(figsize=(8, 6))\n",
    "\n",
    "# Plot BR1 within the range [0, 50]\n",
    "plt.plot(BR1_values, q_range, label='BR1: $q1$ as a function of $q2$', color='blue')  # BR1 as function of q2\n",
    "plt.plot(q_range, BR2_values, label='BR2: $q2$ as a function of $q1$', color='red')  # BR2 as function of q1\n",
    "plt.xlabel('Quantity of Firm 1 ($q1$)')\n",
    "plt.ylabel('Quantity of Firm 2 ($q2$)')\n",
    "plt.title('Best Response Functions with q1 on x-axis and q2 on y-axis')\n",
    "plt.legend()\n",
    "plt.grid(True)\n",
    "plt.xlim(0, 50)  # Set x-axis limits from 0 to 50\n",
    "plt.ylim(0, 50)  # Set y-axis limits from 0 to 50\n",
    "plt.show()\n",
    "\n",
    "print(BR1)\n",
    "print(BR2)"
   ]
  },
  {
   "cell_type": "markdown",
   "metadata": {},
   "source": [
    "To extend the model, we will look at, what happens when more firms enter the market."
   ]
  }
 ],
 "metadata": {
  "kernelspec": {
   "display_name": "base",
   "language": "python",
   "name": "python3"
  },
  "language_info": {
   "codemirror_mode": {
    "name": "ipython",
    "version": 3
   },
   "file_extension": ".py",
   "mimetype": "text/x-python",
   "name": "python",
   "nbconvert_exporter": "python",
   "pygments_lexer": "ipython3",
   "version": "3.11.7"
  }
 },
 "nbformat": 4,
 "nbformat_minor": 2
}
